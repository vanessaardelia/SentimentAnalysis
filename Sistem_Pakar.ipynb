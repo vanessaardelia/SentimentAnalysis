{
  "nbformat": 4,
  "nbformat_minor": 0,
  "metadata": {
    "colab": {
      "name": "Sistem Pakar",
      "provenance": [],
      "collapsed_sections": [
        "WtvrBOSpTVUB",
        "_7SgJBl9ZgvY",
        "kCsLVy3Q56oI",
        "_f5SLUvNyJvf",
        "Zp6HB-dKhpku",
        "ehajxbpbHmor",
        "pzxC_kW2hqos"
      ]
    },
    "kernelspec": {
      "name": "python3",
      "display_name": "Python 3"
    }
  },
  "cells": [
    {
      "cell_type": "markdown",
      "metadata": {
        "id": "C4gqwqaIrxIL"
      },
      "source": [
        "# **Connect to Drive**"
      ]
    },
    {
      "cell_type": "code",
      "metadata": {
        "id": "PjLj7LSYrCpt",
        "colab": {
          "base_uri": "https://localhost:8080/"
        },
        "outputId": "66ae482e-f933-4026-879f-b683c944bff4"
      },
      "source": [
        "from google.colab import drive\n",
        "drive.mount('/content/drive', force_remount=True)"
      ],
      "execution_count": 71,
      "outputs": [
        {
          "output_type": "stream",
          "text": [
            "Mounted at /content/drive\n"
          ],
          "name": "stdout"
        }
      ]
    },
    {
      "cell_type": "code",
      "metadata": {
        "id": "dk2eNdi_dEyY"
      },
      "source": [
        "# untuk mount gdrive\n",
        "!pip install -U -q PyDrive"
      ],
      "execution_count": 72,
      "outputs": []
    },
    {
      "cell_type": "code",
      "metadata": {
        "id": "dK0MuD5Tr36m"
      },
      "source": [
        "from pydrive.auth import GoogleAuth\n",
        "from pydrive.drive import GoogleDrive\n",
        "from google.colab import auth\n",
        "\n",
        "# untuk kasih akses ke gdrive\n",
        "from oauth2client.client import GoogleCredentials\n",
        "\n",
        "# Authenticate and create the PyDrive client.\n",
        "auth.authenticate_user()\n",
        "gauth = GoogleAuth()\n",
        "gauth.credentials = GoogleCredentials.get_application_default()\n",
        "drive = GoogleDrive(gauth)"
      ],
      "execution_count": 73,
      "outputs": []
    },
    {
      "cell_type": "markdown",
      "metadata": {
        "id": "WtvrBOSpTVUB"
      },
      "source": [
        "# **Import Library**"
      ]
    },
    {
      "cell_type": "code",
      "metadata": {
        "id": "59pKZvAxUhLu",
        "colab": {
          "base_uri": "https://localhost:8080/"
        },
        "outputId": "e2873eb5-5d9b-4c68-cdb8-1d5a88a2b531"
      },
      "source": [
        "!pip install facebook-scraper"
      ],
      "execution_count": 74,
      "outputs": [
        {
          "output_type": "stream",
          "text": [
            "Requirement already satisfied: facebook-scraper in /usr/local/lib/python3.6/dist-packages (0.2.17)\n",
            "Requirement already satisfied: dateparser<2.0.0,>=1.0.0 in /usr/local/lib/python3.6/dist-packages (from facebook-scraper) (1.0.0)\n",
            "Requirement already satisfied: requests-html<0.11.0,>=0.10.0 in /usr/local/lib/python3.6/dist-packages (from facebook-scraper) (0.10.0)\n",
            "Requirement already satisfied: tzlocal in /usr/local/lib/python3.6/dist-packages (from dateparser<2.0.0,>=1.0.0->facebook-scraper) (1.5.1)\n",
            "Requirement already satisfied: pytz in /usr/local/lib/python3.6/dist-packages (from dateparser<2.0.0,>=1.0.0->facebook-scraper) (2018.9)\n",
            "Requirement already satisfied: python-dateutil in /usr/local/lib/python3.6/dist-packages (from dateparser<2.0.0,>=1.0.0->facebook-scraper) (2.8.1)\n",
            "Requirement already satisfied: regex!=2019.02.19 in /usr/local/lib/python3.6/dist-packages (from dateparser<2.0.0,>=1.0.0->facebook-scraper) (2019.12.20)\n",
            "Requirement already satisfied: pyppeteer>=0.0.14 in /usr/local/lib/python3.6/dist-packages (from requests-html<0.11.0,>=0.10.0->facebook-scraper) (0.2.2)\n",
            "Requirement already satisfied: fake-useragent in /usr/local/lib/python3.6/dist-packages (from requests-html<0.11.0,>=0.10.0->facebook-scraper) (0.1.11)\n",
            "Requirement already satisfied: requests in /usr/local/lib/python3.6/dist-packages (from requests-html<0.11.0,>=0.10.0->facebook-scraper) (2.23.0)\n",
            "Requirement already satisfied: bs4 in /usr/local/lib/python3.6/dist-packages (from requests-html<0.11.0,>=0.10.0->facebook-scraper) (0.0.1)\n",
            "Requirement already satisfied: pyquery in /usr/local/lib/python3.6/dist-packages (from requests-html<0.11.0,>=0.10.0->facebook-scraper) (1.4.3)\n",
            "Requirement already satisfied: w3lib in /usr/local/lib/python3.6/dist-packages (from requests-html<0.11.0,>=0.10.0->facebook-scraper) (1.22.0)\n",
            "Requirement already satisfied: parse in /usr/local/lib/python3.6/dist-packages (from requests-html<0.11.0,>=0.10.0->facebook-scraper) (1.18.0)\n",
            "Requirement already satisfied: six>=1.5 in /usr/local/lib/python3.6/dist-packages (from python-dateutil->dateparser<2.0.0,>=1.0.0->facebook-scraper) (1.15.0)\n",
            "Requirement already satisfied: appdirs<2.0.0,>=1.4.3 in /usr/local/lib/python3.6/dist-packages (from pyppeteer>=0.0.14->requests-html<0.11.0,>=0.10.0->facebook-scraper) (1.4.4)\n",
            "Requirement already satisfied: websockets<9.0,>=8.1 in /usr/local/lib/python3.6/dist-packages (from pyppeteer>=0.0.14->requests-html<0.11.0,>=0.10.0->facebook-scraper) (8.1)\n",
            "Requirement already satisfied: tqdm<5.0.0,>=4.42.1 in /usr/local/lib/python3.6/dist-packages (from pyppeteer>=0.0.14->requests-html<0.11.0,>=0.10.0->facebook-scraper) (4.54.1)\n",
            "Requirement already satisfied: urllib3<2.0.0,>=1.25.8 in /usr/local/lib/python3.6/dist-packages (from pyppeteer>=0.0.14->requests-html<0.11.0,>=0.10.0->facebook-scraper) (1.26.2)\n",
            "Requirement already satisfied: pyee<8.0.0,>=7.0.1 in /usr/local/lib/python3.6/dist-packages (from pyppeteer>=0.0.14->requests-html<0.11.0,>=0.10.0->facebook-scraper) (7.0.4)\n",
            "Requirement already satisfied: chardet<4,>=3.0.2 in /usr/local/lib/python3.6/dist-packages (from requests->requests-html<0.11.0,>=0.10.0->facebook-scraper) (3.0.4)\n",
            "Requirement already satisfied: certifi>=2017.4.17 in /usr/local/lib/python3.6/dist-packages (from requests->requests-html<0.11.0,>=0.10.0->facebook-scraper) (2020.11.8)\n",
            "Requirement already satisfied: idna<3,>=2.5 in /usr/local/lib/python3.6/dist-packages (from requests->requests-html<0.11.0,>=0.10.0->facebook-scraper) (2.10)\n",
            "Requirement already satisfied: beautifulsoup4 in /usr/local/lib/python3.6/dist-packages (from bs4->requests-html<0.11.0,>=0.10.0->facebook-scraper) (4.6.3)\n",
            "Requirement already satisfied: lxml>=2.1 in /usr/local/lib/python3.6/dist-packages (from pyquery->requests-html<0.11.0,>=0.10.0->facebook-scraper) (4.2.6)\n",
            "Requirement already satisfied: cssselect>0.7.9 in /usr/local/lib/python3.6/dist-packages (from pyquery->requests-html<0.11.0,>=0.10.0->facebook-scraper) (1.1.0)\n"
          ],
          "name": "stdout"
        }
      ]
    },
    {
      "cell_type": "code",
      "metadata": {
        "id": "e5Jl9UaATULi"
      },
      "source": [
        "from facebook_scraper import get_posts\n",
        "import requests\n",
        "\n",
        "import csv\n",
        "import pandas as pd \n",
        "from pandas import DataFrame\n",
        "import numpy as np"
      ],
      "execution_count": 75,
      "outputs": []
    },
    {
      "cell_type": "code",
      "metadata": {
        "id": "wxArU7G6AFQr",
        "colab": {
          "base_uri": "https://localhost:8080/"
        },
        "outputId": "873cbe3f-7dbe-4357-dd68-bfda11117336"
      },
      "source": [
        "import nltk\n",
        "nltk.download('punkt')\n",
        "\n",
        "!pip install Sastrawi\n",
        "\n",
        "from Sastrawi.StopWordRemover.StopWordRemoverFactory import StopWordRemoverFactory, StopWordRemover, ArrayDictionary\n",
        "from Sastrawi.Stemmer.StemmerFactory import StemmerFactory\n",
        "\n",
        "import re\n",
        "import string\n",
        "\n",
        "# impor word_tokenize dari modul nltk\n",
        "from nltk.tokenize import word_tokenize\n",
        "# impor untuk memunculkan frequensi kemunculan kata\n",
        "from nltk.probability import FreqDist"
      ],
      "execution_count": 76,
      "outputs": [
        {
          "output_type": "stream",
          "text": [
            "[nltk_data] Downloading package punkt to /root/nltk_data...\n",
            "[nltk_data]   Package punkt is already up-to-date!\n",
            "Requirement already satisfied: Sastrawi in /usr/local/lib/python3.6/dist-packages (1.0.1)\n"
          ],
          "name": "stdout"
        }
      ]
    },
    {
      "cell_type": "code",
      "metadata": {
        "id": "PEgb7jtyaYxO"
      },
      "source": [
        "# Objek Datetime\n",
        "from datetime import datetime, timedelta\n",
        "# Perhitungan Akurasi\n",
        "from sklearn.metrics import accuracy_score\n",
        "# min-max normalization\n",
        "from sklearn import preprocessing"
      ],
      "execution_count": 77,
      "outputs": []
    },
    {
      "cell_type": "code",
      "metadata": {
        "colab": {
          "base_uri": "https://localhost:8080/"
        },
        "id": "ISP_rE903f6L",
        "outputId": "78203bb7-350f-46bd-dedc-ffae89a48bd1"
      },
      "source": [
        "import nltk\r\n",
        "nltk.download('punkt')\r\n",
        "\r\n",
        "!pip install Sastrawi\r\n",
        "\r\n",
        "from Sastrawi.StopWordRemover.StopWordRemoverFactory import StopWordRemoverFactory, StopWordRemover, ArrayDictionary\r\n",
        "from Sastrawi.Stemmer.StemmerFactory import StemmerFactory\r\n",
        "\r\n",
        "import re\r\n",
        "import string\r\n",
        "\r\n",
        "# impor word_tokenize dari modul nltk\r\n",
        "from nltk.tokenize import word_tokenize\r\n",
        "# impor untuk memunculkan frequensi kemunculan kata\r\n",
        "from nltk.probability import FreqDist"
      ],
      "execution_count": 78,
      "outputs": [
        {
          "output_type": "stream",
          "text": [
            "[nltk_data] Downloading package punkt to /root/nltk_data...\n",
            "[nltk_data]   Package punkt is already up-to-date!\n",
            "Requirement already satisfied: Sastrawi in /usr/local/lib/python3.6/dist-packages (1.0.1)\n"
          ],
          "name": "stdout"
        }
      ]
    },
    {
      "cell_type": "markdown",
      "metadata": {
        "id": "HYZkEftFsfyZ"
      },
      "source": [
        "# **Get Data**"
      ]
    },
    {
      "cell_type": "markdown",
      "metadata": {
        "id": "GuSIp3krZ2co"
      },
      "source": [
        "## **Get All Post**"
      ]
    },
    {
      "cell_type": "markdown",
      "metadata": {
        "id": "RB5oalx_sm9l"
      },
      "source": [
        "> Get data from Facebook Kementrian Kesehatan RI\n"
      ]
    },
    {
      "cell_type": "code",
      "metadata": {
        "id": "qkbLK-iZsd5b"
      },
      "source": [
        "datas=[]\n",
        "for post in get_posts('KementerianKesehatanRI', pages=3):\n",
        "  datas.append(post)"
      ],
      "execution_count": null,
      "outputs": []
    },
    {
      "cell_type": "code",
      "metadata": {
        "id": "LCGwavAxskyS",
        "colab": {
          "base_uri": "https://localhost:8080/"
        },
        "outputId": "a4b2158f-6f7e-44c7-a6bb-3536f76e52f4"
      },
      "source": [
        "post = DataFrame(datas)\r\n",
        "# post"
      ],
      "execution_count": null,
      "outputs": [
        {
          "output_type": "execute_result",
          "data": {
            "text/html": [
              "<div>\n",
              "<style scoped>\n",
              "    .dataframe tbody tr th:only-of-type {\n",
              "        vertical-align: middle;\n",
              "    }\n",
              "\n",
              "    .dataframe tbody tr th {\n",
              "        vertical-align: top;\n",
              "    }\n",
              "\n",
              "    .dataframe thead th {\n",
              "        text-align: right;\n",
              "    }\n",
              "</style>\n",
              "<table border=\"1\" class=\"dataframe\">\n",
              "  <thead>\n",
              "    <tr style=\"text-align: right;\">\n",
              "      <th></th>\n",
              "      <th>post_id</th>\n",
              "      <th>text</th>\n",
              "      <th>post_text</th>\n",
              "      <th>shared_text</th>\n",
              "      <th>time</th>\n",
              "      <th>image</th>\n",
              "      <th>video</th>\n",
              "      <th>video_thumbnail</th>\n",
              "      <th>video_id</th>\n",
              "      <th>likes</th>\n",
              "      <th>comments</th>\n",
              "      <th>shares</th>\n",
              "      <th>post_url</th>\n",
              "      <th>link</th>\n",
              "      <th>user_id</th>\n",
              "      <th>images</th>\n",
              "    </tr>\n",
              "  </thead>\n",
              "  <tbody>\n",
              "    <tr>\n",
              "      <th>0</th>\n",
              "      <td>4036440916385978</td>\n",
              "      <td>Hai #Healties\\n\\nYuk ikuti webinar kesehatan “...</td>\n",
              "      <td>Hai #Healties\\n\\nYuk ikuti webinar kesehatan “...</td>\n",
              "      <td></td>\n",
              "      <td>2020-12-09 13:00:00</td>\n",
              "      <td>https://scontent-sea1-1.xx.fbcdn.net/v/t1.0-9/...</td>\n",
              "      <td>None</td>\n",
              "      <td>None</td>\n",
              "      <td>None</td>\n",
              "      <td>1334</td>\n",
              "      <td>16</td>\n",
              "      <td>0</td>\n",
              "      <td>https://facebook.com/story.php?story_fbid=4036...</td>\n",
              "      <td>None</td>\n",
              "      <td>662119780484792</td>\n",
              "      <td>[https://scontent-sea1-1.xx.fbcdn.net/v/t1.0-9...</td>\n",
              "    </tr>\n",
              "    <tr>\n",
              "      <th>1</th>\n",
              "      <td>4035981553098581</td>\n",
              "      <td>#Update Perkembangan COVID-19 di Indonesia per...</td>\n",
              "      <td>#Update Perkembangan COVID-19 di Indonesia per...</td>\n",
              "      <td></td>\n",
              "      <td>2020-12-09 09:19:45</td>\n",
              "      <td>https://scontent-sea1-1.xx.fbcdn.net/v/t1.0-9/...</td>\n",
              "      <td>None</td>\n",
              "      <td>None</td>\n",
              "      <td>None</td>\n",
              "      <td>25977</td>\n",
              "      <td>615</td>\n",
              "      <td>0</td>\n",
              "      <td>https://facebook.com/story.php?story_fbid=4035...</td>\n",
              "      <td>None</td>\n",
              "      <td>662119780484792</td>\n",
              "      <td>[https://scontent-sea1-1.xx.fbcdn.net/v/t1.0-9...</td>\n",
              "    </tr>\n",
              "    <tr>\n",
              "      <th>2</th>\n",
              "      <td>4035546473142089</td>\n",
              "      <td>Hai #Healthies\\n\\nHari ini 9 Desember 2020 sel...</td>\n",
              "      <td>Hai #Healthies\\n\\nHari ini 9 Desember 2020 sel...</td>\n",
              "      <td></td>\n",
              "      <td>2020-12-09 05:03:46</td>\n",
              "      <td>https://scontent-sea1-1.xx.fbcdn.net/v/t1.0-9/...</td>\n",
              "      <td>None</td>\n",
              "      <td>None</td>\n",
              "      <td>None</td>\n",
              "      <td>2065</td>\n",
              "      <td>118</td>\n",
              "      <td>0</td>\n",
              "      <td>https://facebook.com/story.php?story_fbid=4035...</td>\n",
              "      <td>None</td>\n",
              "      <td>662119780484792</td>\n",
              "      <td>[https://scontent-sea1-1.xx.fbcdn.net/v/t1.0-9...</td>\n",
              "    </tr>\n",
              "    <tr>\n",
              "      <th>3</th>\n",
              "      <td>4035064956523574</td>\n",
              "      <td>Hai #Healthies\\n\\nHari ini para pemilih yang t...</td>\n",
              "      <td>Hai #Healthies\\n\\nHari ini para pemilih yang t...</td>\n",
              "      <td></td>\n",
              "      <td>2020-12-09 00:30:44</td>\n",
              "      <td>https://scontent-sea1-1.xx.fbcdn.net/v/t1.0-9/...</td>\n",
              "      <td>None</td>\n",
              "      <td>None</td>\n",
              "      <td>None</td>\n",
              "      <td>44120</td>\n",
              "      <td>532</td>\n",
              "      <td>0</td>\n",
              "      <td>https://facebook.com/story.php?story_fbid=4035...</td>\n",
              "      <td>None</td>\n",
              "      <td>662119780484792</td>\n",
              "      <td>[https://scontent-sea1-1.xx.fbcdn.net/v/t1.0-9...</td>\n",
              "    </tr>\n",
              "    <tr>\n",
              "      <th>4</th>\n",
              "      <td>4033728346657235</td>\n",
              "      <td>Selamat Malam #Healthies\\n\\nTanggal 9 Desember...</td>\n",
              "      <td>Selamat Malam #Healthies\\n\\nTanggal 9 Desember...</td>\n",
              "      <td></td>\n",
              "      <td>2020-12-08 13:30:42</td>\n",
              "      <td>https://scontent-sea1-1.xx.fbcdn.net/v/t1.0-9/...</td>\n",
              "      <td>None</td>\n",
              "      <td>None</td>\n",
              "      <td>None</td>\n",
              "      <td>128374</td>\n",
              "      <td>2058</td>\n",
              "      <td>0</td>\n",
              "      <td>https://facebook.com/story.php?story_fbid=4033...</td>\n",
              "      <td>None</td>\n",
              "      <td>662119780484792</td>\n",
              "      <td>[https://scontent-sea1-1.xx.fbcdn.net/v/t1.0-9...</td>\n",
              "    </tr>\n",
              "    <tr>\n",
              "      <th>5</th>\n",
              "      <td>4033473680016035</td>\n",
              "      <td>#Healthies, pada tanggal 9 Desember 2020 akan ...</td>\n",
              "      <td>#Healthies, pada tanggal 9 Desember 2020 akan ...</td>\n",
              "      <td></td>\n",
              "      <td>2020-12-08 11:36:58</td>\n",
              "      <td>None</td>\n",
              "      <td>https://video-sea1-1.xx.fbcdn.net/v/t42.1790-2...</td>\n",
              "      <td>https://scontent-sea1-1.xx.fbcdn.net/v/t15.525...</td>\n",
              "      <td>1825727884242676</td>\n",
              "      <td>1378</td>\n",
              "      <td>139</td>\n",
              "      <td>0</td>\n",
              "      <td>https://facebook.com/watch?v=1825727884242676</td>\n",
              "      <td>None</td>\n",
              "      <td>662119780484792</td>\n",
              "      <td>[]</td>\n",
              "    </tr>\n",
              "    <tr>\n",
              "      <th>6</th>\n",
              "      <td>4033118980051505</td>\n",
              "      <td>#Update Perkembangan COVID-19 di Indonesia per...</td>\n",
              "      <td>#Update Perkembangan COVID-19 di Indonesia per...</td>\n",
              "      <td></td>\n",
              "      <td>2020-12-08 08:55:09</td>\n",
              "      <td>https://scontent-sea1-1.xx.fbcdn.net/v/t1.0-9/...</td>\n",
              "      <td>None</td>\n",
              "      <td>None</td>\n",
              "      <td>None</td>\n",
              "      <td>112686</td>\n",
              "      <td>2740</td>\n",
              "      <td>0</td>\n",
              "      <td>https://facebook.com/story.php?story_fbid=4033...</td>\n",
              "      <td>None</td>\n",
              "      <td>662119780484792</td>\n",
              "      <td>[https://scontent-sea1-1.xx.fbcdn.net/v/t1.0-9...</td>\n",
              "    </tr>\n",
              "    <tr>\n",
              "      <th>7</th>\n",
              "      <td>4032929890070414</td>\n",
              "      <td>Tim taskforce Kemenkes Dorong Provinsi Papua L...</td>\n",
              "      <td>Tim taskforce Kemenkes Dorong Provinsi Papua L...</td>\n",
              "      <td>SEHATNEGERIKU.KEMKES.GO.ID\\nTim Taskforce Keme...</td>\n",
              "      <td>2020-12-08 07:10:17</td>\n",
              "      <td>None</td>\n",
              "      <td>None</td>\n",
              "      <td>None</td>\n",
              "      <td>None</td>\n",
              "      <td>320041</td>\n",
              "      <td>2801</td>\n",
              "      <td>694</td>\n",
              "      <td>https://facebook.com/story.php?story_fbid=4032...</td>\n",
              "      <td>http://sehatnegeriku.kemkes.go.id/baca/rilis-m...</td>\n",
              "      <td>662119780484792</td>\n",
              "      <td>[]</td>\n",
              "    </tr>\n",
              "    <tr>\n",
              "      <th>8</th>\n",
              "      <td>4032908823405854</td>\n",
              "      <td>#Healthies, yuk saksikan Sosialisasi Video Ani...</td>\n",
              "      <td>#Healthies, yuk saksikan Sosialisasi Video Ani...</td>\n",
              "      <td></td>\n",
              "      <td>2020-12-08 06:58:42</td>\n",
              "      <td>https://scontent-sea1-1.xx.fbcdn.net/v/t1.0-9/...</td>\n",
              "      <td>None</td>\n",
              "      <td>None</td>\n",
              "      <td>None</td>\n",
              "      <td>50522</td>\n",
              "      <td>185</td>\n",
              "      <td>0</td>\n",
              "      <td>https://facebook.com/story.php?story_fbid=4032...</td>\n",
              "      <td>https://www.youtube.com/watch?v=A44StElC2vQ</td>\n",
              "      <td>662119780484792</td>\n",
              "      <td>[https://scontent-sea1-1.xx.fbcdn.net/v/t1.0-9...</td>\n",
              "    </tr>\n",
              "    <tr>\n",
              "      <th>9</th>\n",
              "      <td>4032664880096915</td>\n",
              "      <td>Hai #Healthies\\n\\nTanggal 9 Desember 2020 akan...</td>\n",
              "      <td>Hai #Healthies\\n\\nTanggal 9 Desember 2020 akan...</td>\n",
              "      <td></td>\n",
              "      <td>2020-12-08 04:45:13</td>\n",
              "      <td>None</td>\n",
              "      <td>https://video-sea1-1.xx.fbcdn.net/v/t42.1790-2...</td>\n",
              "      <td>https://scontent-sea1-1.xx.fbcdn.net/v/t15.525...</td>\n",
              "      <td>871674140269052</td>\n",
              "      <td>33479</td>\n",
              "      <td>237</td>\n",
              "      <td>0</td>\n",
              "      <td>https://facebook.com/watch?v=871674140269052</td>\n",
              "      <td>None</td>\n",
              "      <td>662119780484792</td>\n",
              "      <td>[]</td>\n",
              "    </tr>\n",
              "  </tbody>\n",
              "</table>\n",
              "</div>"
            ],
            "text/plain": [
              "            post_id  ...                                             images\n",
              "0  4036440916385978  ...  [https://scontent-sea1-1.xx.fbcdn.net/v/t1.0-9...\n",
              "1  4035981553098581  ...  [https://scontent-sea1-1.xx.fbcdn.net/v/t1.0-9...\n",
              "2  4035546473142089  ...  [https://scontent-sea1-1.xx.fbcdn.net/v/t1.0-9...\n",
              "3  4035064956523574  ...  [https://scontent-sea1-1.xx.fbcdn.net/v/t1.0-9...\n",
              "4  4033728346657235  ...  [https://scontent-sea1-1.xx.fbcdn.net/v/t1.0-9...\n",
              "5  4033473680016035  ...                                                 []\n",
              "6  4033118980051505  ...  [https://scontent-sea1-1.xx.fbcdn.net/v/t1.0-9...\n",
              "7  4032929890070414  ...                                                 []\n",
              "8  4032908823405854  ...  [https://scontent-sea1-1.xx.fbcdn.net/v/t1.0-9...\n",
              "9  4032664880096915  ...                                                 []\n",
              "\n",
              "[10 rows x 16 columns]"
            ]
          },
          "metadata": {
            "tags": []
          },
          "execution_count": 10
        }
      ]
    },
    {
      "cell_type": "code",
      "metadata": {
        "id": "70h425TGtpGc"
      },
      "source": [
        "# Simpan dalam bentuk CSV\r\n",
        "\r\n",
        "# post.to_csv('/content/drive/My Drive/Project Sistem Pakar/Dataset/posts.csv', index=False)"
      ],
      "execution_count": null,
      "outputs": []
    },
    {
      "cell_type": "markdown",
      "metadata": {
        "id": "OXV0Ec7rwINS"
      },
      "source": [
        "## **Get Comment Detail**"
      ]
    },
    {
      "cell_type": "code",
      "metadata": {
        "colab": {
          "base_uri": "https://localhost:8080/"
        },
        "id": "2orwp72GETDg",
        "outputId": "bcb3981f-3dc9-4d8e-de1f-0853d43a90d0"
      },
      "source": [
        "# get csv untuk comment, csv ada di gdrive, diambil dengan menggunakan facepager\n",
        "\n",
        "raw_comment = pd.read_csv('drive/My Drive/Project Sistem Pakar/Dataset/raw_comments.csv', sep=';')\n",
        "print('Jumlah Raw Komen: ', len(raw_comment))"
      ],
      "execution_count": null,
      "outputs": [
        {
          "output_type": "stream",
          "text": [
            "Jumlah Raw Komen:  2512\n"
          ],
          "name": "stdout"
        }
      ]
    },
    {
      "cell_type": "code",
      "metadata": {
        "colab": {
          "base_uri": "https://localhost:8080/"
        },
        "id": "K6C1Gg23xdXU",
        "outputId": "fac74cb9-9cdd-41c2-f53f-b189ecad4cf1"
      },
      "source": [
        "raw_comment"
      ],
      "execution_count": null,
      "outputs": [
        {
          "output_type": "execute_result",
          "data": {
            "text/html": [
              "<div>\n",
              "<style scoped>\n",
              "    .dataframe tbody tr th:only-of-type {\n",
              "        vertical-align: middle;\n",
              "    }\n",
              "\n",
              "    .dataframe tbody tr th {\n",
              "        vertical-align: top;\n",
              "    }\n",
              "\n",
              "    .dataframe thead th {\n",
              "        text-align: right;\n",
              "    }\n",
              "</style>\n",
              "<table border=\"1\" class=\"dataframe\">\n",
              "  <thead>\n",
              "    <tr style=\"text-align: right;\">\n",
              "      <th></th>\n",
              "      <th>path</th>\n",
              "      <th>id</th>\n",
              "      <th>parent_id</th>\n",
              "      <th>level</th>\n",
              "      <th>object_id</th>\n",
              "      <th>object_type</th>\n",
              "      <th>query_status</th>\n",
              "      <th>query_time</th>\n",
              "      <th>query_type</th>\n",
              "      <th>message</th>\n",
              "      <th>id.1</th>\n",
              "      <th>created_time</th>\n",
              "      <th>like_count</th>\n",
              "    </tr>\n",
              "  </thead>\n",
              "  <tbody>\n",
              "    <tr>\n",
              "      <th>0</th>\n",
              "      <td>662119780484792_4004976832865720</td>\n",
              "      <td>2</td>\n",
              "      <td>1</td>\n",
              "      <td>1</td>\n",
              "      <td>662119780484792_4004976832865720</td>\n",
              "      <td>data</td>\n",
              "      <td>fetched (200)</td>\n",
              "      <td>2020-11-29 14:51:01.804228</td>\n",
              "      <td>Facebook:/&lt;page-id&gt;/posts</td>\n",
              "      <td>#Update Perkembangan COVID-19 di Indonesia per...</td>\n",
              "      <td>662119780484792_4004976832865720</td>\n",
              "      <td>2020-11-28T12:08:45+0000</td>\n",
              "      <td>NaN</td>\n",
              "    </tr>\n",
              "    <tr>\n",
              "      <th>1</th>\n",
              "      <td>662119780484792_4004976832865720/4004976832865...</td>\n",
              "      <td>12</td>\n",
              "      <td>2</td>\n",
              "      <td>2</td>\n",
              "      <td>4004976832865720_4004983519531718</td>\n",
              "      <td>data</td>\n",
              "      <td>fetched (200)</td>\n",
              "      <td>2020-11-29 14:51:56.793305</td>\n",
              "      <td>Facebook:/&lt;post-id&gt;/comments</td>\n",
              "      <td>Pemerintah sudah berusaha semaksimal mungkin m...</td>\n",
              "      <td>4004976832865720_4004983519531718</td>\n",
              "      <td>2020-11-28T12:11:41+0000</td>\n",
              "      <td>34.0</td>\n",
              "    </tr>\n",
              "    <tr>\n",
              "      <th>2</th>\n",
              "      <td>662119780484792_4004976832865720/4004976832865...</td>\n",
              "      <td>13</td>\n",
              "      <td>2</td>\n",
              "      <td>2</td>\n",
              "      <td>4004976832865720_4004992759530794</td>\n",
              "      <td>data</td>\n",
              "      <td>fetched (200)</td>\n",
              "      <td>2020-11-29 14:51:56.793305</td>\n",
              "      <td>Facebook:/&lt;post-id&gt;/comments</td>\n",
              "      <td>Tetap semangat dan berpikir Positif banyak ber...</td>\n",
              "      <td>4004976832865720_4004992759530794</td>\n",
              "      <td>2020-11-28T12:16:15+0000</td>\n",
              "      <td>22.0</td>\n",
              "    </tr>\n",
              "    <tr>\n",
              "      <th>3</th>\n",
              "      <td>662119780484792_4004976832865720/4004976832865...</td>\n",
              "      <td>14</td>\n",
              "      <td>2</td>\n",
              "      <td>2</td>\n",
              "      <td>4004976832865720_4005452882818115</td>\n",
              "      <td>data</td>\n",
              "      <td>fetched (200)</td>\n",
              "      <td>2020-11-29 14:51:56.793305</td>\n",
              "      <td>Facebook:/&lt;post-id&gt;/comments</td>\n",
              "      <td>Banyak orang meninggal bukan karena Corona...m...</td>\n",
              "      <td>4004976832865720_4005452882818115</td>\n",
              "      <td>2020-11-28T15:33:11+0000</td>\n",
              "      <td>16.0</td>\n",
              "    </tr>\n",
              "    <tr>\n",
              "      <th>4</th>\n",
              "      <td>662119780484792_4004976832865720/4004976832865...</td>\n",
              "      <td>15</td>\n",
              "      <td>2</td>\n",
              "      <td>2</td>\n",
              "      <td>4004976832865720_4004980589532011</td>\n",
              "      <td>data</td>\n",
              "      <td>fetched (200)</td>\n",
              "      <td>2020-11-29 14:51:56.793305</td>\n",
              "      <td>Facebook:/&lt;post-id&gt;/comments</td>\n",
              "      <td>Terima kasih banyak atas semua ini tetap  berf...</td>\n",
              "      <td>4004976832865720_4004980589532011</td>\n",
              "      <td>2020-11-28T12:10:16+0000</td>\n",
              "      <td>19.0</td>\n",
              "    </tr>\n",
              "    <tr>\n",
              "      <th>...</th>\n",
              "      <td>...</td>\n",
              "      <td>...</td>\n",
              "      <td>...</td>\n",
              "      <td>...</td>\n",
              "      <td>...</td>\n",
              "      <td>...</td>\n",
              "      <td>...</td>\n",
              "      <td>...</td>\n",
              "      <td>...</td>\n",
              "      <td>...</td>\n",
              "      <td>...</td>\n",
              "      <td>...</td>\n",
              "      <td>...</td>\n",
              "    </tr>\n",
              "    <tr>\n",
              "      <th>2507</th>\n",
              "      <td>662119780484792_4004976832865720/6621197804847...</td>\n",
              "      <td>2509</td>\n",
              "      <td>11</td>\n",
              "      <td>2</td>\n",
              "      <td>4000645779965492_4002639966432740</td>\n",
              "      <td>data</td>\n",
              "      <td>fetched (200)</td>\n",
              "      <td>2020-11-29 14:56:26.631976</td>\n",
              "      <td>Facebook:/&lt;post-id&gt;/comments</td>\n",
              "      <td>Kapan dimulai paksinya</td>\n",
              "      <td>4000645779965492_4002639966432740</td>\n",
              "      <td>2020-11-27T16:43:23+0000</td>\n",
              "      <td>0.0</td>\n",
              "    </tr>\n",
              "    <tr>\n",
              "      <th>2508</th>\n",
              "      <td>662119780484792_4004976832865720/6621197804847...</td>\n",
              "      <td>2510</td>\n",
              "      <td>11</td>\n",
              "      <td>2</td>\n",
              "      <td>4000645779965492_4001815623181841</td>\n",
              "      <td>data</td>\n",
              "      <td>fetched (200)</td>\n",
              "      <td>2020-11-29 14:56:26.631976</td>\n",
              "      <td>Facebook:/&lt;post-id&gt;/comments</td>\n",
              "      <td>Kmaren ada yg di faksin lahhh dia lumpuhhh🤣🤣 n...</td>\n",
              "      <td>4000645779965492_4001815623181841</td>\n",
              "      <td>2020-11-27T10:43:37+0000</td>\n",
              "      <td>0.0</td>\n",
              "    </tr>\n",
              "    <tr>\n",
              "      <th>2509</th>\n",
              "      <td>662119780484792_4004976832865720/6621197804847...</td>\n",
              "      <td>2511</td>\n",
              "      <td>11</td>\n",
              "      <td>2</td>\n",
              "      <td>4000645779965492_4001670133196390</td>\n",
              "      <td>data</td>\n",
              "      <td>fetched (200)</td>\n",
              "      <td>2020-11-29 14:56:26.631976</td>\n",
              "      <td>Facebook:/&lt;post-id&gt;/comments</td>\n",
              "      <td>Saya mau tanya Corona itu virus seperti apa?.</td>\n",
              "      <td>4000645779965492_4001670133196390</td>\n",
              "      <td>2020-11-27T09:27:35+0000</td>\n",
              "      <td>1.0</td>\n",
              "    </tr>\n",
              "    <tr>\n",
              "      <th>2510</th>\n",
              "      <td>662119780484792_4004976832865720/6621197804847...</td>\n",
              "      <td>2512</td>\n",
              "      <td>11</td>\n",
              "      <td>2</td>\n",
              "      <td>662119780484792_4000645779965492</td>\n",
              "      <td>offcut</td>\n",
              "      <td>fetched (200)</td>\n",
              "      <td>2020-11-29 14:56:26.631976</td>\n",
              "      <td>Facebook:/&lt;post-id&gt;/comments</td>\n",
              "      <td>NaN</td>\n",
              "      <td>NaN</td>\n",
              "      <td>NaN</td>\n",
              "      <td>NaN</td>\n",
              "    </tr>\n",
              "    <tr>\n",
              "      <th>2511</th>\n",
              "      <td>662119780484792_4004976832865720/6621197804847...</td>\n",
              "      <td>2513</td>\n",
              "      <td>11</td>\n",
              "      <td>2</td>\n",
              "      <td>662119780484792_4000645779965492</td>\n",
              "      <td>headers</td>\n",
              "      <td>fetched (200)</td>\n",
              "      <td>2020-11-29 14:56:26.631976</td>\n",
              "      <td>Facebook:/&lt;post-id&gt;/comments</td>\n",
              "      <td>NaN</td>\n",
              "      <td>NaN</td>\n",
              "      <td>NaN</td>\n",
              "      <td>NaN</td>\n",
              "    </tr>\n",
              "  </tbody>\n",
              "</table>\n",
              "<p>2512 rows × 13 columns</p>\n",
              "</div>"
            ],
            "text/plain": [
              "                                                   path  ...  like_count\n",
              "0                      662119780484792_4004976832865720  ...         NaN\n",
              "1     662119780484792_4004976832865720/4004976832865...  ...        34.0\n",
              "2     662119780484792_4004976832865720/4004976832865...  ...        22.0\n",
              "3     662119780484792_4004976832865720/4004976832865...  ...        16.0\n",
              "4     662119780484792_4004976832865720/4004976832865...  ...        19.0\n",
              "...                                                 ...  ...         ...\n",
              "2507  662119780484792_4004976832865720/6621197804847...  ...         0.0\n",
              "2508  662119780484792_4004976832865720/6621197804847...  ...         0.0\n",
              "2509  662119780484792_4004976832865720/6621197804847...  ...         1.0\n",
              "2510  662119780484792_4004976832865720/6621197804847...  ...         NaN\n",
              "2511  662119780484792_4004976832865720/6621197804847...  ...         NaN\n",
              "\n",
              "[2512 rows x 13 columns]"
            ]
          },
          "metadata": {
            "tags": []
          },
          "execution_count": 13
        }
      ]
    },
    {
      "cell_type": "code",
      "metadata": {
        "colab": {
          "base_uri": "https://localhost:8080/"
        },
        "id": "Zc90AI7Gmlbs",
        "outputId": "1a167ec7-9772-4dd8-c2b7-66dd49cc949c"
      },
      "source": [
        "# Preprocessing - mengambil data yang diperlukan saja dari hasil csv yang dilakukan di facepager\n",
        "\n",
        "raw_comment = raw_comment.dropna()\n",
        "raw_comment['post_id'] = raw_comment['object_id'].astype(str).str[0:16]\n",
        "raw_comment['comment_id'] = raw_comment['object_id'].astype(str).str[17:]\n",
        "raw_comment = raw_comment[['post_id', 'comment_id', 'message', 'created_time']]\n",
        "\n",
        "# raw_comment.to_csv('drive/My Drive/Project Sistem Pakar/Dataset/comments.csv', index=False)\n",
        "\n",
        "print('Jumlah komen setelah preprocessing: ', len(raw_comment))\n",
        "raw_comment"
      ],
      "execution_count": null,
      "outputs": [
        {
          "output_type": "stream",
          "text": [
            "Jumlah komen setelah preprocessing:  2280\n"
          ],
          "name": "stdout"
        },
        {
          "output_type": "stream",
          "text": [
            "/usr/local/lib/python3.6/dist-packages/ipykernel_launcher.py:4: SettingWithCopyWarning: \n",
            "A value is trying to be set on a copy of a slice from a DataFrame.\n",
            "Try using .loc[row_indexer,col_indexer] = value instead\n",
            "\n",
            "See the caveats in the documentation: https://pandas.pydata.org/pandas-docs/stable/user_guide/indexing.html#returning-a-view-versus-a-copy\n",
            "  after removing the cwd from sys.path.\n",
            "/usr/local/lib/python3.6/dist-packages/ipykernel_launcher.py:5: SettingWithCopyWarning: \n",
            "A value is trying to be set on a copy of a slice from a DataFrame.\n",
            "Try using .loc[row_indexer,col_indexer] = value instead\n",
            "\n",
            "See the caveats in the documentation: https://pandas.pydata.org/pandas-docs/stable/user_guide/indexing.html#returning-a-view-versus-a-copy\n",
            "  \"\"\"\n"
          ],
          "name": "stderr"
        },
        {
          "output_type": "execute_result",
          "data": {
            "text/html": [
              "<div>\n",
              "<style scoped>\n",
              "    .dataframe tbody tr th:only-of-type {\n",
              "        vertical-align: middle;\n",
              "    }\n",
              "\n",
              "    .dataframe tbody tr th {\n",
              "        vertical-align: top;\n",
              "    }\n",
              "\n",
              "    .dataframe thead th {\n",
              "        text-align: right;\n",
              "    }\n",
              "</style>\n",
              "<table border=\"1\" class=\"dataframe\">\n",
              "  <thead>\n",
              "    <tr style=\"text-align: right;\">\n",
              "      <th></th>\n",
              "      <th>post_id</th>\n",
              "      <th>comment_id</th>\n",
              "      <th>message</th>\n",
              "      <th>created_time</th>\n",
              "    </tr>\n",
              "  </thead>\n",
              "  <tbody>\n",
              "    <tr>\n",
              "      <th>1</th>\n",
              "      <td>4004976832865720</td>\n",
              "      <td>4004983519531718</td>\n",
              "      <td>Pemerintah sudah berusaha semaksimal mungkin m...</td>\n",
              "      <td>2020-11-28T12:11:41+0000</td>\n",
              "    </tr>\n",
              "    <tr>\n",
              "      <th>2</th>\n",
              "      <td>4004976832865720</td>\n",
              "      <td>4004992759530794</td>\n",
              "      <td>Tetap semangat dan berpikir Positif banyak ber...</td>\n",
              "      <td>2020-11-28T12:16:15+0000</td>\n",
              "    </tr>\n",
              "    <tr>\n",
              "      <th>3</th>\n",
              "      <td>4004976832865720</td>\n",
              "      <td>4005452882818115</td>\n",
              "      <td>Banyak orang meninggal bukan karena Corona...m...</td>\n",
              "      <td>2020-11-28T15:33:11+0000</td>\n",
              "    </tr>\n",
              "    <tr>\n",
              "      <th>4</th>\n",
              "      <td>4004976832865720</td>\n",
              "      <td>4004980589532011</td>\n",
              "      <td>Terima kasih banyak atas semua ini tetap  berf...</td>\n",
              "      <td>2020-11-28T12:10:16+0000</td>\n",
              "    </tr>\n",
              "    <tr>\n",
              "      <th>5</th>\n",
              "      <td>4004976832865720</td>\n",
              "      <td>182384916953080</td>\n",
              "      <td>Alangkah bijaknya pemerintah  memperketat juml...</td>\n",
              "      <td>2020-11-29T00:57:02+0000</td>\n",
              "    </tr>\n",
              "    <tr>\n",
              "      <th>...</th>\n",
              "      <td>...</td>\n",
              "      <td>...</td>\n",
              "      <td>...</td>\n",
              "      <td>...</td>\n",
              "    </tr>\n",
              "    <tr>\n",
              "      <th>2505</th>\n",
              "      <td>4000645779965492</td>\n",
              "      <td>4001835589846511</td>\n",
              "      <td>Lanjutkan dansa nya smpai akhirnya terjatuh de...</td>\n",
              "      <td>2020-11-27T10:53:33+0000</td>\n",
              "    </tr>\n",
              "    <tr>\n",
              "      <th>2506</th>\n",
              "      <td>4000645779965492</td>\n",
              "      <td>4001219573241446</td>\n",
              "      <td>Vaksinasi nya kpan ya, ada yg tau!!</td>\n",
              "      <td>2020-11-27T05:24:41+0000</td>\n",
              "    </tr>\n",
              "    <tr>\n",
              "      <th>2507</th>\n",
              "      <td>4000645779965492</td>\n",
              "      <td>4002639966432740</td>\n",
              "      <td>Kapan dimulai paksinya</td>\n",
              "      <td>2020-11-27T16:43:23+0000</td>\n",
              "    </tr>\n",
              "    <tr>\n",
              "      <th>2508</th>\n",
              "      <td>4000645779965492</td>\n",
              "      <td>4001815623181841</td>\n",
              "      <td>Kmaren ada yg di faksin lahhh dia lumpuhhh🤣🤣 n...</td>\n",
              "      <td>2020-11-27T10:43:37+0000</td>\n",
              "    </tr>\n",
              "    <tr>\n",
              "      <th>2509</th>\n",
              "      <td>4000645779965492</td>\n",
              "      <td>4001670133196390</td>\n",
              "      <td>Saya mau tanya Corona itu virus seperti apa?.</td>\n",
              "      <td>2020-11-27T09:27:35+0000</td>\n",
              "    </tr>\n",
              "  </tbody>\n",
              "</table>\n",
              "<p>2280 rows × 4 columns</p>\n",
              "</div>"
            ],
            "text/plain": [
              "               post_id  ...              created_time\n",
              "1     4004976832865720  ...  2020-11-28T12:11:41+0000\n",
              "2     4004976832865720  ...  2020-11-28T12:16:15+0000\n",
              "3     4004976832865720  ...  2020-11-28T15:33:11+0000\n",
              "4     4004976832865720  ...  2020-11-28T12:10:16+0000\n",
              "5     4004976832865720  ...  2020-11-29T00:57:02+0000\n",
              "...                ...  ...                       ...\n",
              "2505  4000645779965492  ...  2020-11-27T10:53:33+0000\n",
              "2506  4000645779965492  ...  2020-11-27T05:24:41+0000\n",
              "2507  4000645779965492  ...  2020-11-27T16:43:23+0000\n",
              "2508  4000645779965492  ...  2020-11-27T10:43:37+0000\n",
              "2509  4000645779965492  ...  2020-11-27T09:27:35+0000\n",
              "\n",
              "[2280 rows x 4 columns]"
            ]
          },
          "metadata": {
            "tags": []
          },
          "execution_count": 14
        }
      ]
    },
    {
      "cell_type": "markdown",
      "metadata": {
        "id": "_7SgJBl9ZgvY"
      },
      "source": [
        "## **Combined Data**"
      ]
    },
    {
      "cell_type": "code",
      "metadata": {
        "colab": {
          "base_uri": "https://localhost:8080/",
          "height": 513
        },
        "id": "cbqMkxZRgH-5",
        "outputId": "33cc3d35-efcb-476b-92fa-a751e25d6b52"
      },
      "source": [
        "posts = pd.read_csv('drive/My Drive/Project Sistem Pakar/Dataset/posts.csv')\n",
        "print('Jumlah Berita: ', len(posts))\n",
        "posts.head()"
      ],
      "execution_count": null,
      "outputs": [
        {
          "output_type": "stream",
          "text": [
            "Jumlah Berita:  10\n"
          ],
          "name": "stdout"
        },
        {
          "output_type": "execute_result",
          "data": {
            "text/html": [
              "<div>\n",
              "<style scoped>\n",
              "    .dataframe tbody tr th:only-of-type {\n",
              "        vertical-align: middle;\n",
              "    }\n",
              "\n",
              "    .dataframe tbody tr th {\n",
              "        vertical-align: top;\n",
              "    }\n",
              "\n",
              "    .dataframe thead th {\n",
              "        text-align: right;\n",
              "    }\n",
              "</style>\n",
              "<table border=\"1\" class=\"dataframe\">\n",
              "  <thead>\n",
              "    <tr style=\"text-align: right;\">\n",
              "      <th></th>\n",
              "      <th>post_id</th>\n",
              "      <th>text</th>\n",
              "      <th>post_text</th>\n",
              "      <th>shared_text</th>\n",
              "      <th>time</th>\n",
              "      <th>image</th>\n",
              "      <th>video</th>\n",
              "      <th>video_thumbnail</th>\n",
              "      <th>video_id</th>\n",
              "      <th>likes</th>\n",
              "      <th>comments</th>\n",
              "      <th>shares</th>\n",
              "      <th>post_url</th>\n",
              "      <th>link</th>\n",
              "      <th>user_id</th>\n",
              "      <th>images</th>\n",
              "    </tr>\n",
              "  </thead>\n",
              "  <tbody>\n",
              "    <tr>\n",
              "      <th>0</th>\n",
              "      <td>4004976832865720</td>\n",
              "      <td>#Update Perkembangan COVID-19 di Indonesia per...</td>\n",
              "      <td>#Update Perkembangan COVID-19 di Indonesia per...</td>\n",
              "      <td>NaN</td>\n",
              "      <td>2020-11-28 12:08:45</td>\n",
              "      <td>https://scontent-hkt1-1.xx.fbcdn.net/v/t1.0-9/...</td>\n",
              "      <td>NaN</td>\n",
              "      <td>NaN</td>\n",
              "      <td>NaN</td>\n",
              "      <td>63636</td>\n",
              "      <td>1285</td>\n",
              "      <td>0</td>\n",
              "      <td>https://facebook.com/story.php?story_fbid=4004...</td>\n",
              "      <td>NaN</td>\n",
              "      <td>662119780484792</td>\n",
              "      <td>['https://scontent-hkt1-1.xx.fbcdn.net/v/t1.0-...</td>\n",
              "    </tr>\n",
              "    <tr>\n",
              "      <th>1</th>\n",
              "      <td>4004494309580639</td>\n",
              "      <td>Stafsus Daniel Tinjau Kesiapan Rumkit TNI AD S...</td>\n",
              "      <td>Stafsus Daniel Tinjau Kesiapan Rumkit TNI AD S...</td>\n",
              "      <td>SEHATNEGERIKU.KEMKES.GO.ID\\nStafsus Daniel Tin...</td>\n",
              "      <td>2020-11-28 08:00:21</td>\n",
              "      <td>NaN</td>\n",
              "      <td>NaN</td>\n",
              "      <td>NaN</td>\n",
              "      <td>NaN</td>\n",
              "      <td>263654</td>\n",
              "      <td>646</td>\n",
              "      <td>332</td>\n",
              "      <td>https://facebook.com/story.php?story_fbid=4004...</td>\n",
              "      <td>http://sehatnegeriku.kemkes.go.id/baca/rilis-m...</td>\n",
              "      <td>662119780484792</td>\n",
              "      <td>[]</td>\n",
              "    </tr>\n",
              "    <tr>\n",
              "      <th>2</th>\n",
              "      <td>4004417006255036</td>\n",
              "      <td>Peroleh Rekor Muri, Layanan PSC 119 di Sumsel ...</td>\n",
              "      <td>Peroleh Rekor Muri, Layanan PSC 119 di Sumsel ...</td>\n",
              "      <td>SEHATNEGERIKU.KEMKES.GO.ID\\nPeroleh Rekor Muri...</td>\n",
              "      <td>2020-11-28 07:15:20</td>\n",
              "      <td>NaN</td>\n",
              "      <td>NaN</td>\n",
              "      <td>NaN</td>\n",
              "      <td>NaN</td>\n",
              "      <td>106157</td>\n",
              "      <td>308</td>\n",
              "      <td>135</td>\n",
              "      <td>https://facebook.com/story.php?story_fbid=4004...</td>\n",
              "      <td>http://sehatnegeriku.kemkes.go.id/baca/rilis-m...</td>\n",
              "      <td>662119780484792</td>\n",
              "      <td>[]</td>\n",
              "    </tr>\n",
              "    <tr>\n",
              "      <th>3</th>\n",
              "      <td>4004358039594266</td>\n",
              "      <td>Rakornas KKI: Meningkatkan profesionalisme dok...</td>\n",
              "      <td>Rakornas KKI: Meningkatkan profesionalisme dok...</td>\n",
              "      <td>NaN</td>\n",
              "      <td>2020-11-28 06:41:48</td>\n",
              "      <td>NaN</td>\n",
              "      <td>NaN</td>\n",
              "      <td>NaN</td>\n",
              "      <td>NaN</td>\n",
              "      <td>1042</td>\n",
              "      <td>19</td>\n",
              "      <td>0</td>\n",
              "      <td>https://facebook.com/story.php?story_fbid=4004...</td>\n",
              "      <td>NaN</td>\n",
              "      <td>662119780484792</td>\n",
              "      <td>[]</td>\n",
              "    </tr>\n",
              "    <tr>\n",
              "      <th>4</th>\n",
              "      <td>4003974322965971</td>\n",
              "      <td>Protokol Kesehatan Ketat Percepat Pemulihan Ke...</td>\n",
              "      <td>Protokol Kesehatan Ketat Percepat Pemulihan Ke...</td>\n",
              "      <td>SEHATNEGERIKU.KEMKES.GO.ID\\nProtokol Kesehatan...</td>\n",
              "      <td>2020-11-28 03:40:43</td>\n",
              "      <td>NaN</td>\n",
              "      <td>NaN</td>\n",
              "      <td>NaN</td>\n",
              "      <td>NaN</td>\n",
              "      <td>197659</td>\n",
              "      <td>1303</td>\n",
              "      <td>459</td>\n",
              "      <td>https://facebook.com/story.php?story_fbid=4003...</td>\n",
              "      <td>http://sehatnegeriku.kemkes.go.id/baca/rilis-m...</td>\n",
              "      <td>662119780484792</td>\n",
              "      <td>[]</td>\n",
              "    </tr>\n",
              "  </tbody>\n",
              "</table>\n",
              "</div>"
            ],
            "text/plain": [
              "            post_id  ...                                             images\n",
              "0  4004976832865720  ...  ['https://scontent-hkt1-1.xx.fbcdn.net/v/t1.0-...\n",
              "1  4004494309580639  ...                                                 []\n",
              "2  4004417006255036  ...                                                 []\n",
              "3  4004358039594266  ...                                                 []\n",
              "4  4003974322965971  ...                                                 []\n",
              "\n",
              "[5 rows x 16 columns]"
            ]
          },
          "metadata": {
            "tags": []
          },
          "execution_count": 15
        }
      ]
    },
    {
      "cell_type": "code",
      "metadata": {
        "colab": {
          "base_uri": "https://localhost:8080/",
          "height": 221
        },
        "id": "UjWQTs74pezn",
        "outputId": "1933a364-bae9-4051-b5c7-dd0dddfa8696"
      },
      "source": [
        "comments = pd.read_csv('drive/My Drive/Project Sistem Pakar/Dataset/comments.csv')\n",
        "print('Jumlah Komen: ', len(comments))\n",
        "comments.tail()"
      ],
      "execution_count": null,
      "outputs": [
        {
          "output_type": "stream",
          "text": [
            "Jumlah Komen:  2280\n"
          ],
          "name": "stdout"
        },
        {
          "output_type": "execute_result",
          "data": {
            "text/html": [
              "<div>\n",
              "<style scoped>\n",
              "    .dataframe tbody tr th:only-of-type {\n",
              "        vertical-align: middle;\n",
              "    }\n",
              "\n",
              "    .dataframe tbody tr th {\n",
              "        vertical-align: top;\n",
              "    }\n",
              "\n",
              "    .dataframe thead th {\n",
              "        text-align: right;\n",
              "    }\n",
              "</style>\n",
              "<table border=\"1\" class=\"dataframe\">\n",
              "  <thead>\n",
              "    <tr style=\"text-align: right;\">\n",
              "      <th></th>\n",
              "      <th>post_id</th>\n",
              "      <th>comment_id</th>\n",
              "      <th>message</th>\n",
              "      <th>created_time</th>\n",
              "    </tr>\n",
              "  </thead>\n",
              "  <tbody>\n",
              "    <tr>\n",
              "      <th>2275</th>\n",
              "      <td>4000645779965492</td>\n",
              "      <td>4001835589846511</td>\n",
              "      <td>Lanjutkan dansa nya smpai akhirnya terjatuh de...</td>\n",
              "      <td>2020-11-27T10:53:33+0000</td>\n",
              "    </tr>\n",
              "    <tr>\n",
              "      <th>2276</th>\n",
              "      <td>4000645779965492</td>\n",
              "      <td>4001219573241446</td>\n",
              "      <td>Vaksinasi nya kpan ya, ada yg tau!!</td>\n",
              "      <td>2020-11-27T05:24:41+0000</td>\n",
              "    </tr>\n",
              "    <tr>\n",
              "      <th>2277</th>\n",
              "      <td>4000645779965492</td>\n",
              "      <td>4002639966432740</td>\n",
              "      <td>Kapan dimulai paksinya</td>\n",
              "      <td>2020-11-27T16:43:23+0000</td>\n",
              "    </tr>\n",
              "    <tr>\n",
              "      <th>2278</th>\n",
              "      <td>4000645779965492</td>\n",
              "      <td>4001815623181841</td>\n",
              "      <td>Kmaren ada yg di faksin lahhh dia lumpuhhh🤣🤣 n...</td>\n",
              "      <td>2020-11-27T10:43:37+0000</td>\n",
              "    </tr>\n",
              "    <tr>\n",
              "      <th>2279</th>\n",
              "      <td>4000645779965492</td>\n",
              "      <td>4001670133196390</td>\n",
              "      <td>Saya mau tanya Corona itu virus seperti apa?.</td>\n",
              "      <td>2020-11-27T09:27:35+0000</td>\n",
              "    </tr>\n",
              "  </tbody>\n",
              "</table>\n",
              "</div>"
            ],
            "text/plain": [
              "               post_id  ...              created_time\n",
              "2275  4000645779965492  ...  2020-11-27T10:53:33+0000\n",
              "2276  4000645779965492  ...  2020-11-27T05:24:41+0000\n",
              "2277  4000645779965492  ...  2020-11-27T16:43:23+0000\n",
              "2278  4000645779965492  ...  2020-11-27T10:43:37+0000\n",
              "2279  4000645779965492  ...  2020-11-27T09:27:35+0000\n",
              "\n",
              "[5 rows x 4 columns]"
            ]
          },
          "metadata": {
            "tags": []
          },
          "execution_count": 16
        }
      ]
    },
    {
      "cell_type": "code",
      "metadata": {
        "colab": {
          "base_uri": "https://localhost:8080/"
        },
        "id": "L0Wc5JqjvP3W",
        "outputId": "e40705cc-340a-4051-d6f7-23f57ae6e49d"
      },
      "source": [
        "post_set = set(comments['post_id'].astype(str))\n",
        "print('Jumlah berita: ', len(post_set))"
      ],
      "execution_count": null,
      "outputs": [
        {
          "output_type": "stream",
          "text": [
            "Jumlah berita:  10\n"
          ],
          "name": "stdout"
        }
      ]
    },
    {
      "cell_type": "code",
      "metadata": {
        "colab": {
          "base_uri": "https://localhost:8080/",
          "height": 991
        },
        "id": "oCUupX63sAhl",
        "outputId": "225ca554-de29-4f05-f277-9e300b251688"
      },
      "source": [
        "for i in post_set:\n",
        "  msg = comments[comments['post_id'].astype(str) == i]['message'][:10].tolist()\n",
        "  msg = ' $$$ '.join(msg)\n",
        "  posts.loc[posts['post_id'].astype(str) == i, 'comments_msg'] = msg\n",
        "\n",
        "print('Jumlah komen setiap berita: ', len(posts['comments_msg']))\n",
        "posts"
      ],
      "execution_count": null,
      "outputs": [
        {
          "output_type": "stream",
          "text": [
            "Jumlah komen setiap berita:  10\n"
          ],
          "name": "stdout"
        },
        {
          "output_type": "execute_result",
          "data": {
            "text/html": [
              "<div>\n",
              "<style scoped>\n",
              "    .dataframe tbody tr th:only-of-type {\n",
              "        vertical-align: middle;\n",
              "    }\n",
              "\n",
              "    .dataframe tbody tr th {\n",
              "        vertical-align: top;\n",
              "    }\n",
              "\n",
              "    .dataframe thead th {\n",
              "        text-align: right;\n",
              "    }\n",
              "</style>\n",
              "<table border=\"1\" class=\"dataframe\">\n",
              "  <thead>\n",
              "    <tr style=\"text-align: right;\">\n",
              "      <th></th>\n",
              "      <th>post_id</th>\n",
              "      <th>text</th>\n",
              "      <th>post_text</th>\n",
              "      <th>shared_text</th>\n",
              "      <th>time</th>\n",
              "      <th>image</th>\n",
              "      <th>video</th>\n",
              "      <th>video_thumbnail</th>\n",
              "      <th>video_id</th>\n",
              "      <th>likes</th>\n",
              "      <th>comments</th>\n",
              "      <th>shares</th>\n",
              "      <th>post_url</th>\n",
              "      <th>link</th>\n",
              "      <th>user_id</th>\n",
              "      <th>images</th>\n",
              "      <th>comments_msg</th>\n",
              "    </tr>\n",
              "  </thead>\n",
              "  <tbody>\n",
              "    <tr>\n",
              "      <th>0</th>\n",
              "      <td>4004976832865720</td>\n",
              "      <td>#Update Perkembangan COVID-19 di Indonesia per...</td>\n",
              "      <td>#Update Perkembangan COVID-19 di Indonesia per...</td>\n",
              "      <td>NaN</td>\n",
              "      <td>2020-11-28 12:08:45</td>\n",
              "      <td>https://scontent-hkt1-1.xx.fbcdn.net/v/t1.0-9/...</td>\n",
              "      <td>NaN</td>\n",
              "      <td>NaN</td>\n",
              "      <td>NaN</td>\n",
              "      <td>63636</td>\n",
              "      <td>1285</td>\n",
              "      <td>0</td>\n",
              "      <td>https://facebook.com/story.php?story_fbid=4004...</td>\n",
              "      <td>NaN</td>\n",
              "      <td>662119780484792</td>\n",
              "      <td>['https://scontent-hkt1-1.xx.fbcdn.net/v/t1.0-...</td>\n",
              "      <td>Pemerintah sudah berusaha semaksimal mungkin m...</td>\n",
              "    </tr>\n",
              "    <tr>\n",
              "      <th>1</th>\n",
              "      <td>4004494309580639</td>\n",
              "      <td>Stafsus Daniel Tinjau Kesiapan Rumkit TNI AD S...</td>\n",
              "      <td>Stafsus Daniel Tinjau Kesiapan Rumkit TNI AD S...</td>\n",
              "      <td>SEHATNEGERIKU.KEMKES.GO.ID\\nStafsus Daniel Tin...</td>\n",
              "      <td>2020-11-28 08:00:21</td>\n",
              "      <td>NaN</td>\n",
              "      <td>NaN</td>\n",
              "      <td>NaN</td>\n",
              "      <td>NaN</td>\n",
              "      <td>263654</td>\n",
              "      <td>646</td>\n",
              "      <td>332</td>\n",
              "      <td>https://facebook.com/story.php?story_fbid=4004...</td>\n",
              "      <td>http://sehatnegeriku.kemkes.go.id/baca/rilis-m...</td>\n",
              "      <td>662119780484792</td>\n",
              "      <td>[]</td>\n",
              "      <td>Tetap semangat dan berpikir positif banyak ber...</td>\n",
              "    </tr>\n",
              "    <tr>\n",
              "      <th>2</th>\n",
              "      <td>4004417006255036</td>\n",
              "      <td>Peroleh Rekor Muri, Layanan PSC 119 di Sumsel ...</td>\n",
              "      <td>Peroleh Rekor Muri, Layanan PSC 119 di Sumsel ...</td>\n",
              "      <td>SEHATNEGERIKU.KEMKES.GO.ID\\nPeroleh Rekor Muri...</td>\n",
              "      <td>2020-11-28 07:15:20</td>\n",
              "      <td>NaN</td>\n",
              "      <td>NaN</td>\n",
              "      <td>NaN</td>\n",
              "      <td>NaN</td>\n",
              "      <td>106157</td>\n",
              "      <td>308</td>\n",
              "      <td>135</td>\n",
              "      <td>https://facebook.com/story.php?story_fbid=4004...</td>\n",
              "      <td>http://sehatnegeriku.kemkes.go.id/baca/rilis-m...</td>\n",
              "      <td>662119780484792</td>\n",
              "      <td>[]</td>\n",
              "      <td>Tetap semangat dan berpikir positif banyak ber...</td>\n",
              "    </tr>\n",
              "    <tr>\n",
              "      <th>3</th>\n",
              "      <td>4004358039594266</td>\n",
              "      <td>Rakornas KKI: Meningkatkan profesionalisme dok...</td>\n",
              "      <td>Rakornas KKI: Meningkatkan profesionalisme dok...</td>\n",
              "      <td>NaN</td>\n",
              "      <td>2020-11-28 06:41:48</td>\n",
              "      <td>NaN</td>\n",
              "      <td>NaN</td>\n",
              "      <td>NaN</td>\n",
              "      <td>NaN</td>\n",
              "      <td>1042</td>\n",
              "      <td>19</td>\n",
              "      <td>0</td>\n",
              "      <td>https://facebook.com/story.php?story_fbid=4004...</td>\n",
              "      <td>NaN</td>\n",
              "      <td>662119780484792</td>\n",
              "      <td>[]</td>\n",
              "      <td>Terima kasih banyak atas semua ini tetap  berf...</td>\n",
              "    </tr>\n",
              "    <tr>\n",
              "      <th>4</th>\n",
              "      <td>4003974322965971</td>\n",
              "      <td>Protokol Kesehatan Ketat Percepat Pemulihan Ke...</td>\n",
              "      <td>Protokol Kesehatan Ketat Percepat Pemulihan Ke...</td>\n",
              "      <td>SEHATNEGERIKU.KEMKES.GO.ID\\nProtokol Kesehatan...</td>\n",
              "      <td>2020-11-28 03:40:43</td>\n",
              "      <td>NaN</td>\n",
              "      <td>NaN</td>\n",
              "      <td>NaN</td>\n",
              "      <td>NaN</td>\n",
              "      <td>197659</td>\n",
              "      <td>1303</td>\n",
              "      <td>459</td>\n",
              "      <td>https://facebook.com/story.php?story_fbid=4003...</td>\n",
              "      <td>http://sehatnegeriku.kemkes.go.id/baca/rilis-m...</td>\n",
              "      <td>662119780484792</td>\n",
              "      <td>[]</td>\n",
              "      <td>Kerja bagus yg patut dicontoh, sehat Bali seha...</td>\n",
              "    </tr>\n",
              "    <tr>\n",
              "      <th>5</th>\n",
              "      <td>4003663296330407</td>\n",
              "      <td>Selamat Pagi #Healthies\\n\\nAkhir-akhir ini beb...</td>\n",
              "      <td>Selamat Pagi #Healthies\\n\\nAkhir-akhir ini beb...</td>\n",
              "      <td>NaN</td>\n",
              "      <td>2020-11-28 01:07:50</td>\n",
              "      <td>https://scontent-hkt1-1.xx.fbcdn.net/v/t1.0-9/...</td>\n",
              "      <td>NaN</td>\n",
              "      <td>NaN</td>\n",
              "      <td>NaN</td>\n",
              "      <td>2833</td>\n",
              "      <td>49</td>\n",
              "      <td>0</td>\n",
              "      <td>https://facebook.com/story.php?story_fbid=4003...</td>\n",
              "      <td>NaN</td>\n",
              "      <td>662119780484792</td>\n",
              "      <td>['https://scontent-hkt1-1.xx.fbcdn.net/v/t1.0-...</td>\n",
              "      <td>Tetap Waspada jaga kesehatan ikuti protokol sa...</td>\n",
              "    </tr>\n",
              "    <tr>\n",
              "      <th>6</th>\n",
              "      <td>4002335383129865</td>\n",
              "      <td>RSUD Buleleng Mampu Tes PCR Mandiri\\n\\nBali, 2...</td>\n",
              "      <td>RSUD Buleleng Mampu Tes PCR Mandiri\\n\\nBali, 2...</td>\n",
              "      <td>SEHATNEGERIKU.KEMKES.GO.ID\\nRSUD Buleleng Mamp...</td>\n",
              "      <td>2020-11-27 14:36:17</td>\n",
              "      <td>NaN</td>\n",
              "      <td>NaN</td>\n",
              "      <td>NaN</td>\n",
              "      <td>NaN</td>\n",
              "      <td>222208</td>\n",
              "      <td>733</td>\n",
              "      <td>478</td>\n",
              "      <td>https://facebook.com/story.php?story_fbid=4002...</td>\n",
              "      <td>http://sehatnegeriku.kemkes.go.id/baca/rilis-m...</td>\n",
              "      <td>662119780484792</td>\n",
              "      <td>[]</td>\n",
              "      <td>Bersama rakyat TNI kuat. Tiada daya dan kekuat...</td>\n",
              "    </tr>\n",
              "    <tr>\n",
              "      <th>7</th>\n",
              "      <td>4001694956527241</td>\n",
              "      <td>Perbaiki Sektor Pariwisata di Masa Pandemi COV...</td>\n",
              "      <td>Perbaiki Sektor Pariwisata di Masa Pandemi COV...</td>\n",
              "      <td>SEHATNEGERIKU.KEMKES.GO.ID\\nPerbaiki Sektor Pa...</td>\n",
              "      <td>2020-11-27 09:40:51</td>\n",
              "      <td>NaN</td>\n",
              "      <td>NaN</td>\n",
              "      <td>NaN</td>\n",
              "      <td>NaN</td>\n",
              "      <td>170032</td>\n",
              "      <td>1874</td>\n",
              "      <td>588</td>\n",
              "      <td>https://facebook.com/story.php?story_fbid=4001...</td>\n",
              "      <td>http://sehatnegeriku.kemkes.go.id/baca/rilis-m...</td>\n",
              "      <td>662119780484792</td>\n",
              "      <td>[]</td>\n",
              "      <td>Tetap Waspada jaga kesehatan ikuti protokol sa...</td>\n",
              "    </tr>\n",
              "    <tr>\n",
              "      <th>8</th>\n",
              "      <td>4001626216534115</td>\n",
              "      <td>#Update Perkembangan COVID-19 di Indonesia per...</td>\n",
              "      <td>#Update Perkembangan COVID-19 di Indonesia per...</td>\n",
              "      <td>NaN</td>\n",
              "      <td>2020-11-27 09:03:36</td>\n",
              "      <td>https://scontent-hkt1-1.xx.fbcdn.net/v/t1.0-9/...</td>\n",
              "      <td>NaN</td>\n",
              "      <td>NaN</td>\n",
              "      <td>NaN</td>\n",
              "      <td>73346</td>\n",
              "      <td>1489</td>\n",
              "      <td>0</td>\n",
              "      <td>https://facebook.com/story.php?story_fbid=4001...</td>\n",
              "      <td>NaN</td>\n",
              "      <td>662119780484792</td>\n",
              "      <td>['https://scontent-hkt1-1.xx.fbcdn.net/v/t1.0-...</td>\n",
              "      <td>Terima kasih banyak atas semua ini tetap  berf...</td>\n",
              "    </tr>\n",
              "    <tr>\n",
              "      <th>9</th>\n",
              "      <td>4000645779965492</td>\n",
              "      <td>Hai #Healthies\\n\\nSaat ini di Indonesia ada se...</td>\n",
              "      <td>Hai #Healthies\\n\\nSaat ini di Indonesia ada se...</td>\n",
              "      <td>NaN</td>\n",
              "      <td>2020-11-27 00:30:11</td>\n",
              "      <td>https://scontent-hkt1-1.xx.fbcdn.net/v/t1.0-9/...</td>\n",
              "      <td>NaN</td>\n",
              "      <td>NaN</td>\n",
              "      <td>NaN</td>\n",
              "      <td>63068</td>\n",
              "      <td>714</td>\n",
              "      <td>0</td>\n",
              "      <td>https://facebook.com/story.php?story_fbid=4000...</td>\n",
              "      <td>NaN</td>\n",
              "      <td>662119780484792</td>\n",
              "      <td>['https://scontent-hkt1-1.xx.fbcdn.net/v/t1.0-...</td>\n",
              "      <td>Tetap semangat dan berpikir positif banyak ber...</td>\n",
              "    </tr>\n",
              "  </tbody>\n",
              "</table>\n",
              "</div>"
            ],
            "text/plain": [
              "            post_id  ...                                       comments_msg\n",
              "0  4004976832865720  ...  Pemerintah sudah berusaha semaksimal mungkin m...\n",
              "1  4004494309580639  ...  Tetap semangat dan berpikir positif banyak ber...\n",
              "2  4004417006255036  ...  Tetap semangat dan berpikir positif banyak ber...\n",
              "3  4004358039594266  ...  Terima kasih banyak atas semua ini tetap  berf...\n",
              "4  4003974322965971  ...  Kerja bagus yg patut dicontoh, sehat Bali seha...\n",
              "5  4003663296330407  ...  Tetap Waspada jaga kesehatan ikuti protokol sa...\n",
              "6  4002335383129865  ...  Bersama rakyat TNI kuat. Tiada daya dan kekuat...\n",
              "7  4001694956527241  ...  Tetap Waspada jaga kesehatan ikuti protokol sa...\n",
              "8  4001626216534115  ...  Terima kasih banyak atas semua ini tetap  berf...\n",
              "9  4000645779965492  ...  Tetap semangat dan berpikir positif banyak ber...\n",
              "\n",
              "[10 rows x 17 columns]"
            ]
          },
          "metadata": {
            "tags": []
          },
          "execution_count": 18
        }
      ]
    },
    {
      "cell_type": "code",
      "metadata": {
        "colab": {
          "base_uri": "https://localhost:8080/",
          "height": 137
        },
        "id": "_r5i2CM20kkE",
        "outputId": "4754abf7-e8bb-4b1f-c3c8-1d4f0ff39f9b"
      },
      "source": [
        "posts['comments_msg'][0]"
      ],
      "execution_count": null,
      "outputs": [
        {
          "output_type": "execute_result",
          "data": {
            "application/vnd.google.colaboratory.intrinsic+json": {
              "type": "string"
            },
            "text/plain": [
              "'Pemerintah sudah berusaha semaksimal mungkin memutus mata rantai virus bahkan sampai geram menangani pandemi ini...Tinggal kitanya sebagai masyarakat mari kita bantu pemerintah kita. Jangan saling menyalahkan! Dimulai dari diri kita sendiri jaga kesehatan🙏 $$$ Tetap semangat dan berpikir Positif banyak berdoa semoga pandemi ini gk cepat berakhir.... terutama buat Para medis pengorbanan Kalian Begitu luar biasa dan berjasa berada di garda Paling depan Semoga Allah selalu melindungi kalian Amin \\U0001f932 $$$ Banyak orang meninggal bukan karena Corona...mungkin karena penyakit lain...dan di tambah lagi karena kemiskinan masyarkt bnyak nganggur,usaha usaha bangkrut ,cari kerja susah...hutang negara semakin banyak ...Setau saya orang yg di nyatakan pisitip Corona cuma di karantina di kasih makan minum enak bergizi...ga usah di beri obat nanti juga sembuh sendiri / negatif...suhu tubuhpun normal ,ga panas ga batuk .....kyk org ga sakit... $$$ Terima kasih banyak atas semua ini tetap  berfikir positif dan semangat agar pandemi ini segera berakhir dan jaga jarak minimal 5 km $$$ Alangkah bijaknya pemerintah  memperketat jumlah kouata pengunjung tempat wisata dengan menugaskan satgas covid yg ada atau menutup sementara semua aktivitas tempat hiburan/ tempat wisata selama liburan n cuti akhir tahun d banding menghapusnya, karna itu momen yg paling d tunggu untuk bersilaturahmi dengan kluarga yg Waktunya cukup panjang. $$$ saya melihat aktingnya sudah sangat sangat bagus dan profesional,,namun masalah personilnya minim,harusnya melibatkan unsur api , air ,angin ,tanah ,makhluk halus ,penghuni khayangan,para alien penghuni planet mars dan tidak lupa juga kepada binatang purba kala dinosaurus dan oraurus ,dll... untuk lebih meramaikan panggung hiburan yg sangat spektakuler ini ... $$$ Korona itu bukan penyakit berbahaya, yg bahaya itu kepercyaan org\" terhadap s korona. Sesuatu yg d sangat d percya dg yakin seyakin\"ya maka akan jadi suatu penyakit yg sesungguhya. Aku tdk ingin percya dg adanya korona yg berbahaya. Biaralah s korona itu hilir mudik kemna\" tapi maaf aku tdk ingin berkenalan dg mu korona. Kalian jangan mau d kenalkan dg s korona maka dari itu hati\"lah dg penyebar berita yg terlalu membesar\"kn adanya bahaya korona, Menjauhlah sejauh\"nya Aamiin . Tapi ingat kebersihan  harus tetap d jaga bukan hanya untuk mencegah s korona tapi untuk mencegah dari penyakit apapun insya Allah. $$$ Ingat sodara\" diselurih Indonesia jaga kesehatan patuhi protokol kesehtan memang gak ada masalah bagus buat kesehtan kita, Namun jangan sodara mengubah ketakutan sodara dan meluntur kan. IMAN kita ter hadap .Allah ta\\' allah,, jangan lah takut pada namanya korona urusan meninggal hanya .Allah yang tau jadi kita sebagai umat islam kokoh kan ke imanan hanya takut lah terhadap Allah ta\\'llah. Mudah\"han sodara\" dimana pun selalau dalam lindunan Allah🙏  Allah huakbar☝ $$$ isu korona ga kunjung habis di indonesia.. tapi lihat ke bawah lihat masarakat yang semakin susah mencari sesuap nasi.. karyawan banyak yang di rumah kan tampa ada kejelasan kapan kerja lagih.. pedagang makin susah.. saya sebagai manusia biasa prihatin dengan semua masarakat yang setiap hari bercerita tentang susah nya nyari buat makan keluarga nya $$$ logika saya nggak masuk di akal. kok yg positif banyak,yg sembuh juga banyak.kenapa sudah sekirar 1 thn ini kok belum habis \" yg namanya corona. trus yg positif nya dapat dari mana. do,a saya tiap liat abdet corona, ya Allah jika corona ini ada, semogah cepat teratasi, dan cepat musnah di muka bumi. jika ada lebih cara manusia yg buat \"saja sehingga yg namanya corona ini tidak berakhir. maka berikan lah mereka azab, berilah mereka pebyakit yg setengah mati yg bermakan tahun berilah mereka kesengsaraan di dunia dan di akhirat.sebagaimana masyarakat yg resahkan dan sengsara. amin.'"
            ]
          },
          "metadata": {
            "tags": []
          },
          "execution_count": 19
        }
      ]
    },
    {
      "cell_type": "code",
      "metadata": {
        "id": "r8qye9o70cTz"
      },
      "source": [
        "# Simpan dalam bentuk CSV \r\n",
        "\r\n",
        "# posts.to_csv('drive/My Drive/Project Sistem Pakar/Dataset/raw_data.csv')"
      ],
      "execution_count": null,
      "outputs": []
    },
    {
      "cell_type": "markdown",
      "metadata": {
        "id": "kCsLVy3Q56oI"
      },
      "source": [
        "# **Read Dataset**"
      ]
    },
    {
      "cell_type": "code",
      "metadata": {
        "id": "l5-5vyBK59JB"
      },
      "source": [
        "posts = pd.read_csv('drive/My Drive/Project Sistem Pakar/Dataset/posts.csv')\n",
        "comments = pd.read_csv('drive/My Drive/Project Sistem Pakar/Dataset/comments.csv')\n",
        "\n",
        "raw_data = pd.read_csv('drive/My Drive/Project Sistem Pakar/Dataset/raw_data.csv')"
      ],
      "execution_count": 22,
      "outputs": []
    },
    {
      "cell_type": "code",
      "metadata": {
        "id": "WjlxqpbZ6ha1",
        "colab": {
          "base_uri": "https://localhost:8080/",
          "height": 501
        },
        "outputId": "b17f5138-5a17-4d4d-eea6-35e56c2e7e7c"
      },
      "source": [
        "posts.head()"
      ],
      "execution_count": 23,
      "outputs": [
        {
          "output_type": "execute_result",
          "data": {
            "text/html": [
              "<div>\n",
              "<style scoped>\n",
              "    .dataframe tbody tr th:only-of-type {\n",
              "        vertical-align: middle;\n",
              "    }\n",
              "\n",
              "    .dataframe tbody tr th {\n",
              "        vertical-align: top;\n",
              "    }\n",
              "\n",
              "    .dataframe thead th {\n",
              "        text-align: right;\n",
              "    }\n",
              "</style>\n",
              "<table border=\"1\" class=\"dataframe\">\n",
              "  <thead>\n",
              "    <tr style=\"text-align: right;\">\n",
              "      <th></th>\n",
              "      <th>post_id</th>\n",
              "      <th>text</th>\n",
              "      <th>post_text</th>\n",
              "      <th>shared_text</th>\n",
              "      <th>time</th>\n",
              "      <th>image</th>\n",
              "      <th>video</th>\n",
              "      <th>video_thumbnail</th>\n",
              "      <th>video_id</th>\n",
              "      <th>likes</th>\n",
              "      <th>comments</th>\n",
              "      <th>shares</th>\n",
              "      <th>post_url</th>\n",
              "      <th>link</th>\n",
              "      <th>user_id</th>\n",
              "      <th>images</th>\n",
              "    </tr>\n",
              "  </thead>\n",
              "  <tbody>\n",
              "    <tr>\n",
              "      <th>0</th>\n",
              "      <td>4004976832865720</td>\n",
              "      <td>#Update Perkembangan COVID-19 di Indonesia per...</td>\n",
              "      <td>#Update Perkembangan COVID-19 di Indonesia per...</td>\n",
              "      <td>NaN</td>\n",
              "      <td>2020-11-28 12:08:45</td>\n",
              "      <td>https://scontent-hkt1-1.xx.fbcdn.net/v/t1.0-9/...</td>\n",
              "      <td>NaN</td>\n",
              "      <td>NaN</td>\n",
              "      <td>NaN</td>\n",
              "      <td>63636</td>\n",
              "      <td>1285</td>\n",
              "      <td>0</td>\n",
              "      <td>https://facebook.com/story.php?story_fbid=4004...</td>\n",
              "      <td>NaN</td>\n",
              "      <td>662119780484792</td>\n",
              "      <td>['https://scontent-hkt1-1.xx.fbcdn.net/v/t1.0-...</td>\n",
              "    </tr>\n",
              "    <tr>\n",
              "      <th>1</th>\n",
              "      <td>4004494309580639</td>\n",
              "      <td>Stafsus Daniel Tinjau Kesiapan Rumkit TNI AD S...</td>\n",
              "      <td>Stafsus Daniel Tinjau Kesiapan Rumkit TNI AD S...</td>\n",
              "      <td>SEHATNEGERIKU.KEMKES.GO.ID\\nStafsus Daniel Tin...</td>\n",
              "      <td>2020-11-28 08:00:21</td>\n",
              "      <td>NaN</td>\n",
              "      <td>NaN</td>\n",
              "      <td>NaN</td>\n",
              "      <td>NaN</td>\n",
              "      <td>263654</td>\n",
              "      <td>646</td>\n",
              "      <td>332</td>\n",
              "      <td>https://facebook.com/story.php?story_fbid=4004...</td>\n",
              "      <td>http://sehatnegeriku.kemkes.go.id/baca/rilis-m...</td>\n",
              "      <td>662119780484792</td>\n",
              "      <td>[]</td>\n",
              "    </tr>\n",
              "    <tr>\n",
              "      <th>2</th>\n",
              "      <td>4004417006255036</td>\n",
              "      <td>Peroleh Rekor Muri, Layanan PSC 119 di Sumsel ...</td>\n",
              "      <td>Peroleh Rekor Muri, Layanan PSC 119 di Sumsel ...</td>\n",
              "      <td>SEHATNEGERIKU.KEMKES.GO.ID\\nPeroleh Rekor Muri...</td>\n",
              "      <td>2020-11-28 07:15:20</td>\n",
              "      <td>NaN</td>\n",
              "      <td>NaN</td>\n",
              "      <td>NaN</td>\n",
              "      <td>NaN</td>\n",
              "      <td>106157</td>\n",
              "      <td>308</td>\n",
              "      <td>135</td>\n",
              "      <td>https://facebook.com/story.php?story_fbid=4004...</td>\n",
              "      <td>http://sehatnegeriku.kemkes.go.id/baca/rilis-m...</td>\n",
              "      <td>662119780484792</td>\n",
              "      <td>[]</td>\n",
              "    </tr>\n",
              "    <tr>\n",
              "      <th>3</th>\n",
              "      <td>4004358039594266</td>\n",
              "      <td>Rakornas KKI: Meningkatkan profesionalisme dok...</td>\n",
              "      <td>Rakornas KKI: Meningkatkan profesionalisme dok...</td>\n",
              "      <td>NaN</td>\n",
              "      <td>2020-11-28 06:41:48</td>\n",
              "      <td>NaN</td>\n",
              "      <td>NaN</td>\n",
              "      <td>NaN</td>\n",
              "      <td>NaN</td>\n",
              "      <td>1042</td>\n",
              "      <td>19</td>\n",
              "      <td>0</td>\n",
              "      <td>https://facebook.com/story.php?story_fbid=4004...</td>\n",
              "      <td>NaN</td>\n",
              "      <td>662119780484792</td>\n",
              "      <td>[]</td>\n",
              "    </tr>\n",
              "    <tr>\n",
              "      <th>4</th>\n",
              "      <td>4003974322965971</td>\n",
              "      <td>Protokol Kesehatan Ketat Percepat Pemulihan Ke...</td>\n",
              "      <td>Protokol Kesehatan Ketat Percepat Pemulihan Ke...</td>\n",
              "      <td>SEHATNEGERIKU.KEMKES.GO.ID\\nProtokol Kesehatan...</td>\n",
              "      <td>2020-11-28 03:40:43</td>\n",
              "      <td>NaN</td>\n",
              "      <td>NaN</td>\n",
              "      <td>NaN</td>\n",
              "      <td>NaN</td>\n",
              "      <td>197659</td>\n",
              "      <td>1303</td>\n",
              "      <td>459</td>\n",
              "      <td>https://facebook.com/story.php?story_fbid=4003...</td>\n",
              "      <td>http://sehatnegeriku.kemkes.go.id/baca/rilis-m...</td>\n",
              "      <td>662119780484792</td>\n",
              "      <td>[]</td>\n",
              "    </tr>\n",
              "  </tbody>\n",
              "</table>\n",
              "</div>"
            ],
            "text/plain": [
              "            post_id  ...                                             images\n",
              "0  4004976832865720  ...  ['https://scontent-hkt1-1.xx.fbcdn.net/v/t1.0-...\n",
              "1  4004494309580639  ...                                                 []\n",
              "2  4004417006255036  ...                                                 []\n",
              "3  4004358039594266  ...                                                 []\n",
              "4  4003974322965971  ...                                                 []\n",
              "\n",
              "[5 rows x 16 columns]"
            ]
          },
          "metadata": {
            "tags": []
          },
          "execution_count": 23
        }
      ]
    },
    {
      "cell_type": "code",
      "metadata": {
        "id": "ltxIPCIa6TeC",
        "colab": {
          "base_uri": "https://localhost:8080/",
          "height": 407
        },
        "outputId": "28ee334a-ca10-4cf2-c7c3-97d180daefce"
      },
      "source": [
        "comments"
      ],
      "execution_count": 24,
      "outputs": [
        {
          "output_type": "execute_result",
          "data": {
            "text/html": [
              "<div>\n",
              "<style scoped>\n",
              "    .dataframe tbody tr th:only-of-type {\n",
              "        vertical-align: middle;\n",
              "    }\n",
              "\n",
              "    .dataframe tbody tr th {\n",
              "        vertical-align: top;\n",
              "    }\n",
              "\n",
              "    .dataframe thead th {\n",
              "        text-align: right;\n",
              "    }\n",
              "</style>\n",
              "<table border=\"1\" class=\"dataframe\">\n",
              "  <thead>\n",
              "    <tr style=\"text-align: right;\">\n",
              "      <th></th>\n",
              "      <th>post_id</th>\n",
              "      <th>comment_id</th>\n",
              "      <th>message</th>\n",
              "      <th>created_time</th>\n",
              "    </tr>\n",
              "  </thead>\n",
              "  <tbody>\n",
              "    <tr>\n",
              "      <th>0</th>\n",
              "      <td>4004976832865720</td>\n",
              "      <td>4004983519531718</td>\n",
              "      <td>Pemerintah sudah berusaha semaksimal mungkin m...</td>\n",
              "      <td>2020-11-28T12:11:41+0000</td>\n",
              "    </tr>\n",
              "    <tr>\n",
              "      <th>1</th>\n",
              "      <td>4004976832865720</td>\n",
              "      <td>4004992759530794</td>\n",
              "      <td>Tetap semangat dan berpikir Positif banyak ber...</td>\n",
              "      <td>2020-11-28T12:16:15+0000</td>\n",
              "    </tr>\n",
              "    <tr>\n",
              "      <th>2</th>\n",
              "      <td>4004976832865720</td>\n",
              "      <td>4005452882818115</td>\n",
              "      <td>Banyak orang meninggal bukan karena Corona...m...</td>\n",
              "      <td>2020-11-28T15:33:11+0000</td>\n",
              "    </tr>\n",
              "    <tr>\n",
              "      <th>3</th>\n",
              "      <td>4004976832865720</td>\n",
              "      <td>4004980589532011</td>\n",
              "      <td>Terima kasih banyak atas semua ini tetap  berf...</td>\n",
              "      <td>2020-11-28T12:10:16+0000</td>\n",
              "    </tr>\n",
              "    <tr>\n",
              "      <th>4</th>\n",
              "      <td>4004976832865720</td>\n",
              "      <td>182384916953080</td>\n",
              "      <td>Alangkah bijaknya pemerintah  memperketat juml...</td>\n",
              "      <td>2020-11-29T00:57:02+0000</td>\n",
              "    </tr>\n",
              "    <tr>\n",
              "      <th>...</th>\n",
              "      <td>...</td>\n",
              "      <td>...</td>\n",
              "      <td>...</td>\n",
              "      <td>...</td>\n",
              "    </tr>\n",
              "    <tr>\n",
              "      <th>2275</th>\n",
              "      <td>4000645779965492</td>\n",
              "      <td>4001835589846511</td>\n",
              "      <td>Lanjutkan dansa nya smpai akhirnya terjatuh de...</td>\n",
              "      <td>2020-11-27T10:53:33+0000</td>\n",
              "    </tr>\n",
              "    <tr>\n",
              "      <th>2276</th>\n",
              "      <td>4000645779965492</td>\n",
              "      <td>4001219573241446</td>\n",
              "      <td>Vaksinasi nya kpan ya, ada yg tau!!</td>\n",
              "      <td>2020-11-27T05:24:41+0000</td>\n",
              "    </tr>\n",
              "    <tr>\n",
              "      <th>2277</th>\n",
              "      <td>4000645779965492</td>\n",
              "      <td>4002639966432740</td>\n",
              "      <td>Kapan dimulai paksinya</td>\n",
              "      <td>2020-11-27T16:43:23+0000</td>\n",
              "    </tr>\n",
              "    <tr>\n",
              "      <th>2278</th>\n",
              "      <td>4000645779965492</td>\n",
              "      <td>4001815623181841</td>\n",
              "      <td>Kmaren ada yg di faksin lahhh dia lumpuhhh🤣🤣 n...</td>\n",
              "      <td>2020-11-27T10:43:37+0000</td>\n",
              "    </tr>\n",
              "    <tr>\n",
              "      <th>2279</th>\n",
              "      <td>4000645779965492</td>\n",
              "      <td>4001670133196390</td>\n",
              "      <td>Saya mau tanya Corona itu virus seperti apa?.</td>\n",
              "      <td>2020-11-27T09:27:35+0000</td>\n",
              "    </tr>\n",
              "  </tbody>\n",
              "</table>\n",
              "<p>2280 rows × 4 columns</p>\n",
              "</div>"
            ],
            "text/plain": [
              "               post_id  ...              created_time\n",
              "0     4004976832865720  ...  2020-11-28T12:11:41+0000\n",
              "1     4004976832865720  ...  2020-11-28T12:16:15+0000\n",
              "2     4004976832865720  ...  2020-11-28T15:33:11+0000\n",
              "3     4004976832865720  ...  2020-11-28T12:10:16+0000\n",
              "4     4004976832865720  ...  2020-11-29T00:57:02+0000\n",
              "...                ...  ...                       ...\n",
              "2275  4000645779965492  ...  2020-11-27T10:53:33+0000\n",
              "2276  4000645779965492  ...  2020-11-27T05:24:41+0000\n",
              "2277  4000645779965492  ...  2020-11-27T16:43:23+0000\n",
              "2278  4000645779965492  ...  2020-11-27T10:43:37+0000\n",
              "2279  4000645779965492  ...  2020-11-27T09:27:35+0000\n",
              "\n",
              "[2280 rows x 4 columns]"
            ]
          },
          "metadata": {
            "tags": []
          },
          "execution_count": 24
        }
      ]
    },
    {
      "cell_type": "code",
      "metadata": {
        "id": "vj9KjQa02Htk",
        "colab": {
          "base_uri": "https://localhost:8080/",
          "height": 534
        },
        "outputId": "38b10db2-4fe5-45da-cb21-dcbd42299972"
      },
      "source": [
        "# removing duplicates if any\n",
        "\n",
        "df = raw_data.drop_duplicates()\n",
        "df = raw_data.reset_index(drop=True)\n",
        "df.head()"
      ],
      "execution_count": 25,
      "outputs": [
        {
          "output_type": "execute_result",
          "data": {
            "text/html": [
              "<div>\n",
              "<style scoped>\n",
              "    .dataframe tbody tr th:only-of-type {\n",
              "        vertical-align: middle;\n",
              "    }\n",
              "\n",
              "    .dataframe tbody tr th {\n",
              "        vertical-align: top;\n",
              "    }\n",
              "\n",
              "    .dataframe thead th {\n",
              "        text-align: right;\n",
              "    }\n",
              "</style>\n",
              "<table border=\"1\" class=\"dataframe\">\n",
              "  <thead>\n",
              "    <tr style=\"text-align: right;\">\n",
              "      <th></th>\n",
              "      <th>Unnamed: 0</th>\n",
              "      <th>post_id</th>\n",
              "      <th>text</th>\n",
              "      <th>post_text</th>\n",
              "      <th>shared_text</th>\n",
              "      <th>time</th>\n",
              "      <th>image</th>\n",
              "      <th>video</th>\n",
              "      <th>video_thumbnail</th>\n",
              "      <th>video_id</th>\n",
              "      <th>likes</th>\n",
              "      <th>comments</th>\n",
              "      <th>shares</th>\n",
              "      <th>post_url</th>\n",
              "      <th>link</th>\n",
              "      <th>user_id</th>\n",
              "      <th>images</th>\n",
              "      <th>comments_msg</th>\n",
              "    </tr>\n",
              "  </thead>\n",
              "  <tbody>\n",
              "    <tr>\n",
              "      <th>0</th>\n",
              "      <td>0</td>\n",
              "      <td>4004976832865720</td>\n",
              "      <td>#Update Perkembangan COVID-19 di Indonesia per...</td>\n",
              "      <td>#Update Perkembangan COVID-19 di Indonesia per...</td>\n",
              "      <td>NaN</td>\n",
              "      <td>2020-11-28 12:08:45</td>\n",
              "      <td>https://scontent-hkt1-1.xx.fbcdn.net/v/t1.0-9/...</td>\n",
              "      <td>NaN</td>\n",
              "      <td>NaN</td>\n",
              "      <td>NaN</td>\n",
              "      <td>63636</td>\n",
              "      <td>1285</td>\n",
              "      <td>0</td>\n",
              "      <td>https://facebook.com/story.php?story_fbid=4004...</td>\n",
              "      <td>NaN</td>\n",
              "      <td>662119780484792</td>\n",
              "      <td>['https://scontent-hkt1-1.xx.fbcdn.net/v/t1.0-...</td>\n",
              "      <td>Pemerintah sudah berusaha semaksimal mungkin m...</td>\n",
              "    </tr>\n",
              "    <tr>\n",
              "      <th>1</th>\n",
              "      <td>1</td>\n",
              "      <td>4004494309580639</td>\n",
              "      <td>Stafsus Daniel Tinjau Kesiapan Rumkit TNI AD S...</td>\n",
              "      <td>Stafsus Daniel Tinjau Kesiapan Rumkit TNI AD S...</td>\n",
              "      <td>SEHATNEGERIKU.KEMKES.GO.ID\\nStafsus Daniel Tin...</td>\n",
              "      <td>2020-11-28 08:00:21</td>\n",
              "      <td>NaN</td>\n",
              "      <td>NaN</td>\n",
              "      <td>NaN</td>\n",
              "      <td>NaN</td>\n",
              "      <td>263654</td>\n",
              "      <td>646</td>\n",
              "      <td>332</td>\n",
              "      <td>https://facebook.com/story.php?story_fbid=4004...</td>\n",
              "      <td>http://sehatnegeriku.kemkes.go.id/baca/rilis-m...</td>\n",
              "      <td>662119780484792</td>\n",
              "      <td>[]</td>\n",
              "      <td>Tetap semangat dan berpikir positif banyak ber...</td>\n",
              "    </tr>\n",
              "    <tr>\n",
              "      <th>2</th>\n",
              "      <td>2</td>\n",
              "      <td>4004417006255036</td>\n",
              "      <td>Peroleh Rekor Muri, Layanan PSC 119 di Sumsel ...</td>\n",
              "      <td>Peroleh Rekor Muri, Layanan PSC 119 di Sumsel ...</td>\n",
              "      <td>SEHATNEGERIKU.KEMKES.GO.ID\\nPeroleh Rekor Muri...</td>\n",
              "      <td>2020-11-28 07:15:20</td>\n",
              "      <td>NaN</td>\n",
              "      <td>NaN</td>\n",
              "      <td>NaN</td>\n",
              "      <td>NaN</td>\n",
              "      <td>106157</td>\n",
              "      <td>308</td>\n",
              "      <td>135</td>\n",
              "      <td>https://facebook.com/story.php?story_fbid=4004...</td>\n",
              "      <td>http://sehatnegeriku.kemkes.go.id/baca/rilis-m...</td>\n",
              "      <td>662119780484792</td>\n",
              "      <td>[]</td>\n",
              "      <td>Tetap semangat dan berpikir positif banyak ber...</td>\n",
              "    </tr>\n",
              "    <tr>\n",
              "      <th>3</th>\n",
              "      <td>3</td>\n",
              "      <td>4004358039594266</td>\n",
              "      <td>Rakornas KKI: Meningkatkan profesionalisme dok...</td>\n",
              "      <td>Rakornas KKI: Meningkatkan profesionalisme dok...</td>\n",
              "      <td>NaN</td>\n",
              "      <td>2020-11-28 06:41:48</td>\n",
              "      <td>NaN</td>\n",
              "      <td>NaN</td>\n",
              "      <td>NaN</td>\n",
              "      <td>NaN</td>\n",
              "      <td>1042</td>\n",
              "      <td>19</td>\n",
              "      <td>0</td>\n",
              "      <td>https://facebook.com/story.php?story_fbid=4004...</td>\n",
              "      <td>NaN</td>\n",
              "      <td>662119780484792</td>\n",
              "      <td>[]</td>\n",
              "      <td>Terima kasih banyak atas semua ini tetap  berf...</td>\n",
              "    </tr>\n",
              "    <tr>\n",
              "      <th>4</th>\n",
              "      <td>4</td>\n",
              "      <td>4003974322965971</td>\n",
              "      <td>Protokol Kesehatan Ketat Percepat Pemulihan Ke...</td>\n",
              "      <td>Protokol Kesehatan Ketat Percepat Pemulihan Ke...</td>\n",
              "      <td>SEHATNEGERIKU.KEMKES.GO.ID\\nProtokol Kesehatan...</td>\n",
              "      <td>2020-11-28 03:40:43</td>\n",
              "      <td>NaN</td>\n",
              "      <td>NaN</td>\n",
              "      <td>NaN</td>\n",
              "      <td>NaN</td>\n",
              "      <td>197659</td>\n",
              "      <td>1303</td>\n",
              "      <td>459</td>\n",
              "      <td>https://facebook.com/story.php?story_fbid=4003...</td>\n",
              "      <td>http://sehatnegeriku.kemkes.go.id/baca/rilis-m...</td>\n",
              "      <td>662119780484792</td>\n",
              "      <td>[]</td>\n",
              "      <td>Kerja bagus yg patut dicontoh, sehat Bali seha...</td>\n",
              "    </tr>\n",
              "  </tbody>\n",
              "</table>\n",
              "</div>"
            ],
            "text/plain": [
              "   Unnamed: 0  ...                                       comments_msg\n",
              "0           0  ...  Pemerintah sudah berusaha semaksimal mungkin m...\n",
              "1           1  ...  Tetap semangat dan berpikir positif banyak ber...\n",
              "2           2  ...  Tetap semangat dan berpikir positif banyak ber...\n",
              "3           3  ...  Terima kasih banyak atas semua ini tetap  berf...\n",
              "4           4  ...  Kerja bagus yg patut dicontoh, sehat Bali seha...\n",
              "\n",
              "[5 rows x 18 columns]"
            ]
          },
          "metadata": {
            "tags": []
          },
          "execution_count": 25
        }
      ]
    },
    {
      "cell_type": "code",
      "metadata": {
        "id": "fleC4W1s2oCS",
        "colab": {
          "base_uri": "https://localhost:8080/",
          "height": 281
        },
        "outputId": "86bda016-a6b8-4929-8739-a6759e7f52f4"
      },
      "source": [
        "# drop unused data\n",
        "col = ['Unnamed: 0', 'shared_text', 'image',\t'video',\t'video_thumbnail', 'video_id', 'post_url', 'link', 'user_id', 'images']\n",
        "df.drop(col, inplace=True, axis=1)\n",
        "df.head()"
      ],
      "execution_count": 26,
      "outputs": [
        {
          "output_type": "execute_result",
          "data": {
            "text/html": [
              "<div>\n",
              "<style scoped>\n",
              "    .dataframe tbody tr th:only-of-type {\n",
              "        vertical-align: middle;\n",
              "    }\n",
              "\n",
              "    .dataframe tbody tr th {\n",
              "        vertical-align: top;\n",
              "    }\n",
              "\n",
              "    .dataframe thead th {\n",
              "        text-align: right;\n",
              "    }\n",
              "</style>\n",
              "<table border=\"1\" class=\"dataframe\">\n",
              "  <thead>\n",
              "    <tr style=\"text-align: right;\">\n",
              "      <th></th>\n",
              "      <th>post_id</th>\n",
              "      <th>text</th>\n",
              "      <th>post_text</th>\n",
              "      <th>time</th>\n",
              "      <th>likes</th>\n",
              "      <th>comments</th>\n",
              "      <th>shares</th>\n",
              "      <th>comments_msg</th>\n",
              "    </tr>\n",
              "  </thead>\n",
              "  <tbody>\n",
              "    <tr>\n",
              "      <th>0</th>\n",
              "      <td>4004976832865720</td>\n",
              "      <td>#Update Perkembangan COVID-19 di Indonesia per...</td>\n",
              "      <td>#Update Perkembangan COVID-19 di Indonesia per...</td>\n",
              "      <td>2020-11-28 12:08:45</td>\n",
              "      <td>63636</td>\n",
              "      <td>1285</td>\n",
              "      <td>0</td>\n",
              "      <td>Pemerintah sudah berusaha semaksimal mungkin m...</td>\n",
              "    </tr>\n",
              "    <tr>\n",
              "      <th>1</th>\n",
              "      <td>4004494309580639</td>\n",
              "      <td>Stafsus Daniel Tinjau Kesiapan Rumkit TNI AD S...</td>\n",
              "      <td>Stafsus Daniel Tinjau Kesiapan Rumkit TNI AD S...</td>\n",
              "      <td>2020-11-28 08:00:21</td>\n",
              "      <td>263654</td>\n",
              "      <td>646</td>\n",
              "      <td>332</td>\n",
              "      <td>Tetap semangat dan berpikir positif banyak ber...</td>\n",
              "    </tr>\n",
              "    <tr>\n",
              "      <th>2</th>\n",
              "      <td>4004417006255036</td>\n",
              "      <td>Peroleh Rekor Muri, Layanan PSC 119 di Sumsel ...</td>\n",
              "      <td>Peroleh Rekor Muri, Layanan PSC 119 di Sumsel ...</td>\n",
              "      <td>2020-11-28 07:15:20</td>\n",
              "      <td>106157</td>\n",
              "      <td>308</td>\n",
              "      <td>135</td>\n",
              "      <td>Tetap semangat dan berpikir positif banyak ber...</td>\n",
              "    </tr>\n",
              "    <tr>\n",
              "      <th>3</th>\n",
              "      <td>4004358039594266</td>\n",
              "      <td>Rakornas KKI: Meningkatkan profesionalisme dok...</td>\n",
              "      <td>Rakornas KKI: Meningkatkan profesionalisme dok...</td>\n",
              "      <td>2020-11-28 06:41:48</td>\n",
              "      <td>1042</td>\n",
              "      <td>19</td>\n",
              "      <td>0</td>\n",
              "      <td>Terima kasih banyak atas semua ini tetap  berf...</td>\n",
              "    </tr>\n",
              "    <tr>\n",
              "      <th>4</th>\n",
              "      <td>4003974322965971</td>\n",
              "      <td>Protokol Kesehatan Ketat Percepat Pemulihan Ke...</td>\n",
              "      <td>Protokol Kesehatan Ketat Percepat Pemulihan Ke...</td>\n",
              "      <td>2020-11-28 03:40:43</td>\n",
              "      <td>197659</td>\n",
              "      <td>1303</td>\n",
              "      <td>459</td>\n",
              "      <td>Kerja bagus yg patut dicontoh, sehat Bali seha...</td>\n",
              "    </tr>\n",
              "  </tbody>\n",
              "</table>\n",
              "</div>"
            ],
            "text/plain": [
              "            post_id  ...                                       comments_msg\n",
              "0  4004976832865720  ...  Pemerintah sudah berusaha semaksimal mungkin m...\n",
              "1  4004494309580639  ...  Tetap semangat dan berpikir positif banyak ber...\n",
              "2  4004417006255036  ...  Tetap semangat dan berpikir positif banyak ber...\n",
              "3  4004358039594266  ...  Terima kasih banyak atas semua ini tetap  berf...\n",
              "4  4003974322965971  ...  Kerja bagus yg patut dicontoh, sehat Bali seha...\n",
              "\n",
              "[5 rows x 8 columns]"
            ]
          },
          "metadata": {
            "tags": []
          },
          "execution_count": 26
        }
      ]
    },
    {
      "cell_type": "code",
      "metadata": {
        "id": "gPVd4FaA6Xy7",
        "colab": {
          "base_uri": "https://localhost:8080/",
          "height": 934
        },
        "outputId": "783fc00c-1e23-4895-efd6-3dfc20ff704d"
      },
      "source": [
        "raw_data"
      ],
      "execution_count": 27,
      "outputs": [
        {
          "output_type": "execute_result",
          "data": {
            "text/html": [
              "<div>\n",
              "<style scoped>\n",
              "    .dataframe tbody tr th:only-of-type {\n",
              "        vertical-align: middle;\n",
              "    }\n",
              "\n",
              "    .dataframe tbody tr th {\n",
              "        vertical-align: top;\n",
              "    }\n",
              "\n",
              "    .dataframe thead th {\n",
              "        text-align: right;\n",
              "    }\n",
              "</style>\n",
              "<table border=\"1\" class=\"dataframe\">\n",
              "  <thead>\n",
              "    <tr style=\"text-align: right;\">\n",
              "      <th></th>\n",
              "      <th>Unnamed: 0</th>\n",
              "      <th>post_id</th>\n",
              "      <th>text</th>\n",
              "      <th>post_text</th>\n",
              "      <th>shared_text</th>\n",
              "      <th>time</th>\n",
              "      <th>image</th>\n",
              "      <th>video</th>\n",
              "      <th>video_thumbnail</th>\n",
              "      <th>video_id</th>\n",
              "      <th>likes</th>\n",
              "      <th>comments</th>\n",
              "      <th>shares</th>\n",
              "      <th>post_url</th>\n",
              "      <th>link</th>\n",
              "      <th>user_id</th>\n",
              "      <th>images</th>\n",
              "      <th>comments_msg</th>\n",
              "    </tr>\n",
              "  </thead>\n",
              "  <tbody>\n",
              "    <tr>\n",
              "      <th>0</th>\n",
              "      <td>0</td>\n",
              "      <td>4004976832865720</td>\n",
              "      <td>#Update Perkembangan COVID-19 di Indonesia per...</td>\n",
              "      <td>#Update Perkembangan COVID-19 di Indonesia per...</td>\n",
              "      <td>NaN</td>\n",
              "      <td>2020-11-28 12:08:45</td>\n",
              "      <td>https://scontent-hkt1-1.xx.fbcdn.net/v/t1.0-9/...</td>\n",
              "      <td>NaN</td>\n",
              "      <td>NaN</td>\n",
              "      <td>NaN</td>\n",
              "      <td>63636</td>\n",
              "      <td>1285</td>\n",
              "      <td>0</td>\n",
              "      <td>https://facebook.com/story.php?story_fbid=4004...</td>\n",
              "      <td>NaN</td>\n",
              "      <td>662119780484792</td>\n",
              "      <td>['https://scontent-hkt1-1.xx.fbcdn.net/v/t1.0-...</td>\n",
              "      <td>Pemerintah sudah berusaha semaksimal mungkin m...</td>\n",
              "    </tr>\n",
              "    <tr>\n",
              "      <th>1</th>\n",
              "      <td>1</td>\n",
              "      <td>4004494309580639</td>\n",
              "      <td>Stafsus Daniel Tinjau Kesiapan Rumkit TNI AD S...</td>\n",
              "      <td>Stafsus Daniel Tinjau Kesiapan Rumkit TNI AD S...</td>\n",
              "      <td>SEHATNEGERIKU.KEMKES.GO.ID\\nStafsus Daniel Tin...</td>\n",
              "      <td>2020-11-28 08:00:21</td>\n",
              "      <td>NaN</td>\n",
              "      <td>NaN</td>\n",
              "      <td>NaN</td>\n",
              "      <td>NaN</td>\n",
              "      <td>263654</td>\n",
              "      <td>646</td>\n",
              "      <td>332</td>\n",
              "      <td>https://facebook.com/story.php?story_fbid=4004...</td>\n",
              "      <td>http://sehatnegeriku.kemkes.go.id/baca/rilis-m...</td>\n",
              "      <td>662119780484792</td>\n",
              "      <td>[]</td>\n",
              "      <td>Tetap semangat dan berpikir positif banyak ber...</td>\n",
              "    </tr>\n",
              "    <tr>\n",
              "      <th>2</th>\n",
              "      <td>2</td>\n",
              "      <td>4004417006255036</td>\n",
              "      <td>Peroleh Rekor Muri, Layanan PSC 119 di Sumsel ...</td>\n",
              "      <td>Peroleh Rekor Muri, Layanan PSC 119 di Sumsel ...</td>\n",
              "      <td>SEHATNEGERIKU.KEMKES.GO.ID\\nPeroleh Rekor Muri...</td>\n",
              "      <td>2020-11-28 07:15:20</td>\n",
              "      <td>NaN</td>\n",
              "      <td>NaN</td>\n",
              "      <td>NaN</td>\n",
              "      <td>NaN</td>\n",
              "      <td>106157</td>\n",
              "      <td>308</td>\n",
              "      <td>135</td>\n",
              "      <td>https://facebook.com/story.php?story_fbid=4004...</td>\n",
              "      <td>http://sehatnegeriku.kemkes.go.id/baca/rilis-m...</td>\n",
              "      <td>662119780484792</td>\n",
              "      <td>[]</td>\n",
              "      <td>Tetap semangat dan berpikir positif banyak ber...</td>\n",
              "    </tr>\n",
              "    <tr>\n",
              "      <th>3</th>\n",
              "      <td>3</td>\n",
              "      <td>4004358039594266</td>\n",
              "      <td>Rakornas KKI: Meningkatkan profesionalisme dok...</td>\n",
              "      <td>Rakornas KKI: Meningkatkan profesionalisme dok...</td>\n",
              "      <td>NaN</td>\n",
              "      <td>2020-11-28 06:41:48</td>\n",
              "      <td>NaN</td>\n",
              "      <td>NaN</td>\n",
              "      <td>NaN</td>\n",
              "      <td>NaN</td>\n",
              "      <td>1042</td>\n",
              "      <td>19</td>\n",
              "      <td>0</td>\n",
              "      <td>https://facebook.com/story.php?story_fbid=4004...</td>\n",
              "      <td>NaN</td>\n",
              "      <td>662119780484792</td>\n",
              "      <td>[]</td>\n",
              "      <td>Terima kasih banyak atas semua ini tetap  berf...</td>\n",
              "    </tr>\n",
              "    <tr>\n",
              "      <th>4</th>\n",
              "      <td>4</td>\n",
              "      <td>4003974322965971</td>\n",
              "      <td>Protokol Kesehatan Ketat Percepat Pemulihan Ke...</td>\n",
              "      <td>Protokol Kesehatan Ketat Percepat Pemulihan Ke...</td>\n",
              "      <td>SEHATNEGERIKU.KEMKES.GO.ID\\nProtokol Kesehatan...</td>\n",
              "      <td>2020-11-28 03:40:43</td>\n",
              "      <td>NaN</td>\n",
              "      <td>NaN</td>\n",
              "      <td>NaN</td>\n",
              "      <td>NaN</td>\n",
              "      <td>197659</td>\n",
              "      <td>1303</td>\n",
              "      <td>459</td>\n",
              "      <td>https://facebook.com/story.php?story_fbid=4003...</td>\n",
              "      <td>http://sehatnegeriku.kemkes.go.id/baca/rilis-m...</td>\n",
              "      <td>662119780484792</td>\n",
              "      <td>[]</td>\n",
              "      <td>Kerja bagus yg patut dicontoh, sehat Bali seha...</td>\n",
              "    </tr>\n",
              "    <tr>\n",
              "      <th>5</th>\n",
              "      <td>5</td>\n",
              "      <td>4003663296330407</td>\n",
              "      <td>Selamat Pagi #Healthies\\n\\nAkhir-akhir ini beb...</td>\n",
              "      <td>Selamat Pagi #Healthies\\n\\nAkhir-akhir ini beb...</td>\n",
              "      <td>NaN</td>\n",
              "      <td>2020-11-28 01:07:50</td>\n",
              "      <td>https://scontent-hkt1-1.xx.fbcdn.net/v/t1.0-9/...</td>\n",
              "      <td>NaN</td>\n",
              "      <td>NaN</td>\n",
              "      <td>NaN</td>\n",
              "      <td>2833</td>\n",
              "      <td>49</td>\n",
              "      <td>0</td>\n",
              "      <td>https://facebook.com/story.php?story_fbid=4003...</td>\n",
              "      <td>NaN</td>\n",
              "      <td>662119780484792</td>\n",
              "      <td>['https://scontent-hkt1-1.xx.fbcdn.net/v/t1.0-...</td>\n",
              "      <td>Tetap Waspada jaga kesehatan ikuti protokol sa...</td>\n",
              "    </tr>\n",
              "    <tr>\n",
              "      <th>6</th>\n",
              "      <td>6</td>\n",
              "      <td>4002335383129865</td>\n",
              "      <td>RSUD Buleleng Mampu Tes PCR Mandiri\\n\\nBali, 2...</td>\n",
              "      <td>RSUD Buleleng Mampu Tes PCR Mandiri\\n\\nBali, 2...</td>\n",
              "      <td>SEHATNEGERIKU.KEMKES.GO.ID\\nRSUD Buleleng Mamp...</td>\n",
              "      <td>2020-11-27 14:36:17</td>\n",
              "      <td>NaN</td>\n",
              "      <td>NaN</td>\n",
              "      <td>NaN</td>\n",
              "      <td>NaN</td>\n",
              "      <td>222208</td>\n",
              "      <td>733</td>\n",
              "      <td>478</td>\n",
              "      <td>https://facebook.com/story.php?story_fbid=4002...</td>\n",
              "      <td>http://sehatnegeriku.kemkes.go.id/baca/rilis-m...</td>\n",
              "      <td>662119780484792</td>\n",
              "      <td>[]</td>\n",
              "      <td>Bersama rakyat TNI kuat. Tiada daya dan kekuat...</td>\n",
              "    </tr>\n",
              "    <tr>\n",
              "      <th>7</th>\n",
              "      <td>7</td>\n",
              "      <td>4001694956527241</td>\n",
              "      <td>Perbaiki Sektor Pariwisata di Masa Pandemi COV...</td>\n",
              "      <td>Perbaiki Sektor Pariwisata di Masa Pandemi COV...</td>\n",
              "      <td>SEHATNEGERIKU.KEMKES.GO.ID\\nPerbaiki Sektor Pa...</td>\n",
              "      <td>2020-11-27 09:40:51</td>\n",
              "      <td>NaN</td>\n",
              "      <td>NaN</td>\n",
              "      <td>NaN</td>\n",
              "      <td>NaN</td>\n",
              "      <td>170032</td>\n",
              "      <td>1874</td>\n",
              "      <td>588</td>\n",
              "      <td>https://facebook.com/story.php?story_fbid=4001...</td>\n",
              "      <td>http://sehatnegeriku.kemkes.go.id/baca/rilis-m...</td>\n",
              "      <td>662119780484792</td>\n",
              "      <td>[]</td>\n",
              "      <td>Tetap Waspada jaga kesehatan ikuti protokol sa...</td>\n",
              "    </tr>\n",
              "    <tr>\n",
              "      <th>8</th>\n",
              "      <td>8</td>\n",
              "      <td>4001626216534115</td>\n",
              "      <td>#Update Perkembangan COVID-19 di Indonesia per...</td>\n",
              "      <td>#Update Perkembangan COVID-19 di Indonesia per...</td>\n",
              "      <td>NaN</td>\n",
              "      <td>2020-11-27 09:03:36</td>\n",
              "      <td>https://scontent-hkt1-1.xx.fbcdn.net/v/t1.0-9/...</td>\n",
              "      <td>NaN</td>\n",
              "      <td>NaN</td>\n",
              "      <td>NaN</td>\n",
              "      <td>73346</td>\n",
              "      <td>1489</td>\n",
              "      <td>0</td>\n",
              "      <td>https://facebook.com/story.php?story_fbid=4001...</td>\n",
              "      <td>NaN</td>\n",
              "      <td>662119780484792</td>\n",
              "      <td>['https://scontent-hkt1-1.xx.fbcdn.net/v/t1.0-...</td>\n",
              "      <td>Terima kasih banyak atas semua ini tetap  berf...</td>\n",
              "    </tr>\n",
              "    <tr>\n",
              "      <th>9</th>\n",
              "      <td>9</td>\n",
              "      <td>4000645779965492</td>\n",
              "      <td>Hai #Healthies\\n\\nSaat ini di Indonesia ada se...</td>\n",
              "      <td>Hai #Healthies\\n\\nSaat ini di Indonesia ada se...</td>\n",
              "      <td>NaN</td>\n",
              "      <td>2020-11-27 00:30:11</td>\n",
              "      <td>https://scontent-hkt1-1.xx.fbcdn.net/v/t1.0-9/...</td>\n",
              "      <td>NaN</td>\n",
              "      <td>NaN</td>\n",
              "      <td>NaN</td>\n",
              "      <td>63068</td>\n",
              "      <td>714</td>\n",
              "      <td>0</td>\n",
              "      <td>https://facebook.com/story.php?story_fbid=4000...</td>\n",
              "      <td>NaN</td>\n",
              "      <td>662119780484792</td>\n",
              "      <td>['https://scontent-hkt1-1.xx.fbcdn.net/v/t1.0-...</td>\n",
              "      <td>Tetap semangat dan berpikir positif banyak ber...</td>\n",
              "    </tr>\n",
              "  </tbody>\n",
              "</table>\n",
              "</div>"
            ],
            "text/plain": [
              "   Unnamed: 0  ...                                       comments_msg\n",
              "0           0  ...  Pemerintah sudah berusaha semaksimal mungkin m...\n",
              "1           1  ...  Tetap semangat dan berpikir positif banyak ber...\n",
              "2           2  ...  Tetap semangat dan berpikir positif banyak ber...\n",
              "3           3  ...  Terima kasih banyak atas semua ini tetap  berf...\n",
              "4           4  ...  Kerja bagus yg patut dicontoh, sehat Bali seha...\n",
              "5           5  ...  Tetap Waspada jaga kesehatan ikuti protokol sa...\n",
              "6           6  ...  Bersama rakyat TNI kuat. Tiada daya dan kekuat...\n",
              "7           7  ...  Tetap Waspada jaga kesehatan ikuti protokol sa...\n",
              "8           8  ...  Terima kasih banyak atas semua ini tetap  berf...\n",
              "9           9  ...  Tetap semangat dan berpikir positif banyak ber...\n",
              "\n",
              "[10 rows x 18 columns]"
            ]
          },
          "metadata": {
            "tags": []
          },
          "execution_count": 27
        }
      ]
    },
    {
      "cell_type": "code",
      "metadata": {
        "id": "L659LBu7pzQN",
        "colab": {
          "base_uri": "https://localhost:8080/"
        },
        "outputId": "eb7e346f-4ba0-4b58-d469-9f4ff1d8830e"
      },
      "source": [
        "# check if any null\n",
        "df.isnull().sum()"
      ],
      "execution_count": 28,
      "outputs": [
        {
          "output_type": "execute_result",
          "data": {
            "text/plain": [
              "post_id         0\n",
              "text            0\n",
              "post_text       0\n",
              "time            0\n",
              "likes           0\n",
              "comments        0\n",
              "shares          0\n",
              "comments_msg    0\n",
              "dtype: int64"
            ]
          },
          "metadata": {
            "tags": []
          },
          "execution_count": 28
        }
      ]
    },
    {
      "cell_type": "markdown",
      "metadata": {
        "id": "_f5SLUvNyJvf"
      },
      "source": [
        "# **Preprocessing Data**"
      ]
    },
    {
      "cell_type": "code",
      "metadata": {
        "id": "WstP0ub6U_WK"
      },
      "source": [
        "stop_factory = StopWordRemoverFactory().get_stop_words() #load default stopword"
      ],
      "execution_count": 29,
      "outputs": []
    },
    {
      "cell_type": "code",
      "metadata": {
        "id": "Kznnsyrm73xq"
      },
      "source": [
        "# kata singkatan ambil dari https://github.com/ramaprakoso/analisis-sentimen/blob/master/kamus/kbba.txt\n",
        "kbba = pd.read_csv('drive/My Drive/Project Sistem Pakar/Dataset/kbba.csv')"
      ],
      "execution_count": 30,
      "outputs": []
    },
    {
      "cell_type": "code",
      "metadata": {
        "id": "YZBAXd_H9S1u"
      },
      "source": [
        "more_stopword = [] #menambahkan stopword\n",
        "\n",
        "for i in range(len(kbba['Singkatan'])):\n",
        "  review = kbba['Singkatan'][i]\n",
        "  more_stopword.append(review)"
      ],
      "execution_count": 31,
      "outputs": []
    },
    {
      "cell_type": "code",
      "metadata": {
        "id": "KJIOBu3I99AZ",
        "colab": {
          "base_uri": "https://localhost:8080/"
        },
        "outputId": "6cb6dc98-1570-4bfe-d740-96a25c6c279b"
      },
      "source": [
        "print(more_stopword)"
      ],
      "execution_count": 32,
      "outputs": [
        {
          "output_type": "stream",
          "text": [
            "['7an', '@', 'aamin', 'aammiiaamiinn', 'ababil', 'abis', 'acc', 'ad', 'adlah', 'adlh', 'adoh', 'afaik', 'aha', 'ahaha', 'aing', 'aj', 'aja', 'ajep-ajep', 'ajj', 'ak', 'aka', 'akika', 'akko', 'akkoh', 'akku', 'akuwh', 'akyu', 'alay', 'aljasa', 'alow', 'ama', 'ambilin', 'ambl', 'ancur', 'anjir', 'anjrit', 'ank', 'anter', 'ap', 'ap2', 'apaan', 'apasih', 'ape', 'apes', 'aplot', 'aps', 'apva', 'aq', 'aqu', 'aquwh', 'asap', 'asbun', 'aseek', 'aseekk', 'asek', 'asekk', 'aseknya', 'asem', 'asoy', 'aspal', 'astrojim', 'astul', 'ath', 'ato', 'atuh', 'au ah', 'ava', 'awak', 'aws', 'ay', 'ayang', 'ayank', 'ayok', 'b4', 'bacot', 'bakalan', 'bales', 'bandes', 'bangdes', 'bangedh', 'bangkotan', 'banpol', 'banpres', 'banpur', 'bansarkas', 'basbang', 'bazis', 'bcanda', 'bcoz', 'bdg', 'beb', 'begajulan', 'bejibun', 'beliin', 'belom', 'bencong', 'bener', 'bentar', 'ber2', 'ber3', 'berdikari', 'beresin', 'bet', 'bete', 'beti', 'beud', 'beut', 'bg', 'bgd', 'bgmn', 'bgs', 'bgt', 'bhubu', 'bijimane', 'bimbuluh', 'bintal', 'bisi', 'bkl', 'bkn', 'bknnya', 'bl', 'blegug', 'blg', 'blh', 'blm', 'bln', 'bls', 'blum', 'bnchi', 'bnci', 'bngung', 'bnran', 'bnyk', 'bodor', 'bohay', 'bokap', 'bokep', 'boker', 'bokin', 'bokis', 'bole', 'boljug', 'bolot', 'bonek', 'bonyok', 'boyeh', 'bpk', 'br', 'brb', 'brg', 'brngkt', 'bro', 'brp', 'bru', 'brur', 'bs', 'bsa', 'bsen', 'bsk', 'bt', 'bt', 'btw', 'bu_bu', 'buaya', 'bubarin', 'bubbu', 'buber', 'bubu', 'bujubune', 'bumil', 'buser', 'bw', 'bwhn', 'bwt', 'byar', 'byk', 'byr', 'byrin', 'c8', 'cabal', 'cabut', 'cadas', 'caem', 'calo', 'cama-cama', 'can', 'cangcut', 'capcus', 'cape', 'caper', 'caur', 'ce', 'cekak', 'cekal', 'cekidot', 'cemen', 'cemplungin', 'cengengesan', 'ceper', 'cepet', 'ceu', 'cew', 'cewe', 'chuyunk', 'cibuk', 'cimeng', 'cin', 'cipika cipiki', 'ciye', 'ciyh', 'ckck', 'ckepp', 'ckp', 'ckp', 'clbk', 'cmiiw', 'cmpr', 'cmpur', 'cnenk', 'cong', 'congor', 'conlok', 'cow', 'cowwyy', 'coz', 'cp', 'cpa', 'ngeri', 'cpe', 'cppa', 'cppe', 'cr', 'cucok', 'cuek', 'cuex', 'cuman', 'cumi', 'cungkring', 'cups', 'cupu', 'curanmor', 'curas', 'curcol', 'curhat', 'cwek', 'cwok', 'cyin', 'cz', 'd', 'dagh', 'dah', 'damang', 'dapet', 'dateng', 'de', 'dech', 'dek', 'deket', 'demen', 'dengerin', 'deyh', 'dg', 'dgn', 'dh', 'diancurin', 'digosipin', 'dimaafin', 'dimana2', 'dimintak', 'dimna', 'disono', 'diuber', 'dket', 'dkit', 'dkk', 'dl', 'dll', 'dlm', 'dlu', 'dmn', 'dngn', 'doang', 'dodol', 'doi', 'doku', 'don juan', 'dongs', 'donlot', 'dpt', 'dr', 'dri', 'drmana', 'drmn', 'drpd', 'drtd', 'dsb', 'dst', 'dstu', 'dtg', 'dugem', 'duh', 'duit', 'duren', 'dy', 'ed', 'edan', 'egp', 'eike', 'eke', 'elo', 'elu', 'emang', 'emangnya', 'emg', 'emng', 'emte', 'endak', 'engga', 'enggak', 'entar', 'envy', 'etc', 'ex', 'ext', 'fax', 'fb', 'fifo', 'finek', 'folbek', 'fwd', 'fyi', 'ga', 'gaada', 'gabisa', 'gag', 'gahar', 'gaje', 'gak', 'gak papa', 'gamau', 'gan', 'gapapa', 'gaptek', 'gatau', 'gatek', 'gatot', 'gawe', 'gax', 'gbs', 'gda', 'gebetan', 'geer', 'geje', 'gelo', 'gepeng', 'ghiey', 'ghiy', 'gi', 'gile', 'giman', 'gimana', 'gini', 'gino', 'gitchu', 'githu', 'gitu', 'gj', 'gk', 'gmana', 'gmn', 'gn', 'goblog', 'goblok', 'good', 'gokil', 'golput', 'gombal', 'gowes', 'gpl', 'gpny', 'gpp', 'gr', 'gretong', 'gretongan', 'gt', 'gtau', 'gtw', 'gua', 'gue', 'guoblok', 'guys', 'gw', 'gws', 'ha', 'haghaghag', 'haha', 'hakhak', 'hallow', 'handak', 'hankam', 'hansip', 'hehe', 'hellow', 'helo', 'helow', 'hey', 'hi', 'hlm', 'hlng', 'hny', 'hnya', 'hoax', 'houm', 'hr', 'hrs', 'hrus', 'hubad', 'hubdar', 'hubla', 'huff', 'huft', 'hum', 'humas', 'humz', 'idk', 'ilang', 'ilfeel', 'ilfil', 'imba', 'imho', 'imoet', 'imoetz', 'info', 'item', 'itung', 'itungan', 'isengin', 'iy', 'iyala', 'iye', 'iyo', 'ja', 'jablay', 'jadiin', 'jadul', 'jaim', 'jancuk', 'jayus', 'jd', 'jdi', 'jdikan', 'jem', 'jg', 'jga', 'jgn', 'jgnkan', 'jijay', 'jir', 'jkt', 'jln', 'jnj', 'jomblo', 'jth', 'jubir', 'jurdil', 'jutek', 'jwb', 'k', 'ka', 'kab', 'kabag', 'kabor', 'kacian', 'kacrut', 'kadit', 'kadiv', 'kaga', 'kagak', 'kaka', 'kalo', 'kalo', 'kampret', 'kamtib', 'kamtibmas', 'kamuh', 'kamuwh', 'kamyu', 'kanwil', 'kapt', 'karna', 'kasat', 'kasubbag', 'kasubbid', 'katrok', 'kau', 'kayanya', 'kbar', 'kbr', 'kcian', 'kdu', 'ke', 'keburu', 'kec', 'kedubes', 'kejurnas', 'kek', 'kekeuh', 'keknya', 'kel', 'keliatan', 'kemaren', 'keneh', 'kepengen', 'kepikiran', 'kepingin', 'kepo', 'kepsek', 'kere', 'kesbang', 'kesian', 'kesra', 'ketauan', 'ketrima', 'keukeuh', 'kgiatan', 'khan', 'kibul', 'kibus', 'kimpoi', 'kk', 'kl', 'klian', 'klianz', 'klo', 'kloter', 'kluarga', 'klw', 'klwrga', 'km', 'kmari', 'kmps', 'kmpus', 'kmrn', 'kn', 'knal', 'knl', 'knp', 'knpa', 'kodya', 'kog', 'komdis', 'kompi', 'komsov', 'komtiong', 'kongkow', 'konjen', 'kopdar', 'koq', 'korup', 'kpd', 'kpn', 'kptsan', 'krenz', 'krik', 'krm', 'krn', 'kt', 'ktauan', 'ktmu', 'ktny', 'ktr', 'kudu', 'kuper', 'kuq', 'kw', 'ky', 'kyk', 'kykny', 'la', 'laka', 'lam', 'lambreta', 'lamp', 'lansia', 'lanud', 'lapas', 'latgab', 'lbur', 'lebay', 'leh', 'leh', 'lekong', 'lelet', 'lemot', 'lemot', 'lg', 'lgi', 'lgkp', 'lgsg', 'lht', 'liat', 'linmas', 'litbang', 'lmyan', 'lmyn', 'lngkp', 'lo', 'loch', 'loe', 'lol', 'lola', 'lom', 'louph', 'loupz', 'low', 'lowh', 'lp', 'lu', 'luber', 'luchu', 'luchuw', 'luff', 'lum', 'luph', 'luthu', 'lw', 'lwn', 'lwt', 'maacih', 'maaciw', 'mabal', 'mabes', 'macem', 'macem-macem', 'macih', 'madesu', 'maem', 'maen', 'magabut', 'mahatma', 'maho', 'mak', 'mak jang', 'makasih', 'maksain', 'malah', 'malem', 'malu2in', 'mam', 'mamz', 'maneh', 'manies', 'maniez', 'mantep', 'mao', 'markus', 'masukin', 'mba', 'melu', 'mending', 'mepet', 'mgkn', 'mgu', 'mhn', 'migas', 'miker', 'mikol', 'milis', 'miras', 'mksd', 'mlah', 'mls', 'mngkn', 'mnt', 'mo', 'moge', 'mokad', 'mokat', 'moso', 'mosok', 'mpe', 'msh', 'msk', 'mskpn', 'mslh', 'msng2', 'mt', 'mu', 'muahal', 'mubes', 'muker', 'mulu', 'mumet', 'mumpung', 'muna', 'munas', 'munaslub', 'muntaber', 'musda', 'musti', 'muup', 'muupz', 'muuv', 'mw', 'mw', 'n', 'nal', 'nanam', 'nangis', 'nanya', 'naon', 'napa', 'napa', 'napi', 'napol', 'napza', 'naq', 'narkoba', 'narsis', 'nasgor', 'nax', 'nda', 'ndak', 'ndiri', 'ndut', 'ne', 'nekolim', 'nekolin', 'nelfon', 'nembak', 'ngabis2in', 'ngabuburit', 'ngakak', 'ngaku', 'ngambek', 'ngambil', 'ngampus', 'nganggur', 'ngantri', 'ngapah', 'ngapain', 'ngaret', 'ngaruh', 'ngasih', 'ngawur', 'ngebandel', 'ngeceng', 'ngegosip', 'ngeh', 'ngeklaim', 'ngekos', 'ngeksis', 'ngelamar', 'ngeles', 'ngeliat', 'ngelidur', 'ngemeng', 'ngerampok', 'ngerti', 'ngga', 'nggak', 'ngibul', 'ngikut', 'ngiler', 'nginep', 'ngiri', 'ngisi', 'ngisiin', 'ngmg', 'ngmng', 'ngocol', 'ngomong', 'ngomongin', 'ngubek2', 'ngumpul', 'ngurus', 'ni', 'nice', 'nie', 'niech', 'nih', 'nimbrung', 'niyh', 'nkah', 'nmr', 'nnti', 'nntn', 'no', 'nobar', 'nongkrong', 'np', 'nrp', 'ntar', 'ntar', 'ntn', 'nuhun', 'numpuk', 'nunggu', 'nutupin', 'nyampah', 'nyasar', 'nyari', 'nyariin', 'nyekar', 'nyiapin', 'nyicil', 'nyiram', 'nyoblos', 'nyok', 'nyokap', 'o/', 'ogah', 'ok', 'okt', 'ol', 'omdo', 'ongkir', 'oon', 'oot', 'org', 'org2', 'orkes', 'ortu', 'ospek', 'otda', 'otre', 'otw', 'pa', 'pacal', 'pahe', 'pake', 'pakek', 'pala', 'panja', 'pansus', 'pantura', 'parpol', 'pas2an', 'pasutri', 'patas', 'pd', 'pdhl', 'pede', 'pelatda', 'pelatnas', 'pembokat', 'pemda', 'pemilu', 'pemkot', 'pemprov', 'pemred', 'pengen', 'penjas', 'penmas', 'perda', 'perek', 'perhatiin', 'pertamax', 'pesenan', 'pesenin', 'pgang', 'pgi', 'pi', 'pijetin', 'pilkada', 'pimpro', 'pisan', 'pisgor', 'pk', 'pke', 'plg', 'pm', 'pmrnth', 'pny', 'polantas', 'polwan', 'ponpes', 'ponsel', 'pp', 'ppa', 'prg', 'prikitiw', 'priksa', 'prnh', 'pro', 'psen', 'psn', 'pst', 'psti', 'pswt', 'puanas', 'pw', 'qmo', 'qmu', 'qt', 'rakor', 'rame', 'ranmor', 'raskin', 're', 'red', 'ref', 'reg', 'rehab', 'rejeki', 'rempong', 'renstra', 'repp', 'reskrim', 'krim', 'restik', 'rhs', 'rhs', 'rmbt', 'rmh', 'rofl', 'ru', 'rudal', 'ruko', 'rusun', 'rusunawa', 'rutan', 'ruz', 's4', 'saia', 'saiank', 'salting', 'saltum', 'sampe', 'sampeyan', 'samsek', 'sapa', 'sapose', 'satkorlak', 'satpam', 'say', 'sbb', 'sbg', 'sbh', 'sblm', 'sbnrny', 'scara', 'scr', 'sdg', 'sdgkn', 'sdh', 'sdkt', 'sdngkn', 'se7', 'seabrek', 'sebelas dua belas', 'sekjen', 'sembako', 'sempak', 'sempet', 'sempet2nya', 'sendratari', 'sertijab', 'sgt', 'sgtunya', 'shg', 'sidak', 'siech', 'sieyh', 'sikon', 'simpedes', 'sinetron', 'sip', 'siramin', 'sis', 'sj', 'skali', 'skalian', 'skl', 'sklh', 'skrg', 'skt', 'skul', 'slesai', 'slh', 'sll', 'slm', 'slma', 'slmt', 'slsai', 'slt', 'smpt', 'smua', 'smw', 'smwny', 'sndiri', 'sng', 'sni', 'soljum', 'somse', 'songong', 'sorry', 'sory', 'sosbud', 'sosek', 'sospol', 'sotoy', 'sowry', 'spa', 'spd', 'sppa', 'sprti', 'spt', 'spy', 'srtfkt', 'stelah', 'stiap', 'stiap', 'stlh', 'subbag', 'suk', 'sumbangin', 'sumpek', 'sy', 'syg', 'syp', 't4', 'tabanas', 'tajir', 'tar', 'tau', 'taun', 'taw', 'tawh', 'td', 'tdi', 'tdk', 'te2p', 'teh', 'tekor', 'telat', 'telkom', 'telmi', 'telp', 'temen', 'temen2', 'tengil', 'tengok', 'tepar', 'terbitin', 'tggu', 'tgl', 'tgu', 'thanks', 'thankz', 'thd', 'thn', 'thx', 'tilang', 'tipi', 'tipiwan', 'tkg', 'tks', 'tll', 'tlp', 'tlpn', 'tls', 'tman', 'tmbah', 'tmbh', 'tmen2', 'tmn2', 'tmpah', 'tmph', 'tmpt', 'tnda', 'tngu', 'tnh', 'tnyta', 'togel', 'tokai', 'tokai', 'toserba', 'tp', 'tpi', 'tq', 'trdhulu', 'trgntg', 'trima', 'trims', 'trimz', 'trm', 'trnyt', 'trs', 'trus', 'trutama', 'trz', 'ts', 'tsb', 'tst', 'ttd', 'ttg', 'ttp', 'tuch', 'tuh', 'tuir', 'tuwh', 'tw', 'tyap', 'u', 'u/', 'ud', 'uda', 'udah', 'udh', 'ujg', 'ujung2nya', 'ul', 'ultah', 'unyu', 'unyu', 'uplot', 'uppu', 'urang', 'urg', 'usah', 'utang', 'utk', 'utul', 'valas', 'vol', 'w/', 'wad', 'wadir', 'wagub', 'wamil', 'waria', 'warkop', 'warnet', 'warteg', 'wartel', 'wat', 'wk', 'wkt', 'wkwk', 'wtf', 'wth', 'xixixi', 'y', 'ya', 'yad', 'yap', 'yapz', 'yaudah', 'yauwda', 'yawdah', 'ybs', 'yg', 'yi', 'yl', 'yng', 'yo', 'yoha', 'yowes', 'yuk', 'yup', 'ywdh', 'cb', 'plh', 'y', 'slalu', 'munfik', 'ahiok', 'reklamuk', 'victory', 'sma', 'kmrm', 'kmrn', 'kowe', 'tren', 'smg', 'ngehe', 'humoris', 'jadiin', 'mb', 'mz', 'komun', 'analisise', 'stop', 'sadaar', 'manen', 'sept', 'nyaingin', 'nmenarik', 'war', 'pake', 'janjinyaa', 'zonk', 'fitnag', 'rights', 'gub', 'simiskin', 'gantengbs', 'ngumpet', 'bedakin', 'hardcore', 'anjay', 'akhirx', 'prototype', 'solve', 'rja', 'watuk', 'nyang', 'ngebully', 'hurts', 'masy', 'utip', 'still', 'mndukung', 'tauk', 'pulgar', 'mbual', 'manggil', 'tioghoa', 'rkyt', 'ngentotin', 'ngentot', 'kentot', 'toys', 'faktakta', 'nyemot', 'sohib', 'ego', 'rubahnn', 'mbaur', 'trlalu', 'governor', 'nyela', 'heter', 'heters', 'insom', 'nyembah', 'slama', 'most', 'modar', 'ikon', 'buangbuang', 'light', 'amerik', 'pndukung', 'mbabibuta', 'setting', 'emank', 'seting', 'maybe', 'next', 'sebelom', 'waspadalah', 'our', 'bokep', 'cayalah', 'gantengsaya', 'bajir', 'parte', 'nyalahin', 'nyerang', 'dzolim', 'nipu', 'mnipu', 'ktipu', 'valid', 'jentelmen', 'buzzerbuzzer', 'buangbuang', 'tsk', 'tsangka', 'dungu', 'lemot', 'capek', 'kurng', 'bajir', 'ista', 'istaa', 'less', 'bebal', 'koar', 'muna', 'lelet', 'naas', 'paranoid', 'parno', 'problem', 'puyeng', 'songong', 'taik', 'tahi', 'tai', 'tirani', 'pls', 'tilep', 'accord', 'happy', 'irit', 'tak', 'semau', 'mbual', 'mantabss bagus', 'penertiban', 'orange', 'uasai', 'vote', 'mnolak', 'menolak', 'trending', 'presh', 'taik', 'serasiii', 'wkwkkw', 'soft', 'setting', 'angis', 'ahokncc', 'almaidahyg', 'istaa', 'benarjujur', 'benarjujur', 'sayan', 'mgkin', 'pun', 'alhamdulillah', 'bismillah', 'insa', 'allh', 'lah', 'rsi', 'fk', 'dak klepek', 'apa', 'wh', 'donk', 'sye', 'hyang', 'kmi', 'berdo', 'a', 'saygi', 's', 'si', 'qhm', 'dhwyjz', 'lhh', 'm', 'i', 'py', 'dki', 'lee', 'gar', 'ino', 'inces', 'ngak', 'byat', 'oara', 'be', 'https', 'selaluuuu', 'lh', 'eyell', 'eyellan', 'aamiinn', 'amiin']\n"
          ],
          "name": "stdout"
        }
      ]
    },
    {
      "cell_type": "code",
      "metadata": {
        "id": "7WQUuFUsyMN7",
        "colab": {
          "base_uri": "https://localhost:8080/"
        },
        "outputId": "4303671b-194c-438a-b739-f707d23c088d"
      },
      "source": [
        "post_set = set(comments['post_id'].astype(str))\n",
        "comments_df = pd.DataFrame(columns=['post_id', 'message'])\n",
        "\n",
        "# membuat dataframe baru\n",
        "for i in post_set:\n",
        "  # ambil 10 comment saja\n",
        "  for j in range(10):\n",
        "    comments_df = comments_df.append({'post_id': i, 'message': comments[comments['post_id'].astype(str) == i]['message'].values[j]}, ignore_index=True)\n",
        "\n",
        "comments_df\n",
        "\n",
        "preprocess = []\n",
        "\n",
        "for i in range(len(comments_df['message'])):\n",
        "  # CASE FOLDING\n",
        "  # hapus punctuation dan emoji\n",
        "  review = re.sub('[^a-zA-Z]', ' ', comments_df['message'][i])\n",
        "  # jadi lowercase\n",
        "  review = review.lower()\n",
        "  # hapus tanda baca\n",
        "  translator = str.maketrans('','', string.punctuation)\n",
        "  review = review.translate(translator)\n",
        "  # hapus extra spasi\n",
        "  review = review.strip()\n",
        "\n",
        "  # FILTERING (Stopword Removal) dengan Sastranawi\n",
        "  data = stop_factory + more_stopword #menggabungkan stopword\n",
        "  dictionary = ArrayDictionary(data)\n",
        "  data_kata = StopWordRemover(dictionary)\n",
        "  stop = data_kata.remove(review)\n",
        "\n",
        "  # TOKENIZING\n",
        "  # memisahkan kalimat per kata \n",
        "  tokens = nltk.tokenize.word_tokenize(stop)\n",
        "  # detect kemunculan frequency token -> print(frequensi.most_common())\n",
        "  frequensi = nltk.FreqDist(tokens)\n",
        "  # menggabungkan tokens\n",
        "  preprocess.append(tokens)\n",
        "\n",
        "print(preprocess)"
      ],
      "execution_count": 33,
      "outputs": [
        {
          "output_type": "stream",
          "text": [
            "[['terima', 'kasih', 'banyak', 'atas', 'semua', 'tetap', 'berfikir', 'positif', 'semangat', 'pandemi', 'segera', 'berakhir', 'jaga', 'jarak', 'minimal'], ['ayo', 'bantu', 'pemerintah', 'cara', 'melaksanakan', 'protokol', 'kesehatan', 'pakai', 'masker', 'jaga', 'jarak', 'hindari', 'kerumunan', 'banyak', 'orang', 'sering', 'cuci', 'tangan', 'semakin', 'patuh', 'masyarakat', 'nya', 'melakukan', 'protokol', 'kesehatan', 'semuan', 'cepat', 'keluar', 'musibah', 'covid', 'aamiin', 'semoga', 'cepat', 'kepercayaan', 'negara', 'asing', 'expor', 'kita', 'bisa', 'jalan', 'ekonomi', 'berputar', 'salam', 'buat', 'semuanya'], ['pemerintah', 'berusaha', 'semaksimal', 'mungkin', 'memutus', 'rantai', 'virus', 'bahkan', 'geram', 'menangani', 'pandemi', 'tinggal', 'kitanya', 'masyarakat', 'bantu', 'pemerintah', 'jangan', 'saling', 'menyalahkan', 'dimulai', 'diri', 'kita', 'sendiri', 'jaga', 'kesehatan'], ['kalau', 'aplikasi', 'mata', 'kuliah', 'akuntansi', 'nakes', 'meraih', 'laba', 'pengeluaran', 'sembuh', 'meninggal', 'lebih', 'kecil', 'pemasukan', 'positif'], ['kurangnya', 'kesadaran', 'masyarakat', 'mematuhi', 'protokol', 'kesehatan', 'jumlah', 'positif', 'terkendali'], ['tetap', 'semangat', 'berpikir', 'positif', 'banyak', 'berdoa', 'semoga', 'pandemi', 'cepat', 'berakhir', 'terutama', 'buat', 'medis', 'pengorbanan', 'kalian', 'luar', 'biasa', 'berjasa', 'berada', 'garda', 'paling', 'depan', 'semoga', 'allah', 'selalu', 'melindungi', 'kalian', 'amin'], ['vaksin', 'turun', 'corona', 'hilang', 'negara', 'nambah', 'terus', 'kasihan', 'penerusnya', 'bayar', 'negara', 'semoga', 'pemimpin', 'datang', 'lunasin', 'negara', 'berprestasi', 'dicintai', 'rakyatnya', 'kemakmuran', 'rakyatnya', 'kesejahteraan', 'rakyatnya', 'semoga', 'hukum', 'indonesia', 'adil', 'berhukum', 'memandang', 'jabatan', 'material', 'oknum', 'mempecah', 'bela', 'pribumi', 'sendiri', 'jangan', 'kaitkan', 'agama', 'organisasi', 'oknum', 'harus', 'dibasmi', 'soalnya', 'bahaya'], ['tetap', 'semangat', 'berpikir', 'positif', 'jangan', 'banyak', 'berdoa', 'semoga', 'pandemi', 'cepat', 'berakhir', 'terutama', 'buat', 'tante', 'princes', 'mirabella', 'pengorbanan', 'tante', 'luar', 'biasa', 'berjasa', 'berada', 'garda', 'paling', 'semoga', 'allah', 'cepat', 'memanggil', 'tante', 'amin'], ['siang', 'aku', 'ketemu', 'mantan', 'pacarku', 'dijalan', 'dorong', 'motor', 'bannya', 'bocor', 'sama', 'pacar', 'barunya', 'aku', 'cuma', 'kasih', 'senyum', 'manis', 'buat', 'smbil', 'berdoa', 'tuhanku', 'semoga', 'dijauhkan', 'tukang', 'tambal', 'ban', 'amiiiin'], ['waow', 'luar', 'biasa', 'pencapaiannya', 'mencapai', 'ribuan', 'yg', 'sembuh', 'prnh', 'expose', 'liput', 'gtu', 'gjla', 'awal', 'proses', 'kesembuhannya', 'biar', 'smua', 'ayam', 'mati', 'mendadak', 'tadi', 'pagi', 'dong', 'cek', 'jangan', 'corona', 'masak', 'manusia'], ['bersama', 'rakyat', 'tni', 'kuat', 'tiada', 'daya', 'kekuatan', 'kekuatan', 'allah', 'swt', 'allahu', 'akbar'], ['biar', 'cepat', 'hasil', 'diketahui', 'harapan', 'masyarakat', 'selamat', 'bertugas', 'seluruh', 'jajarannya', 'semoga', 'tuhan', 'memberikan', 'jalan', 'terbaik', 'pahlawan', 'kesehatan', 'melaksanakan', 'tugas', 'maximal'], ['polres', 'banjarnegara', 'program', 'sarsipol', 'kaca', 'geothermal', 'jathyu', 'geothermal', 'siap', 'hafalkan', 'ditulis', 'ririn', 'retno', 'astuti'], ['gar', 'mirabella', 'isabella', 'tunjukkan', 'pesonamu'], ['banjarnegara', 'dukung', 'program', 'sarsipol', 'polres', 'banjarnegara', 'terima', 'kasih', 'banyak', 'ditulis', 'ririn', 'retno', 'astuti'], ['wilayah', 'lumajang', 'jawatimur', 'ada', 'jadi', 'sampelnya', 'kirim', 'jember', 'donk', 'pak', 'mentri', 'kesehatan', 'fasilitasi', 'rumah', 'sakit', 'di', 'daerah', 'lumajang', 'terimakasih'], ['mertua', 'sakit', 'batuk', 'bulan', 'disuruh', 'kerumah', 'sakait', 'takut', 'karan', 'tina', 'kebetulan', 'kerja', 'kemarin', 'rontokin', 'gabah', 'jadi', 'pakai', 'masker', 'akhir', 'berobat', 'doctor', 'diam', 'alhamdulilah', 'sembuh', 'gerakan', 'takut', 'rumah', 'sakit'], ['sebuah', 'pnelitian', 'mllalui', 'risett', 'cukup', 'panjang', 'ternyata', 'kandungan', 'bahan', 'perodiksi', 'telah', 'diperoduksi', 'masal', 'bahkan', 'peroduksi', 'rumahan', 'banyak', 'beredar', 'ternyata', 'kebenaranya', 'sangat', 'akurat', 'mllui', 'ksepakatan', 'bersama', 'diputuskan', 'ternyata', 'tahu', 'tempe', 'bahan', 'sama', 'dati', 'kdelee', 'pakar', 'tempe', 'mngakuinya', 'trimakasih', 'artikel', 'bertujuan', 'mnambah', 'wawasan', 'bukan', 'cacian', 'eyell', 'tentang', 'dan', 'siapa'], ['saran', 'buat', 'bapak', 'menteri', 'kesehatan', 'difasilitasi', 'rumah', 'sakit', 'diseluruh', 'indonesia', 'baik', 'dikota', 'maupun', 'didesa', 'oknum', 'mencari', 'kesempatan', 'masalah', 'tolong', 'diberi', 'edukasi', 'benar', 'masyarakat', 'salah', 'pemahaman', 'virus', 'covid', 'tdk', 'terjadi', 'dan', 'kontra'], ['bapak', 'mengucapkan', 'terimakasih', 'atas', 'perjuangan', 'kerja', 'keras', 'pengabdiannya', 'semua', 'tenaga', 'medis', 'gugus', 'tugas', 'baik', 'pusat', 'maupun', 'daerah', 'semoga', 'semakin', 'mengecil', 'jumlah', 'terkena', 'corona', 'semoga', 'segera', 'berlalu', 'pandemi', 'semua', 'warga', 'negara', 'beraktifitas', 'normal'], ['tetap', 'semangat', 'berpikir', 'positif', 'banyak', 'berdoa', 'semoga', 'pandemi', 'cepat', 'berakhir', 'terutama', 'buat', 'medis', 'pengorbanan', 'kalian', 'luar', 'biasa', 'berjasa', 'berada', 'garda', 'paling', 'depan', 'semoga', 'allah', 'selalu', 'melindungi', 'kalian', 'amin'], ['tetap', 'waspada', 'jaga', 'kesehatan', 'ikuti', 'protokol', 'diri', 'keluarga', 'jg', 'orang', 'terdekat', 'terimah', 'kasih', 'buat', 'medis', 'atas', 'perjuangan', 'kerja', 'keras', 'pengabdiannya', 'semua', 'tenaga', 'medis', 'dan', 'gugus', 'tugas', 'covid', 'tak', 'kenal', 'lelah', 'utk', 'orang', 'banyak', 'semoga', 'allah', 'selalu', 'melindungi', 'aamiinn', 'semoga', 'covid', 'cepat', 'berakhir', 'semua', 'warga', 'negara', 'beraktifitas', 'normal', 'aamiinn'], ['tertip', 'pakai', 'masker', 'salin', 'menyalahkan', 'tetap', 'semangat', 'terus', 'a', 'semoga', 'pendemi', 'cepat', 'berakhir'], ['allah', 'smoga', 'pandemi', 'cepat', 'berlalu', 'adanya', 'govit', 'menghambat', 'semua', 'nya', 'benar', 'ujian', 'sangat', 'luar', 'biasa', 'smoga', 'semua', 'bisa', 'tabah', 'ikhlas', 'menghadapi', 'nya', 'dansmoga', 'semua', 'selalu', 'berikan', 'kesehatan', 'selaludlm', 'lindungan', 'nya'], ['berfoto', 'masukan', 'media', 'mah', 'iya', 'selalu', 'mematuhi', 'protokol', 'giliran', 'di', 'luang', 'kerja', 'biasa', 'masker', 'berguna'], ['masker', 'jaga', 'jarak', 'untuk', 'dokumentasi', 'lepas', 'semua', 'tanpa', 'corona', 'realita', 'yaa', 'bgtu', 'pencitraan', 'nya', 'patuh', 'protokol'], ['baik', 'buruknya', 'pda', 'kita', 'sendri', 'bila', 'kta', 'mnjga', 'hdup', 'sehat', 'mmtuhi', 'protokol', 'kesehatan', 'insyaallah', 'negeriku', 'indonesia'], ['musim', 'penyakit', 'jauh', 'kanlah', 'segala', 'persoalan', 'ada', 'banyak', 'banyaklah', 'tertawa', 'jauh', 'persoalan', 'semoga', 'kitasehat'], ['ada', 'namanya', 'covid', 'corona', 'indonesia', 'ada', 'paling', 'orang', 'china', 'bekerja', 'masuk', 'indonesia'], ['pejabat', 'menyuruh', 'jaga', 'jarak', 'nyatanya', 'gag', 'jag', 'jarak', 'corona', 'hilang', 'proyeknya', 'berjalan'], ['tetap', 'semangat', 'berpikir', 'positif', 'banyak', 'berdoa', 'semoga', 'pandemi', 'cepat', 'berakhir', 'terutama', 'buat', 'medis', 'pengorbanan', 'kalian', 'luar', 'biasa', 'berjasa', 'berada', 'garda', 'paling', 'depan', 'semoga', 'allah', 'selalu', 'melindungi', 'kalian', 'amin'], ['terima', 'kasih', 'banyak', 'atas', 'semua', 'tetap', 'berfikir', 'positif', 'semangat', 'pandemi', 'segera', 'berakhir', 'jaga', 'jarak', 'minimal'], ['melihat', 'postingan', 'jadi', 'teringat', 'kejadian', 'sangat', 'mengerikan', 'waktu', 'saya', 'berjalanmelewati', 'sungai', 'tiba', 'melihat', 'anak', 'kecil', 'hanyut', 'hampir', 'mati', 'tenggelam', 'saya', 'langsung', 'menolongnya', 'melaporkan', 'kejadian', 'orang', 'tuanya', 'usianya', 'lama', 'tiba', 'anak', 'meminta', 'permohonan', 'terakhirnya', 'berkata', 'bang', 'gif', 'alok'], ['hidip', 'sebuah', 'negri', 'merdeka', 'masih', 'banyak', 'penindasan', 'saudara', 'sendiri', 'maksud', 'kata', 'merdeka', 'mirisnya', 'pemikiran', 'sang', 'pemimpin', 'terkait', 'persoalaan', 'pandemi', 'masih', 'hiraukan', 'se', 'olah', 'negri', 'sudah', 'kendalikan', 'negeri', 'tanpa', 'sadari', 'pandemi', 'terus', 'menerus', 'entah', 'kapan', 'pendidikan', 'paling', 'penting', 'buat', 'penerus', 'negri', 'nanti', 'seakan', 'sudah', 'butuhkan', 'betapa', 'indahnya', 'negri', 'sudah', 'tidak', 'butuh', 'pendidikan', 'hanya', 'membutuhkan', 'bantuan'], ['penjajah', 'anak', 'bangsa', 'semakin', 'bersemangat', 'covid', 'pembodohan', 'generasi', 'bangsa', 'entah', 'kapan', 'covid', 'semua', 'manusia', 'akan', 'mati', 'alloh', 'maha', 'segalanya'], ['semangat', 'berpikir', 'positif', 'berdoa', 'smga', 'pandemi', 'corona', 'cpt', 'berakhir', 'buat', 'medis', 'pengorbanan', 'kalian', 'luar', 'biasa', 'berjasa', 'brada', 'garda', 'pling', 'dpn', 'smga', 'tuhan', 'selalu', 'melindungi', 'kalian'], ['susah', 'menengah', 'kebawah', 'g', 'punya', 'penghasilan', 'kna', 'covid', 'bantuan', 'sesuai', 'bantuan', 'mkn', 'dea', 'kebutuhan', 'lain', 'kami', 'menapatkannya', 'dan', 'bagaimn', 'menyambung', 'hidup', 'mkn', 'dbantu', 'desa', 'cuci', 'butuh', 'sabun', 'mendapatkan', 'sabun', 'dn', 'kmi', 'bisa', 'mendapatkan', 'gs', 'elpiji', 'kmi', 'g', 'keluar', 'pasti', 'ada', 'pemasukan', 'solusinya'], ['mantap', 'pak', 'menteri', 'pak', 'andika', 'mantap', 'kota', 'sisinga', 'ambara', 'raja', 'semoga', 'semua', 'kerama', 'buleleng', 'selalu', 'lindungan', 'ida', 'sang', 'widhi', 'wasa', 'buldog'], ['wah', 'kenapa', 'yah', 'rum', 'kit', 'nakal', 'masa', 'pandemi', 'memanfaatkan', 'keuntungan', 'pribadi', 'bukan', 'covid', 'covidkan', 'ada', 'tindakan', 'tegas', 'atas', 'aneh', 'covid', 'ladang', 'keuntungan', 'yang', 'besar', 'bikin', 'masyarakat', 'takut', 'ga', 'percaya', 'kestempet', 'covid', 'pilek', 'covid', 'lahiran', 'covid', 'gagal', 'ginjal', 'covid', 'aneh', 'negriku', 'sekarang'], ['keren', 'neh', 'dokter', 'daniel', 'tjen', 'kakak', 'kelas', 'di', 'ukrida', 'jg', 'pernah', 'baksos', 'buleleng', 'yg', 'lalu', 'paroki', 'gereja', 'trinitas', 'jakarta', 'disana', 'banyak', 'ditemukan', 'ballita', 'kurang', 'gizi', 'mungkin', 'sekarang', 'lagi'], ['kerja', 'bagus', 'patut', 'dicontoh', 'sehat', 'bali', 'sehat', 'indonesia', 'salam', 'sehat'], ['terima', 'kasih', 'banyak', 'atas', 'semua', 'tetap', 'berfikir', 'positif', 'semangat', 'pandemi', 'segera', 'berakhir', 'jaga', 'jarak', 'minimal'], ['pandemi', 'pernah', 'berakhir', 'selama', 'kerakusan', 'penindasan', 'terus', 'kebenaran', 'selalu', 'dibungkam'], ['bapak', 'mengucapkan', 'banyak', 'terimakasih', 'atas', 'perjuangan', 'kerja', 'keras', 'pengabdiannya', 'semua', 'tenaga', 'medis', 'gugus', 'tugas', 'baik', 'pusat', 'maupun', 'daerah', 'semoga', 'semakin', 'mengecil', 'jumlah', 'terkena', 'corona', 'semoga', 'segera', 'berlalu', 'pandemi', 'semua', 'warga', 'negara', 'beraktifitas', 'normal'], ['cuma', 'sekitarnya', 'selalu', 'maklumi', 'ketegasan', 'sejak', 'dini', 'diterapkan', 'ada', 'keruman', 'massa', 'merugikan', 'masyarakat', 'sendiri', 'sang', 'tokoh', 'sakit', 'kalp', 'begini', 'baru', 'kerugian', 'besar', 'negara', 'dan', 'bangsa'], ['sekarang', 'terkonfirmasi', 'isman', 'hari', 'sembuh', 'tidak', 'serentak', 'se', 'indonesia', 'hentikan', 'sgala', 'kegiatan', 'kurun', 'hari', 'entah', 'kerumunan', 'bntuk', 'interaksi', 'yg', 'laen', 'saya', 'kira', 'dana', 'kucurkan', 'masa', 'saja', 'selesai'], ['tetap', 'semangat', 'berpikir', 'positif', 'banyak', 'berdoa', 'semoga', 'pandemi', 'cepat', 'berakhir', 'terutama', 'buat', 'medis', 'pengorbanan', 'kalian', 'luar', 'biasa', 'berjasa', 'berada', 'garda', 'paling', 'depan', 'semoga', 'allah', 'selalu', 'melindungi', 'kalian', 'amin'], ['jls', 'sedang', 'jajah', 'misterius', 'jelas', 'intine', 'mah', 'lawan', 'orang', 'ada', 'penyakit', 'gituan', 'besar', 'kan', 'over', 'masuk', 'akal', 'ajalah', 'punya', 'keyakinan', 'ga', 'kaya', 'braaayyy', 'ingat', 'tuhan', 'maha', 'esa', 'yakiiinlah', 'kita', 'pynya', 'keyakinann', 'iklas', 'salam'], ['corono', 'banyak', 'manfaatnya', 'buat', 'pejabat', 'dana', 'ngalir', 'kuli', 'bangunan', 'supir', 'pribadi', 'diperantauan', 'semakin', 'sangat', 'memprihatinkan', 'keadaanya', 'dapat', 'bantuan', 'apapun'], ['ternyata', 'virus', 'corona', 'ada', 'nya', 'dibandingsn', 'virus', 'bisa', 'keluar', 'rumah', 'berusaha', 'cari', 'makan', 'cari', 'uang', 'belanja', 'biaya', 'pulsa', 'anak', 'kuliah', 'obat', 'nya', 'kita', 'mati', 'kita', 'bisa', 'membahagiakn', 'istri', 'siap', 'suami', 'akn', 'cerai', 'istri', 'pokok', 'e', 'awas', 'virus'], ['pemerintah', 'berusaha', 'semaksimal', 'mungkin', 'memutus', 'mata', 'rantai', 'virus', 'bahkan', 'geram', 'menangani', 'pandemi', 'tinggal', 'kitanya', 'masyarakat', 'bantu', 'pemerintah', 'jangan', 'saling', 'menyalahkan', 'dimulai', 'diri', 'kita', 'sendiri', 'jaga', 'kesehatan'], ['tetap', 'semangat', 'berpikir', 'positif', 'banyak', 'berdoa', 'semoga', 'pandemi', 'gk', 'cepat', 'berakhir', 'terutama', 'buat', 'medis', 'pengorbanan', 'kalian', 'luar', 'biasa', 'berjasa', 'berada', 'garda', 'paling', 'depan', 'semoga', 'allah', 'selalu', 'melindungi', 'kalian', 'amin'], ['banyak', 'orang', 'meninggal', 'bukan', 'corona', 'mungkin', 'penyakit', 'tambah', 'karena', 'kemiskinan', 'masyarkt', 'bnyak', 'usaha', 'usaha', 'bangkrut', 'cari', 'kerja', 'susah', 'hutang', 'negara', 'semakin', 'banyak', 'setau', 'orang', 'nyatakan', 'pisitip', 'corona', 'cuma', 'karantina', 'di', 'kasih', 'makan', 'minum', 'enak', 'bergizi', 'usah', 'di', 'beri', 'obat', 'juga', 'sembuh', 'sendiri', 'negatif', 'suhu', 'tubuhpun', 'normal', 'panas', 'batuk', 'org', 'sakit'], ['terima', 'kasih', 'banyak', 'atas', 'semua', 'tetap', 'berfikir', 'positif', 'semangat', 'pandemi', 'segera', 'berakhir', 'jaga', 'jarak', 'minimal'], ['alangkah', 'bijaknya', 'pemerintah', 'memperketat', 'jumlah', 'kouata', 'pengunjung', 'tempat', 'wisata', 'menugaskan', 'satgas', 'covid', 'ada', 'menutup', 'semua', 'aktivitas', 'tempat', 'hiburan', 'tempat', 'wisata', 'selama', 'liburan', 'cuti', 'akhir', 'tahun', 'banding', 'menghapusnya', 'itu', 'momen', 'paling', 'tunggu', 'bersilaturahmi', 'kluarga', 'waktunya', 'cukup', 'panjang'], ['melihat', 'aktingnya', 'sangat', 'sangat', 'bagus', 'profesional', 'masalah', 'personilnya', 'minim', 'harusnya', 'melibatkan', 'unsur', 'api', 'air', 'angin', 'tanah', 'makhluk', 'halus', 'penghuni', 'khayangan', 'alien', 'penghuni', 'planet', 'mars', 'tidak', 'lupa', 'kepada', 'binatang', 'purba', 'kala', 'dinosaurus', 'oraurus', 'lebih', 'meramaikan', 'panggung', 'hiburan', 'sangat', 'spektakuler'], ['korona', 'bukan', 'penyakit', 'berbahaya', 'bahaya', 'kepercyaan', 'korona', 'sangat', 'percya', 'yakin', 'seyakin', 'jadi', 'suatu', 'penyakit', 'sesungguhya', 'aku', 'ingin', 'percya', 'adanya', 'korona', 'berbahaya', 'biaralah', 'korona', 'hilir', 'mudik', 'kemna', 'maaf', 'aku', 'ingin', 'berkenalan', 'mu', 'korona', 'kalian', 'jangan', 'mau', 'kenalkan', 's', 'korona', 'maka', 'hati', 'dg', 'penyebar', 'berita', 'yg', 'terlalu', 'membesar', 'adanya', 'bahaya', 'korona', 'menjauhlah', 'sejauh', 'nya', 'aamiin', 'ingat', 'kebersihan', 'tetap', 'jaga', 'bukan', 'untuk', 'mencegah', 's', 'korona', 'untuk', 'mencegah', 'dari', 'penyakit', 'apapun', 'insya', 'allah'], ['ingat', 'sodara', 'diselurih', 'indonesia', 'jaga', 'kesehatan', 'patuhi', 'protokol', 'kesehtan', 'memang', 'ada', 'masalah', 'bagus', 'buat', 'kesehtan', 'jangan', 'sodara', 'mengubah', 'ketakutan', 'sodara', 'meluntur', 'kan', 'iman', 'ter', 'hadap', 'allah', 'ta', 'allah', 'jangan', 'takut', 'namanya', 'korona', 'urusan', 'meninggal', 'allah', 'tau', 'jadi', 'sebagai', 'umat', 'islam', 'kokoh', 'kan', 'imanan', 'takut', 'terhadap', 'allah', 'ta', 'llah', 'mudah', 'han', 'sodara', 'pun', 'selalau', 'lindunan', 'allah', 'allah', 'huakbar'], ['isu', 'korona', 'kunjung', 'habis', 'indonesia', 'lihat', 'bawah', 'lihat', 'masarakat', 'semakin', 'susah', 'mencari', 'sesuap', 'nasi', 'karyawan', 'banyak', 'di', 'rumah', 'kan', 'tampa', 'kejelasan', 'kapan', 'kerja', 'lagih', 'pedagang', 'makin', 'susah', 'sebagai', 'manusia', 'biasa', 'prihatin', 'semua', 'masarakat', 'setiap', 'hari', 'bercerita', 'susah', 'nya', 'buat', 'makan', 'keluarga', 'nya'], ['logika', 'nggak', 'masuk', 'akal', 'kok', 'positif', 'banyak', 'sembuh', 'banyak', 'sudah', 'sekirar', 'kok', 'habis', 'namanya', 'corona', 'positif', 'nya', 'dari', 'mana', 'do', 'saya', 'tiap', 'abdet', 'corona', 'allah', 'corona', 'ada', 'semogah', 'cepat', 'teratasi', 'cepat', 'musnah', 'muka', 'bumi', 'ada', 'lebih', 'cara', 'manusia', 'buat', 'sehingga', 'namanya', 'corona', 'ini', 'tidak', 'berakhir', 'berikan', 'azab', 'berilah', 'pebyakit', 'setengah', 'mati', 'bermakan', 'tahun', 'berilah', 'mereka', 'kesengsaraan', 'dunia', 'di', 'akhirat', 'sebagaimana', 'masyarakat', 'yg', 'resahkan', 'sengsara', 'amin'], ['tetap', 'waspada', 'jaga', 'kesehatan', 'ikuti', 'protokol', 'diri', 'keluarga', 'jg', 'orang', 'terdekat', 'terimah', 'kasih', 'buat', 'medis', 'atas', 'perjuangan', 'kerja', 'keras', 'pengabdiannya', 'semua', 'tenaga', 'medis', 'dan', 'gugus', 'tugas', 'covid', 'tak', 'kenal', 'lelah', 'utk', 'orang', 'banyak', 'semoga', 'allah', 'selalu', 'melindungi', 'aamiinn', 'semoga', 'covid', 'cepat', 'berakhir', 'semua', 'warga', 'negara', 'beraktifitas', 'normal', 'aamiinn'], ['berita', 'covid', 'biar', 'negara', 'sehat', 'setop', 'para', 'koruptor', 'gara', 'gara', 'covid', 'tambah', 'banyak', 'para', 'koruptor'], ['covid', 'virus', 'berbahaya', 'mati', 'langsung', 'klepek', 'liat', 'indonesia', 'ada', 'yg', 'mati', 'ampe', 'klepek', 'cuma', 'batuk', 'pilek', 'dikata', 'covid', 'mati', 'bilang', 'mati', 'covid', 'mao', 'nglawan', 'pemerentah', 'susah', 'soal', 'nya', 'yg', 'berkuasa', 'negeri', 'kita', 'cuma', 'rakyat', 'kecil', 'cuma', 'berdoa', 'semoga', 'allah', 'pertemukan', 'dengan', 'jodoh', 'aminnn'], ['oi', 'pemerintah', 'akuni', 'jarang', 'mandi', 'dak', 'bemasker', 'seneng', 't', 'kerumunan', 'jarang', 'cuci', 'tangan', 'aman', 'aman', 'bae', 'dak', 'keno', 'korona', 'idak', 'hah', 'lucu', 'kadang', 'orang', 'sok', 'kebersihan', 'penyakitan', 'ntahlah', 'korona', 'ado', 'nian', 'apo', 'idak', 'oi', 'hahah'], ['kebebasan', 'mengirup', 'udara', 'segar', 'suda', 'boleh', 'denda', 'justru', 'masker', 'mudah', 'terserang', 'penyakit'], ['pemerintah', 'utamakan', 'yg', 'selesaikan', 'soal', 'pendidikan', 'bukan', 'soal', 'wisata', 'sekarang', 'anak', 'mlh', 'sibuk', 'game', 'drpda', 'bljr', 'online', 'alasn', 'mnta', 'uang', 'bljar', 'beli', 'paket', 'mlh', 'di', 'gunakan', 'main', 'game', 'klau', 'kyak', 'bagaimana', 'nasib', 'anak', 'anak', 'bangsa'], ['virus', 'covid', 'terlalu', 'dibesar', 'kan', 'awalnya', 'ktemu', 'dr', 'luar', 'daerah', 'ktanya', 'zona', 'merah', 'kt', 'pasti', 'takut', 'stlah', 'ngobrol', 'tanya', 'pdhal', 'dsana', 'sbnernya', 'sih', 'biasa', 'seheboh', 'diberitain', 'tv', 'ada', 'tmn', 'ttangga', 'yg', 'kna', 'covid', 'kondisi', 'ini', 'bnyak', 'dimanfaatin', 'oknum', 'hoak', 'sama', 'asli', 'banyak', 'hoaknya', 'perbandingnya', 'jauh', 'banding'], ['semua', 'sektor', 'genjot', 'perekonomian', 'kembali', 'terangkat', 'bagaimana', 'seni', 'budaya', 'sampai', 'ini', 'ada', 'kepastian', 'dan', 'nya', 'pelaku', 'seni', 'pentas', 'perhatian', 'pemerintah', 'sangat', 'minim', 'pelaku', 'seni', 'pikirkan', 'nasib', 'selaku', 'seniman'], ['py', 'keyakinan', 'masing', 'orang', 'mati', 'hdp', 'orang', 'sakit', 'sembuh', 'orang', 'lumpuh', 'bs', 'brrjalan', 'waspada', 'jgn', 'lupakan', 'iman', 'yg', 'besar', 'tuhan', 'keajaiban', 'pasti', 'ada'], ['percuma', 'perbaiki', 'sektor', 'ekonomi', 'pariwisata', 'orang', 'lapangan', 'pekerjaan', 'semakin', 'sulit', 'mau', 'priwisata', 'duitnya', 'siapa', 'bos', 'kalau', 'ingin', 'ekonomi', 'seperti', 'semula', 'harus', 'hentikan', 'huru', 'hara', 'corona', 'dulu', 'bos', 'di', 'hilangkan', 'isu', 'corona', 'maret', 'sekarang', 'masih', 'bertahan', 'bos'], ['tetap', 'semangat', 'berpikir', 'positif', 'banyak', 'berdoa', 'semoga', 'pandemi', 'cepat', 'berakhir', 'vaksin', 'melindungi', 'diri', 'melindungi', 'negeri', 'caritauvaksin', 'vaksinitubaik', 'vaksinuntuknegeri'], ['dulu', 'saling', 'memvaksin', 'sdh', 'jelas', 'aman', 'baru', 'masyarakat', 'luas', 'mrk', 'kan', 'terlatih', 'ktnya', 'perlu', 'dibuktikan', 'antar', 'mrk', 'dulu'], ['vaksin', 'membunuh', 'imunitas', 'perlahan', 'membunuh', 'jika', 'memeng', 'semua', 'd', 'vaksin', 'akan', 'uang', 'digital', 'berbentuk', 'chip', 'd', 'tanam', 'tangan', 'pada', 'dasarnya', 'ingin', 'mata', 'uang', 'tunggal', 'dunia', 'menguasai', 'dunia', 'dajjal', 'sudah', 'jelas', 'skenario', 'dajjal', 'tinggal', 'tunggu', 'waktu'], ['semoga', 'terbebas', 'corona', 'semoga', 'vaksin', 'bagus', 'kualitasnya', 'rakyat', 'seluruh', 'indonesia', 'terobosan', 'baru', 'indonesia', 'sehat', 'dalam', 'lindungan', 'allah', 'swt', 'aamiin', 'yra'], ['semoga', 'vaksinasi', 'cepat', 'terlaksana', 'saya', 'hamil', 'semoga', 'vaksin', 'trsbut', 'digunakan', 'utk', 'wanita', 'hamil', 'pada', 'persalinan', 'saya', 'ditemani', 'sodara', 'kerabat', 'seperti', 'pandemi', 'ibu', 'melangsungkan', 'persalinan', 'bisa', 'ditemani', 'suami', 'sedihhhhhh', 'sungguh', 'memprihatinkan'], ['bapak', 'menyampaikan', 'ke', 'kalian', 'semua', 'pemerintah', 'berusaha', 'semaksimal', 'mungkin', 'memutus', 'mata', 'rantai', 'virus', 'bahkan', 'geram', 'menangani', 'pandemi', 'tinggal', 'kitanya', 'masyarakat', 'bantu', 'pemerintah', 'jangan', 'saling', 'menyalahkan', 'dimulai', 'diri', 'kita', 'sendiri', 'jaga', 'kesehatan'], ['pengen', 'sehat', 'puasa', 'senin', 'kamis', 'allah', 'jauh', 'penyakit', 'semoga', 'bermanfaat', 'berkah'], ['semoga', 'vaksinasi', 'segera', 'terlaksana', 'semoga', 'vaksinator', 'diberikan', 'kesehatan', 'selalu'], ['banyakin', 'sedekah', 'insya', 'alloh', 'sehat', 'jaga', 'kebersihan', 'ndak', 'vaksin', 'terbuat', 'bahan', 'aja', 'semoga', 'generasi', 'anak', 'bangsa', 'lindungi', 'alloh'], ['virusnya', 'ngga', 'jelas', 'vaksin', 'beneran', 'virus', 'kemarin', 'bersih', 'indonesia', 'mati', 'semua', 'banyak', 'daerah', 'gak', 'lokdon', 'maskeran', 'warganya', 'contoh', 'pas', 'demo', 'jakarta', 'kemarin', 'harusnya', 'ribuan', 'buruh', 'mati', 'udahlah', 'jangan', 'terus', 'an', 'bohongi', 'masyarakat', 'kasihan', 'rakyat', 'kecil', 'terus', 'ditakut', 'pilek', 'dikit', 'korona', 'selalu', 'gembar', 'gemborkn', 'berita', 'orang', 'sembuh', 'abaikan', 'berita', 'meninggal', 'anggap', 'korona', 'di', 'blow', 'up', 'kasian', 'bangsa', 'kasihan', 'rakyat', 'sudah', 'cukup', 'kebohongan', 'publiknya', 'cukup', 'cari', 'duitnya', 'kasihan', 'rakyat', 'kesusahan', 'anak', 'ga', 'bisa', 'sekola', 'bapa', 'ibu', 'kehilangan', 'pekerjaan'], ['tetap', 'waspada', 'jaga', 'kesehatan', 'ikuti', 'protokol', 'diri', 'keluarga', 'jg', 'orang', 'terdekat', 'terimah', 'kasih', 'buat', 'medis', 'atas', 'perjuangan', 'kerja', 'keras', 'pengabdiannya', 'semua', 'tenaga', 'medis', 'dan', 'gugus', 'tugas', 'covid', 'tak', 'kenal', 'lelah', 'utk', 'orang', 'banyak', 'semoga', 'allah', 'selalu', 'melindungi', 'aamiinn', 'semoga', 'covid', 'cepat', 'berakhir', 'semua', 'warga', 'negara', 'beraktifitas', 'normal', 'aamiinn'], ['bapak', 'menyampaikan', 'ke', 'kalian', 'semua', 'pemerintah', 'berusaha', 'semaksimal', 'mungkin', 'memutus', 'mata', 'rantai', 'penyebaran', 'virus', 'corona', 'bahkan', 'geram', 'menangani', 'pandemi', 'tinggal', 'kitanya', 'masyarakat', 'bantu', 'pemerintah', 'jangan', 'saling', 'menyalahkan', 'dimulai', 'diri', 'kita', 'sendiri', 'jaga', 'kesehatan'], ['semoga', 'corona', 'cepat', 'sembuh', 'tetap', 'patuhi', 'protokol', 'kesehatan', 'pakai', 'masker', 'cuci', 'tangan', 'selalu', 'jaga', 'jarak', 'hindari', 'kerumunan'], ['musim', 'hujan', 'petani', 'bersemangat', 'jual', 'es', 'cendol', 'mengeluh', 'pemerintah', 'tebar', 'pesona'], ['masuk', 'akal'], ['musim', 'hujan', 'kaitannya', 'penyakit', 'dbd', 'kok', 'di', 'ingatkan', 'kewaspadaannya', 'waspada', 'covid', 'tentunya'], ['terima', 'kasih', 'banyak', 'atas', 'semua', 'tetap', 'berfikir', 'positif', 'semangat', 'pandemi', 'segera', 'berakhir', 'jaga', 'jarak', 'minimal'], ['tertip', 'pakai', 'masker', 'salin', 'menyalahkan', 'tetap', 'semangat', 'terus', 'a', 'semoga', 'pendemi', 'cepat', 'berakhir'], ['msyarakat', 'dibodohi', 'oknum', 'mengada', 'kan', 'covid', 'covid', 'memng', 'tpi', 'pihak', 'rmah', 'skit', 'jngn', 'mngada', 'kan', 'woi', 'orng', 'skit', 'jntung', 'kecil', 'dibilang', 'covid', 'smga', 'cpat', 'kena', 'azab', 'orng', 'mngada', 'kan'], ['kemarin', 'sholat', 'masjid', 'jaga', 'jarak', 'masker', 'polisi', 'disana', 'sehat', 'sehat'], ['terima', 'kasih', 'banyak', 'atas', 'semua', 'tetap', 'berfikir', 'positif', 'semangat', 'pandemi', 'segera', 'berakhir', 'jaga', 'jarak', 'minimal'], ['bapak', 'menyampaikan', 'ke', 'kalian', 'semua', 'pemerintah', 'berusaha', 'semaksimal', 'mungkin', 'memutus', 'mata', 'rantai', 'penyebaran', 'virus', 'corona', 'bahkan', 'geram', 'menangani', 'pandemi', 'tinggal', 'kitanya', 'masyarakat', 'bantu', 'pemerintah', 'jangan', 'saling', 'menyalahkan', 'dimulai', 'diri', 'kita', 'sendiri', 'jaga', 'kesehatan'], ['tetap', 'waspada', 'jaga', 'kesehatan', 'ikuti', 'protokol', 'diri', 'keluarga', 'jg', 'orang', 'terdekat', 'terimah', 'kasih', 'buat', 'medis', 'atas', 'perjuangan', 'kerja', 'keras', 'pengabdiannya', 'semua', 'tenaga', 'medis', 'dan', 'gugus', 'tugas', 'covid', 'tak', 'kenal', 'lelah', 'utk', 'orang', 'banyak', 'semoga', 'allah', 'selalu', 'melindungi', 'aamiinn', 'semoga', 'covid', 'cepat', 'berakhir', 'semua', 'warga', 'negara', 'beraktifitas', 'normal', 'aamiinn'], ['tertip', 'pakai', 'masker', 'salin', 'menyalahkan', 'tetap', 'semangat', 'terus', 'a', 'semoga', 'pendemi', 'cepat', 'berakhir'], ['tetep', 'semangat', 'pun', 'covit', 'belum', 'berakhir', 'allah', 'tetap', 'melindungi', 'jangan', 'merasa', 'kuat', 'marilah', 'kita', 'ikuti', 'anjuran', 'pemerintah', 'saling', 'menjaga', 'kebersigan', 'allah', 'terutama', 'oara', 'medis', 'capek', 'berjuang', 'menyelamat', 'kan', 'pasien', 'pasien', 'nya', 'doa', 'ku', 'aamiin', 'ahamiin', 'aamiin'], ['jangan', 'lupa', 'berdoa', 'berusaha', 'bersyukur', 'aamiin'], ['semoga', 'hilang', 'virus', 'amin', 'roballngalamin'], ['berusaha', 'berdoa', 'insyaallah', 'lancar', 'tampa', 'usaha', 'tidak', 'akan', 'mendapatkan', 'paham', 'bos'], ['semoga', 'wabah', 'cepat', 'berlalu', 'youtu', 'qhm'], ['hader', 'nyimak', 'yaa']]\n"
          ],
          "name": "stdout"
        }
      ]
    },
    {
      "cell_type": "markdown",
      "metadata": {
        "id": "Zp6HB-dKhpku"
      },
      "source": [
        "# **Semantic Analysis**"
      ]
    },
    {
      "cell_type": "markdown",
      "metadata": {
        "id": "XxZi1yleedxv"
      },
      "source": [
        "## **Memuat Daftar Kata**"
      ]
    },
    {
      "cell_type": "code",
      "metadata": {
        "id": "p0NxGENnecF4",
        "colab": {
          "base_uri": "https://localhost:8080/"
        },
        "outputId": "dff7e172-98ee-4c00-a7ae-615c882629da"
      },
      "source": [
        "word_list = {}\n",
        "for i in range(0, len(preprocess)):\n",
        "    word_token = preprocess[i]\n",
        "    # Mengecek setiap token\n",
        "    for token in word_token:\n",
        "        # Token yang tidak ditemukan pada word_list bernilai 0\n",
        "        if token not in word_list:\n",
        "            word_list[token] = 0\n",
        "        else:\n",
        "            word_list[token] += 1\n",
        "\n",
        "sorted_word_list = {k: v for k, v in sorted(word_list.items(), key = lambda item: item[1], reverse = True)}\n",
        "print(sorted_word_list)"
      ],
      "execution_count": 34,
      "outputs": [
        {
          "output_type": "stream",
          "text": [
            "{'semoga': 46, 'banyak': 32, 'semua': 31, 'covid': 31, 'pandemi': 26, 'allah': 24, 'berakhir': 23, 'cepat': 23, 'tetap': 22, 'jaga': 22, 'corona': 20, 'kesehatan': 19, 'orang': 19, 'buat': 18, 'positif': 17, 'semangat': 17, 'selalu': 17, 'pemerintah': 16, 'medis': 16, 'ada': 16, 'kalian': 15, 'masyarakat': 13, 'nya': 13, 'jangan': 13, 'korona': 13, 'kasih': 12, 'atas': 12, 'negara': 12, 'virus': 12, 'melindungi': 12, 'indonesia': 12, 'jarak': 11, 'protokol': 11, 'kita': 11, 'berdoa': 11, 'biasa': 11, 'mati': 11, 'di': 10, 'kerja': 10, 'masker': 9, 'diri': 9, 'luar': 9, 'yg': 9, 'sehat': 9, 'kan': 9, 'segera': 8, 'sendiri': 8, 'sembuh': 8, 'paling': 8, 'sangat': 8, 'dan': 8, 'penyakit': 8, 'anak': 8, 'semakin': 7, 'berusaha': 7, 'menyalahkan': 7, 'berpikir': 7, 'amin': 7, 'vaksin': 7, 'terus': 7, 'aamiinn': 7, 'terima': 6, 'bisa': 6, 'mungkin': 6, 'saling': 6, 'terutama': 6, 'pengorbanan': 6, 'berjasa': 6, 'garda': 6, 'tugas': 6, 'sakit': 6, 'normal': 6, 'berfikir': 5, 'minimal': 5, 'bantu': 5, 'pakai': 5, 'aamiin': 5, 'bahkan': 5, 'tinggal': 5, 'mata': 5, 'berada': 5, 'cuma': 5, 'rakyat': 5, 'takut': 5, 'bukan': 5, 'bapak': 5, 'perjuangan': 5, 'keras': 5, 'pengabdiannya': 5, 'tenaga': 5, 'gugus': 5, 'warga': 5, 'beraktifitas': 5, 'waspada': 5, 'saya': 5, 'sudah': 5, 'bangsa': 5, 'susah': 5, 'semaksimal': 4, 'memutus': 4, 'rantai': 4, 'geram': 4, 'menangani': 4, 'kitanya': 4, 'dimulai': 4, 'kecil': 4, 'depan': 4, 'oknum': 4, 'jadi': 4, 'rumah': 4, 'daerah': 4, 'ikuti': 4, 'keluarga': 4, 'jg': 4, 'utk': 4, 'tidak': 4, 'sekarang': 4, 'sodara': 4, 'kerumunan': 3, 'cuci': 3, 'tangan': 3, 'meninggal': 3, 'jumlah': 3, 'kasihan': 3, 'aku': 3, 'manusia': 3, 'tuhan': 3, 'kemarin': 3, 'cukup': 3, 'ternyata': 3, 'baik': 3, 'berlalu': 3, 'terdekat': 3, 'terimah': 3, 'tak': 3, 'kenal': 3, 'lelah': 3, 'jauh': 3, 'namanya': 3, 'masuk': 3, 'negri': 3, 'bantuan': 3, 'besar': 3, 'bagus': 3, 'jelas': 3, 'cari': 3, 'uang': 3, 'ingin': 3, 'berita': 3, 'bos': 3, 'keluar': 2, 'ekonomi': 2, 'salam': 2, 'lebih': 2, 'hilang': 2, 'rakyatnya': 2, 'bahaya': 2, 'tante': 2, 'sama': 2, 'biar': 2, 'banjarnegara': 2, 'pak': 2, 'terimakasih': 2, 'batuk': 2, 'bahan': 2, 'maupun': 2, 'masalah': 2, 'tertip': 2, 'salin': 2, 'a': 2, 'pendemi': 2, 'adanya': 2, 'lindungan': 2, 'untuk': 2, 'musim': 2, 'melihat': 2, 'masih': 2, 'sang': 2, 'negeri': 2, 'entah': 2, 'kapan': 2, 'pendidikan': 2, 'akan': 2, 'alloh': 2, 'smga': 2, 'mendapatkan': 2, 'pasti': 2, 'ga': 2, 'pilek': 2, 'baru': 2, 'hari': 2, 'akal': 2, 'ingat': 2, 'makan': 2, 'usaha': 2, 'tempat': 2, 'wisata': 2, 'berbahaya': 2, 'kebersihan': 2, 'kok': 2, 'ini': 2, 'dunia': 2, 'soal': 2, 'aman': 2, 'seni': 2, 'dulu': 2, 'menyampaikan': 2, 'ke': 2, 'cara': 1, 'melaksanakan': 1, 'hindari': 1, 'patuh': 1, 'jalan': 1, 'kalau': 1, 'kuliah': 1, 'pemasukan': 1, 'mematuhi': 1, 'pemimpin': 1, 'harus': 1, 'mirabella': 1, 'ribuan': 1, 'bersama': 1, 'kuat': 1, 'kekuatan': 1, 'swt': 1, 'seluruh': 1, 'polres': 1, 'program': 1, 'sarsipol': 1, 'geothermal': 1, 'siap': 1, 'ditulis': 1, 'ririn': 1, 'retno': 1, 'astuti': 1, 'lumajang': 1, 'akhir': 1, 'sebuah': 1, 'panjang': 1, 'tempe': 1, 'siapa': 1, 'menteri': 1, 'mencari': 1, 'benar': 1, 'mengucapkan': 1, 'pusat': 1, 'mengecil': 1, 'terkena': 1, 'smoga': 1, 'berikan': 1, 'mah': 1, 'tanpa': 1, 'yaa': 1, 'insyaallah': 1, 'persoalan': 1, 'pejabat': 1, 'kejadian': 1, 'waktu': 1, 'tiba': 1, 'langsung': 1, 'merdeka': 1, 'penindasan': 1, 'se': 1, 'butuh': 1, 'bersemangat': 1, 'generasi': 1, 'maha': 1, 'g': 1, 'punya': 1, 'kna': 1, 'mkn': 1, 'sabun': 1, 'kmi': 1, 'mantap': 1, 'buleleng': 1, 'masa': 1, 'keuntungan': 1, 'pribadi': 1, 'aneh': 1, 'pernah': 1, 'jakarta': 1, 'disana': 1, 'selama': 1, 'hentikan': 1, 'dana': 1, 'keyakinan': 1, 'memprihatinkan': 1, 'apapun': 1, 'obat': 1, 'istri': 1, 'suami': 1, 'tambah': 1, 'bnyak': 1, 'hiburan': 1, 'tahun': 1, 'banding': 1, 'tunggu': 1, 'minim': 1, 'harusnya': 1, 'penghuni': 1, 'lupa': 1, 'percya': 1, 'mau': 1, 's': 1, 'terlalu': 1, 'mencegah': 1, 'dari': 1, 'insya': 1, 'patuhi': 1, 'kesehtan': 1, 'iman': 1, 'ta': 1, 'sebagai': 1, 'mudah': 1, 'pun': 1, 'isu': 1, 'habis': 1, 'lihat': 1, 'masarakat': 1, 'tampa': 1, 'azab': 1, 'berilah': 1, 'para': 1, 'koruptor': 1, 'gara': 1, 'klepek': 1, 'oi': 1, 'jarang': 1, 'dak': 1, 'idak': 1, 'mlh': 1, 'game': 1, 'bagaimana': 1, 'nasib': 1, 'sektor': 1, 'pelaku': 1, 'pekerjaan': 1, 'duitnya': 1, 'seperti': 1, 'mrk': 1, 'membunuh': 1, 'd': 1, 'pada': 1, 'dajjal': 1, 'vaksinasi': 1, 'terlaksana': 1, 'hamil': 1, 'persalinan': 1, 'ditemani': 1, 'ibu': 1, 'penyebaran': 1, 'hujan': 1, 'skit': 1, 'mngada': 1, 'orng': 1, 'pasien': 1, 'ayo': 0, 'sering': 0, 'melakukan': 0, 'semuan': 0, 'musibah': 0, 'kepercayaan': 0, 'asing': 0, 'expor': 0, 'berputar': 0, 'semuanya': 0, 'aplikasi': 0, 'akuntansi': 0, 'nakes': 0, 'meraih': 0, 'laba': 0, 'pengeluaran': 0, 'kurangnya': 0, 'kesadaran': 0, 'terkendali': 0, 'turun': 0, 'nambah': 0, 'penerusnya': 0, 'bayar': 0, 'datang': 0, 'lunasin': 0, 'berprestasi': 0, 'dicintai': 0, 'kemakmuran': 0, 'kesejahteraan': 0, 'hukum': 0, 'adil': 0, 'berhukum': 0, 'memandang': 0, 'jabatan': 0, 'material': 0, 'mempecah': 0, 'bela': 0, 'pribumi': 0, 'kaitkan': 0, 'agama': 0, 'organisasi': 0, 'dibasmi': 0, 'soalnya': 0, 'princes': 0, 'memanggil': 0, 'siang': 0, 'ketemu': 0, 'mantan': 0, 'pacarku': 0, 'dijalan': 0, 'dorong': 0, 'motor': 0, 'bannya': 0, 'bocor': 0, 'pacar': 0, 'barunya': 0, 'senyum': 0, 'manis': 0, 'smbil': 0, 'tuhanku': 0, 'dijauhkan': 0, 'tukang': 0, 'tambal': 0, 'ban': 0, 'amiiiin': 0, 'waow': 0, 'pencapaiannya': 0, 'mencapai': 0, 'prnh': 0, 'expose': 0, 'liput': 0, 'gtu': 0, 'gjla': 0, 'awal': 0, 'proses': 0, 'kesembuhannya': 0, 'smua': 0, 'ayam': 0, 'mendadak': 0, 'tadi': 0, 'pagi': 0, 'dong': 0, 'cek': 0, 'masak': 0, 'tni': 0, 'tiada': 0, 'daya': 0, 'allahu': 0, 'akbar': 0, 'hasil': 0, 'diketahui': 0, 'harapan': 0, 'selamat': 0, 'bertugas': 0, 'jajarannya': 0, 'memberikan': 0, 'terbaik': 0, 'pahlawan': 0, 'maximal': 0, 'kaca': 0, 'jathyu': 0, 'hafalkan': 0, 'gar': 0, 'isabella': 0, 'tunjukkan': 0, 'pesonamu': 0, 'dukung': 0, 'wilayah': 0, 'jawatimur': 0, 'sampelnya': 0, 'kirim': 0, 'jember': 0, 'donk': 0, 'mentri': 0, 'fasilitasi': 0, 'mertua': 0, 'bulan': 0, 'disuruh': 0, 'kerumah': 0, 'sakait': 0, 'karan': 0, 'tina': 0, 'kebetulan': 0, 'rontokin': 0, 'gabah': 0, 'berobat': 0, 'doctor': 0, 'diam': 0, 'alhamdulilah': 0, 'gerakan': 0, 'pnelitian': 0, 'mllalui': 0, 'risett': 0, 'kandungan': 0, 'perodiksi': 0, 'telah': 0, 'diperoduksi': 0, 'masal': 0, 'peroduksi': 0, 'rumahan': 0, 'beredar': 0, 'kebenaranya': 0, 'akurat': 0, 'mllui': 0, 'ksepakatan': 0, 'diputuskan': 0, 'tahu': 0, 'dati': 0, 'kdelee': 0, 'pakar': 0, 'mngakuinya': 0, 'trimakasih': 0, 'artikel': 0, 'bertujuan': 0, 'mnambah': 0, 'wawasan': 0, 'cacian': 0, 'eyell': 0, 'tentang': 0, 'saran': 0, 'difasilitasi': 0, 'diseluruh': 0, 'dikota': 0, 'didesa': 0, 'kesempatan': 0, 'tolong': 0, 'diberi': 0, 'edukasi': 0, 'salah': 0, 'pemahaman': 0, 'tdk': 0, 'terjadi': 0, 'kontra': 0, 'govit': 0, 'menghambat': 0, 'ujian': 0, 'tabah': 0, 'ikhlas': 0, 'menghadapi': 0, 'dansmoga': 0, 'selaludlm': 0, 'berfoto': 0, 'masukan': 0, 'media': 0, 'iya': 0, 'giliran': 0, 'luang': 0, 'berguna': 0, 'dokumentasi': 0, 'lepas': 0, 'realita': 0, 'bgtu': 0, 'pencitraan': 0, 'buruknya': 0, 'pda': 0, 'sendri': 0, 'bila': 0, 'kta': 0, 'mnjga': 0, 'hdup': 0, 'mmtuhi': 0, 'negeriku': 0, 'kanlah': 0, 'segala': 0, 'banyaklah': 0, 'tertawa': 0, 'kitasehat': 0, 'china': 0, 'bekerja': 0, 'menyuruh': 0, 'nyatanya': 0, 'gag': 0, 'jag': 0, 'proyeknya': 0, 'berjalan': 0, 'postingan': 0, 'teringat': 0, 'mengerikan': 0, 'berjalanmelewati': 0, 'sungai': 0, 'hanyut': 0, 'hampir': 0, 'tenggelam': 0, 'menolongnya': 0, 'melaporkan': 0, 'tuanya': 0, 'usianya': 0, 'lama': 0, 'meminta': 0, 'permohonan': 0, 'terakhirnya': 0, 'berkata': 0, 'bang': 0, 'gif': 0, 'alok': 0, 'hidip': 0, 'saudara': 0, 'maksud': 0, 'kata': 0, 'mirisnya': 0, 'pemikiran': 0, 'terkait': 0, 'persoalaan': 0, 'hiraukan': 0, 'olah': 0, 'kendalikan': 0, 'sadari': 0, 'menerus': 0, 'penting': 0, 'penerus': 0, 'nanti': 0, 'seakan': 0, 'butuhkan': 0, 'betapa': 0, 'indahnya': 0, 'hanya': 0, 'membutuhkan': 0, 'penjajah': 0, 'pembodohan': 0, 'segalanya': 0, 'cpt': 0, 'brada': 0, 'pling': 0, 'dpn': 0, 'menengah': 0, 'kebawah': 0, 'penghasilan': 0, 'sesuai': 0, 'dea': 0, 'kebutuhan': 0, 'lain': 0, 'kami': 0, 'menapatkannya': 0, 'bagaimn': 0, 'menyambung': 0, 'hidup': 0, 'dbantu': 0, 'desa': 0, 'dn': 0, 'gs': 0, 'elpiji': 0, 'solusinya': 0, 'andika': 0, 'kota': 0, 'sisinga': 0, 'ambara': 0, 'raja': 0, 'kerama': 0, 'ida': 0, 'widhi': 0, 'wasa': 0, 'buldog': 0, 'wah': 0, 'kenapa': 0, 'yah': 0, 'rum': 0, 'kit': 0, 'nakal': 0, 'memanfaatkan': 0, 'covidkan': 0, 'tindakan': 0, 'tegas': 0, 'ladang': 0, 'yang': 0, 'bikin': 0, 'percaya': 0, 'kestempet': 0, 'lahiran': 0, 'gagal': 0, 'ginjal': 0, 'negriku': 0, 'keren': 0, 'neh': 0, 'dokter': 0, 'daniel': 0, 'tjen': 0, 'kakak': 0, 'kelas': 0, 'ukrida': 0, 'baksos': 0, 'lalu': 0, 'paroki': 0, 'gereja': 0, 'trinitas': 0, 'ditemukan': 0, 'ballita': 0, 'kurang': 0, 'gizi': 0, 'lagi': 0, 'patut': 0, 'dicontoh': 0, 'bali': 0, 'kerakusan': 0, 'kebenaran': 0, 'dibungkam': 0, 'sekitarnya': 0, 'maklumi': 0, 'ketegasan': 0, 'sejak': 0, 'dini': 0, 'diterapkan': 0, 'keruman': 0, 'massa': 0, 'merugikan': 0, 'tokoh': 0, 'kalp': 0, 'begini': 0, 'kerugian': 0, 'terkonfirmasi': 0, 'isman': 0, 'serentak': 0, 'sgala': 0, 'kegiatan': 0, 'kurun': 0, 'bntuk': 0, 'interaksi': 0, 'laen': 0, 'kira': 0, 'kucurkan': 0, 'saja': 0, 'selesai': 0, 'jls': 0, 'sedang': 0, 'jajah': 0, 'misterius': 0, 'intine': 0, 'lawan': 0, 'gituan': 0, 'over': 0, 'ajalah': 0, 'kaya': 0, 'braaayyy': 0, 'esa': 0, 'yakiiinlah': 0, 'pynya': 0, 'keyakinann': 0, 'iklas': 0, 'corono': 0, 'manfaatnya': 0, 'ngalir': 0, 'kuli': 0, 'bangunan': 0, 'supir': 0, 'diperantauan': 0, 'keadaanya': 0, 'dapat': 0, 'dibandingsn': 0, 'belanja': 0, 'biaya': 0, 'pulsa': 0, 'membahagiakn': 0, 'akn': 0, 'cerai': 0, 'pokok': 0, 'e': 0, 'awas': 0, 'gk': 0, 'karena': 0, 'kemiskinan': 0, 'masyarkt': 0, 'bangkrut': 0, 'hutang': 0, 'setau': 0, 'nyatakan': 0, 'pisitip': 0, 'karantina': 0, 'minum': 0, 'enak': 0, 'bergizi': 0, 'usah': 0, 'beri': 0, 'juga': 0, 'negatif': 0, 'suhu': 0, 'tubuhpun': 0, 'panas': 0, 'org': 0, 'alangkah': 0, 'bijaknya': 0, 'memperketat': 0, 'kouata': 0, 'pengunjung': 0, 'menugaskan': 0, 'satgas': 0, 'menutup': 0, 'aktivitas': 0, 'liburan': 0, 'cuti': 0, 'menghapusnya': 0, 'itu': 0, 'momen': 0, 'bersilaturahmi': 0, 'kluarga': 0, 'waktunya': 0, 'aktingnya': 0, 'profesional': 0, 'personilnya': 0, 'melibatkan': 0, 'unsur': 0, 'api': 0, 'air': 0, 'angin': 0, 'tanah': 0, 'makhluk': 0, 'halus': 0, 'khayangan': 0, 'alien': 0, 'planet': 0, 'mars': 0, 'kepada': 0, 'binatang': 0, 'purba': 0, 'kala': 0, 'dinosaurus': 0, 'oraurus': 0, 'meramaikan': 0, 'panggung': 0, 'spektakuler': 0, 'kepercyaan': 0, 'yakin': 0, 'seyakin': 0, 'suatu': 0, 'sesungguhya': 0, 'biaralah': 0, 'hilir': 0, 'mudik': 0, 'kemna': 0, 'maaf': 0, 'berkenalan': 0, 'mu': 0, 'kenalkan': 0, 'maka': 0, 'hati': 0, 'dg': 0, 'penyebar': 0, 'membesar': 0, 'menjauhlah': 0, 'sejauh': 0, 'diselurih': 0, 'memang': 0, 'mengubah': 0, 'ketakutan': 0, 'meluntur': 0, 'ter': 0, 'hadap': 0, 'urusan': 0, 'tau': 0, 'umat': 0, 'islam': 0, 'kokoh': 0, 'imanan': 0, 'terhadap': 0, 'llah': 0, 'han': 0, 'selalau': 0, 'lindunan': 0, 'huakbar': 0, 'kunjung': 0, 'bawah': 0, 'sesuap': 0, 'nasi': 0, 'karyawan': 0, 'kejelasan': 0, 'lagih': 0, 'pedagang': 0, 'makin': 0, 'prihatin': 0, 'setiap': 0, 'bercerita': 0, 'logika': 0, 'nggak': 0, 'sekirar': 0, 'mana': 0, 'do': 0, 'tiap': 0, 'abdet': 0, 'semogah': 0, 'teratasi': 0, 'musnah': 0, 'muka': 0, 'bumi': 0, 'sehingga': 0, 'pebyakit': 0, 'setengah': 0, 'bermakan': 0, 'mereka': 0, 'kesengsaraan': 0, 'akhirat': 0, 'sebagaimana': 0, 'resahkan': 0, 'sengsara': 0, 'setop': 0, 'liat': 0, 'ampe': 0, 'dikata': 0, 'bilang': 0, 'mao': 0, 'nglawan': 0, 'pemerentah': 0, 'berkuasa': 0, 'pertemukan': 0, 'dengan': 0, 'jodoh': 0, 'aminnn': 0, 'akuni': 0, 'mandi': 0, 'bemasker': 0, 'seneng': 0, 't': 0, 'bae': 0, 'keno': 0, 'hah': 0, 'lucu': 0, 'kadang': 0, 'sok': 0, 'penyakitan': 0, 'ntahlah': 0, 'ado': 0, 'nian': 0, 'apo': 0, 'hahah': 0, 'kebebasan': 0, 'mengirup': 0, 'udara': 0, 'segar': 0, 'suda': 0, 'boleh': 0, 'denda': 0, 'justru': 0, 'terserang': 0, 'utamakan': 0, 'selesaikan': 0, 'sibuk': 0, 'drpda': 0, 'bljr': 0, 'online': 0, 'alasn': 0, 'mnta': 0, 'bljar': 0, 'beli': 0, 'paket': 0, 'gunakan': 0, 'main': 0, 'klau': 0, 'kyak': 0, 'dibesar': 0, 'awalnya': 0, 'ktemu': 0, 'dr': 0, 'ktanya': 0, 'zona': 0, 'merah': 0, 'kt': 0, 'stlah': 0, 'ngobrol': 0, 'tanya': 0, 'pdhal': 0, 'dsana': 0, 'sbnernya': 0, 'sih': 0, 'seheboh': 0, 'diberitain': 0, 'tv': 0, 'tmn': 0, 'ttangga': 0, 'kondisi': 0, 'dimanfaatin': 0, 'hoak': 0, 'asli': 0, 'hoaknya': 0, 'perbandingnya': 0, 'genjot': 0, 'perekonomian': 0, 'kembali': 0, 'terangkat': 0, 'budaya': 0, 'sampai': 0, 'kepastian': 0, 'pentas': 0, 'perhatian': 0, 'pikirkan': 0, 'selaku': 0, 'seniman': 0, 'py': 0, 'masing': 0, 'hdp': 0, 'lumpuh': 0, 'bs': 0, 'brrjalan': 0, 'jgn': 0, 'lupakan': 0, 'keajaiban': 0, 'percuma': 0, 'perbaiki': 0, 'pariwisata': 0, 'lapangan': 0, 'sulit': 0, 'priwisata': 0, 'semula': 0, 'huru': 0, 'hara': 0, 'hilangkan': 0, 'maret': 0, 'bertahan': 0, 'caritauvaksin': 0, 'vaksinitubaik': 0, 'vaksinuntuknegeri': 0, 'memvaksin': 0, 'sdh': 0, 'luas': 0, 'terlatih': 0, 'ktnya': 0, 'perlu': 0, 'dibuktikan': 0, 'antar': 0, 'imunitas': 0, 'perlahan': 0, 'jika': 0, 'memeng': 0, 'digital': 0, 'berbentuk': 0, 'chip': 0, 'tanam': 0, 'dasarnya': 0, 'tunggal': 0, 'menguasai': 0, 'skenario': 0, 'terbebas': 0, 'kualitasnya': 0, 'terobosan': 0, 'dalam': 0, 'yra': 0, 'trsbut': 0, 'digunakan': 0, 'wanita': 0, 'kerabat': 0, 'melangsungkan': 0, 'sedihhhhhh': 0, 'sungguh': 0, 'pengen': 0, 'puasa': 0, 'senin': 0, 'kamis': 0, 'bermanfaat': 0, 'berkah': 0, 'vaksinator': 0, 'diberikan': 0, 'banyakin': 0, 'sedekah': 0, 'ndak': 0, 'terbuat': 0, 'aja': 0, 'lindungi': 0, 'virusnya': 0, 'ngga': 0, 'beneran': 0, 'bersih': 0, 'gak': 0, 'lokdon': 0, 'maskeran': 0, 'warganya': 0, 'contoh': 0, 'pas': 0, 'demo': 0, 'buruh': 0, 'udahlah': 0, 'an': 0, 'bohongi': 0, 'ditakut': 0, 'dikit': 0, 'gembar': 0, 'gemborkn': 0, 'abaikan': 0, 'anggap': 0, 'blow': 0, 'up': 0, 'kasian': 0, 'kebohongan': 0, 'publiknya': 0, 'kesusahan': 0, 'sekola': 0, 'bapa': 0, 'kehilangan': 0, 'petani': 0, 'jual': 0, 'es': 0, 'cendol': 0, 'mengeluh': 0, 'tebar': 0, 'pesona': 0, 'kaitannya': 0, 'dbd': 0, 'ingatkan': 0, 'kewaspadaannya': 0, 'tentunya': 0, 'msyarakat': 0, 'dibodohi': 0, 'mengada': 0, 'memng': 0, 'tpi': 0, 'pihak': 0, 'rmah': 0, 'jngn': 0, 'woi': 0, 'jntung': 0, 'dibilang': 0, 'cpat': 0, 'kena': 0, 'sholat': 0, 'masjid': 0, 'polisi': 0, 'tetep': 0, 'covit': 0, 'belum': 0, 'merasa': 0, 'marilah': 0, 'anjuran': 0, 'menjaga': 0, 'kebersigan': 0, 'oara': 0, 'capek': 0, 'berjuang': 0, 'menyelamat': 0, 'doa': 0, 'ku': 0, 'ahamiin': 0, 'bersyukur': 0, 'roballngalamin': 0, 'lancar': 0, 'paham': 0, 'wabah': 0, 'youtu': 0, 'qhm': 0, 'hader': 0, 'nyimak': 0}\n"
          ],
          "name": "stdout"
        }
      ]
    },
    {
      "cell_type": "code",
      "metadata": {
        "id": "4Y5Y8mjXiU6O",
        "colab": {
          "base_uri": "https://localhost:8080/"
        },
        "outputId": "9a80bf4a-352c-4ee9-8f78-576092e477e2"
      },
      "source": [
        "len(word_list)"
      ],
      "execution_count": 35,
      "outputs": [
        {
          "output_type": "execute_result",
          "data": {
            "text/plain": [
              "1131"
            ]
          },
          "metadata": {
            "tags": []
          },
          "execution_count": 35
        }
      ]
    },
    {
      "cell_type": "markdown",
      "metadata": {
        "id": "XMFM5dEcidsj"
      },
      "source": [
        "## **Mengimpor Data Leksikon**"
      ]
    },
    {
      "cell_type": "code",
      "metadata": {
        "id": "eOi9HALGih-G",
        "colab": {
          "base_uri": "https://localhost:8080/",
          "height": 347
        },
        "outputId": "4f17b8da-6d0a-445a-bf19-1e1b41011e7b"
      },
      "source": [
        "path = \"/content/drive/MyDrive/Project Sistem Pakar/modified_full_lexicon.csv\"\n",
        "\n",
        "# Membaca data leksikon\n",
        "dict = pd.read_csv(path)\n",
        "\n",
        "negation_words = ['bukan','tidak','ga','gk']\n",
        "\n",
        "# Menghapus data yang termasuk kata negasi\n",
        "dict = dict.drop(dict[(dict['word'] == 'bukan') | (dict['word'] == 'tidak') | (dict['word'] == 'ga') | (dict['word'] == 'gk')].index, axis=0)\n",
        "\n",
        "# Menyetel ulang indeks data\n",
        "dict = dict.reset_index(drop=True)\n",
        "\n",
        "dict.head(10)"
      ],
      "execution_count": 36,
      "outputs": [
        {
          "output_type": "execute_result",
          "data": {
            "text/html": [
              "<div>\n",
              "<style scoped>\n",
              "    .dataframe tbody tr th:only-of-type {\n",
              "        vertical-align: middle;\n",
              "    }\n",
              "\n",
              "    .dataframe tbody tr th {\n",
              "        vertical-align: top;\n",
              "    }\n",
              "\n",
              "    .dataframe thead th {\n",
              "        text-align: right;\n",
              "    }\n",
              "</style>\n",
              "<table border=\"1\" class=\"dataframe\">\n",
              "  <thead>\n",
              "    <tr style=\"text-align: right;\">\n",
              "      <th></th>\n",
              "      <th>word</th>\n",
              "      <th>weight</th>\n",
              "      <th>number_of_words</th>\n",
              "    </tr>\n",
              "  </thead>\n",
              "  <tbody>\n",
              "    <tr>\n",
              "      <th>0</th>\n",
              "      <td>hai</td>\n",
              "      <td>3</td>\n",
              "      <td>1</td>\n",
              "    </tr>\n",
              "    <tr>\n",
              "      <th>1</th>\n",
              "      <td>merekam</td>\n",
              "      <td>2</td>\n",
              "      <td>1</td>\n",
              "    </tr>\n",
              "    <tr>\n",
              "      <th>2</th>\n",
              "      <td>ekstensif</td>\n",
              "      <td>3</td>\n",
              "      <td>1</td>\n",
              "    </tr>\n",
              "    <tr>\n",
              "      <th>3</th>\n",
              "      <td>paripurna</td>\n",
              "      <td>1</td>\n",
              "      <td>1</td>\n",
              "    </tr>\n",
              "    <tr>\n",
              "      <th>4</th>\n",
              "      <td>detail</td>\n",
              "      <td>2</td>\n",
              "      <td>1</td>\n",
              "    </tr>\n",
              "    <tr>\n",
              "      <th>5</th>\n",
              "      <td>pernik</td>\n",
              "      <td>3</td>\n",
              "      <td>1</td>\n",
              "    </tr>\n",
              "    <tr>\n",
              "      <th>6</th>\n",
              "      <td>belas</td>\n",
              "      <td>2</td>\n",
              "      <td>1</td>\n",
              "    </tr>\n",
              "    <tr>\n",
              "      <th>7</th>\n",
              "      <td>welas</td>\n",
              "      <td>4</td>\n",
              "      <td>1</td>\n",
              "    </tr>\n",
              "    <tr>\n",
              "      <th>8</th>\n",
              "      <td>kabung</td>\n",
              "      <td>1</td>\n",
              "      <td>1</td>\n",
              "    </tr>\n",
              "    <tr>\n",
              "      <th>9</th>\n",
              "      <td>rahayu</td>\n",
              "      <td>4</td>\n",
              "      <td>1</td>\n",
              "    </tr>\n",
              "  </tbody>\n",
              "</table>\n",
              "</div>"
            ],
            "text/plain": [
              "        word  weight  number_of_words\n",
              "0        hai       3                1\n",
              "1    merekam       2                1\n",
              "2  ekstensif       3                1\n",
              "3  paripurna       1                1\n",
              "4     detail       2                1\n",
              "5     pernik       3                1\n",
              "6      belas       2                1\n",
              "7      welas       4                1\n",
              "8     kabung       1                1\n",
              "9     rahayu       4                1"
            ]
          },
          "metadata": {
            "tags": []
          },
          "execution_count": 36
        }
      ]
    },
    {
      "cell_type": "code",
      "metadata": {
        "id": "xWqB9bnLinKS",
        "colab": {
          "base_uri": "https://localhost:8080/"
        },
        "outputId": "84cfc15e-45a3-440e-8398-ba3d475edd12"
      },
      "source": [
        "len(dict)"
      ],
      "execution_count": 37,
      "outputs": [
        {
          "output_type": "execute_result",
          "data": {
            "text/plain": [
              "10248"
            ]
          },
          "metadata": {
            "tags": []
          },
          "execution_count": 37
        }
      ]
    },
    {
      "cell_type": "code",
      "metadata": {
        "id": "-fOg89Epitxt",
        "colab": {
          "base_uri": "https://localhost:8080/"
        },
        "outputId": "86f8d42c-de3b-4072-8470-8dd426b3ddcd"
      },
      "source": [
        "dict['weight'].value_counts()"
      ],
      "execution_count": 38,
      "outputs": [
        {
          "output_type": "execute_result",
          "data": {
            "text/plain": [
              "-3    2565\n",
              "-4    1975\n",
              " 3    1345\n",
              "-5    1277\n",
              " 4     867\n",
              " 2     660\n",
              "-2     576\n",
              " 1     543\n",
              "-1     260\n",
              " 5     180\n",
              "Name: weight, dtype: int64"
            ]
          },
          "metadata": {
            "tags": []
          },
          "execution_count": 38
        }
      ]
    },
    {
      "cell_type": "code",
      "metadata": {
        "id": "hmV8L_OOjQZS",
        "colab": {
          "base_uri": "https://localhost:8080/"
        },
        "outputId": "9b30c297-671d-4ea1-f2db-691d52bf1d07"
      },
      "source": [
        "dict['number_of_words'].value_counts()"
      ],
      "execution_count": 39,
      "outputs": [
        {
          "output_type": "execute_result",
          "data": {
            "text/plain": [
              "1    9536\n",
              "2     686\n",
              "3      24\n",
              "4       2\n",
              "Name: number_of_words, dtype: int64"
            ]
          },
          "metadata": {
            "tags": []
          },
          "execution_count": 39
        }
      ]
    },
    {
      "cell_type": "markdown",
      "metadata": {
        "id": "WA8QkQ85jZ9a"
      },
      "source": [
        "## **Menampilkan Daftar Kata yang Tidak Ditemukan pada Data Leksikon**"
      ]
    },
    {
      "cell_type": "code",
      "metadata": {
        "id": "qiqS9DWujZII"
      },
      "source": [
        "# Menginisialisasi stemmer\n",
        "stemmer_factory = StemmerFactory()\n",
        "stemmer = stemmer_factory.create_stemmer()"
      ],
      "execution_count": 40,
      "outputs": []
    },
    {
      "cell_type": "code",
      "metadata": {
        "id": "qaKOl9Pbjd9k",
        "colab": {
          "base_uri": "https://localhost:8080/"
        },
        "outputId": "a1def818-61fd-4682-d72a-736f7ce1f025"
      },
      "source": [
        "dict_list = dict['word'].values.tolist()\n",
        "not_included_words = []\n",
        "for word in word_list.keys():\n",
        "    # Kata yang tidak ditemukan pada dict_list\n",
        "    if word not in dict_list:\n",
        "        # Stemming\n",
        "        kata_dasar = stemmer.stem(word)\n",
        "        # Kata dasar yang tidak ditemukan pada dict_list ditambahkan pada not_included_words\n",
        "        if kata_dasar not in dict_list:\n",
        "            not_included_words.append(word)\n",
        "\n",
        "print(not_included_words)"
      ],
      "execution_count": 41,
      "outputs": [
        {
          "output_type": "stream",
          "text": [
            "['berfikir', 'berakhir', 'pemerintah', 'cara', 'protokol', 'pakai', 'masker', 'hindari', 'kerumunan', 'orang', 'cuci', 'masyarakat', 'nya', 'melakukan', 'covid', 'negara', 'asing', 'expor', 'kita', 'bisa', 'jalan', 'ekonomi', 'berputar', 'salam', 'virus', 'bahkan', 'geram', 'kitanya', 'saling', 'akuntansi', 'nakes', 'pemasukan', 'jumlah', 'terkendali', 'medis', 'kalian', 'luar', 'paling', 'depan', 'selalu', 'vaksin', 'corona', 'nambah', 'terus', 'penerusnya', 'pemimpin', 'lunasin', 'berprestasi', 'rakyatnya', 'kesejahteraan', 'indonesia', 'material', 'oknum', 'mempecah', 'bela', 'pribumi', 'tante', 'princes', 'mirabella', 'siang', 'dijalan', 'dorong', 'motor', 'bannya', 'barunya', 'smbil', 'tambal', 'ban', 'amiiiin', 'waow', 'ribuan', 'yg', 'prnh', 'expose', 'liput', 'gtu', 'gjla', 'smua', 'ayam', 'tadi', 'dong', 'rakyat', 'tni', 'daya', 'swt', 'allahu', 'akbar', 'seluruh', 'jajarannya', 'pahlawan', 'maximal', 'polres', 'banjarnegara', 'program', 'sarsipol', 'kaca', 'geothermal', 'jathyu', 'hafalkan', 'ditulis', 'ririn', 'retno', 'astuti', 'gar', 'isabella', 'tunjukkan', 'wilayah', 'lumajang', 'jawatimur', 'sampelnya', 'jember', 'donk', 'pak', 'mentri', 'di', 'daerah', 'mertua', 'sakait', 'karan', 'tina', 'kemarin', 'rontokin', 'gabah', 'akhir', 'doctor', 'pnelitian', 'mllalui', 'risett', 'kandungan', 'perodiksi', 'telah', 'diperoduksi', 'masal', 'peroduksi', 'kebenaranya', 'sangat', 'akurat', 'mllui', 'ksepakatan', 'tempe', 'dati', 'kdelee', 'mngakuinya', 'mnambah', 'wawasan', 'bukan', 'eyell', 'dan', 'bapak', 'menteri', 'diseluruh', 'dikota', 'maupun', 'didesa', 'kesempatan', 'edukasi', 'pemahaman', 'tdk', 'kontra', 'keras', 'pengabdiannya', 'warga', 'beraktifitas', 'jg', 'terimah', 'tak', 'utk', 'aamiinn', 'a', 'pendemi', 'smoga', 'govit', 'menghadapi', 'dansmoga', 'berikan', 'selaludlm', 'media', 'mah', 'iya', 'untuk', 'dokumentasi', 'tanpa', 'realita', 'yaa', 'bgtu', 'pda', 'sendri', 'bila', 'kta', 'mnjga', 'hdup', 'mmtuhi', 'negeriku', 'musim', 'kanlah', 'segala', 'kitasehat', 'namanya', 'china', 'gag', 'jag', 'proyeknya', 'berjalan', 'postingan', 'waktu', 'berjalanmelewati', 'sungai', 'tiba', 'hanyut', 'hampir', 'tenggelam', 'usianya', 'terakhirnya', 'bang', 'gif', 'alok', 'hidip', 'negri', 'merdeka', 'masih', 'saudara', 'sang', 'persoalaan', 'hiraukan', 'se', 'olah', 'kendalikan', 'negeri', 'menerus', 'kapan', 'penerus', 'seakan', 'tidak', 'bangsa', 'akan', 'alloh', 'segalanya', 'cpt', 'brada', 'pling', 'dpn', 'kebawah', 'g', 'kna', 'mkn', 'dea', 'kami', 'menapatkannya', 'bagaimn', 'dbantu', 'desa', 'sabun', 'dn', 'kmi', 'gs', 'elpiji', 'andika', 'kota', 'sisinga', 'ambara', 'raja', 'kerama', 'buleleng', 'ida', 'widhi', 'wasa', 'buldog', 'kenapa', 'yah', 'rum', 'kit', 'masa', 'pribadi', 'covidkan', 'tegas', 'bikin', 'ga', 'kestempet', 'pilek', 'ginjal', 'negriku', 'sekarang', 'keren', 'neh', 'dokter', 'daniel', 'tjen', 'kakak', 'ukrida', 'pernah', 'baksos', 'paroki', 'gereja', 'trinitas', 'jakarta', 'disana', 'ballita', 'gizi', 'dicontoh', 'bali', 'kerakusan', 'sekitarnya', 'ketegasan', 'sejak', 'dini', 'diterapkan', 'keruman', 'massa', 'tokoh', 'kalp', 'baru', 'isman', 'hari', 'sgala', 'kurun', 'bntuk', 'laen', 'jls', 'sedang', 'misterius', 'intine', 'kan', 'over', 'akal', 'braaayyy', 'yakiiinlah', 'pynya', 'keyakinann', 'iklas', 'corono', 'ngalir', 'kuli', 'bangunan', 'supir', 'diperantauan', 'keadaanya', 'dibandingsn', 'uang', 'biaya', 'membahagiakn', 'istri', 'suami', 'akn', 'e', 'gk', 'masyarkt', 'bnyak', 'pisitip', 'karantina', 'bergizi', 'juga', 'negatif', 'suhu', 'org', 'kouata', 'pengunjung', 'wisata', 'satgas', 'aktivitas', 'hiburan', 'tahun', 'momen', 'bersilaturahmi', 'kluarga', 'waktunya', 'aktingnya', 'profesional', 'personilnya', 'melibatkan', 'unsur', 'angin', 'tanah', 'halus', 'khayangan', 'alien', 'planet', 'mars', 'kepada', 'binatang', 'kala', 'dinosaurus', 'oraurus', 'panggung', 'spektakuler', 'korona', 'kepercyaan', 'percya', 'suatu', 'sesungguhya', 'ingin', 'biaralah', 'kemna', 'mu', 's', 'maka', 'dg', 'penyebar', 'kebersihan', 'insya', 'sodara', 'diselurih', 'kesehtan', 'mengubah', 'ter', 'hadap', 'urusan', 'kokoh', 'terhadap', 'llah', 'han', 'selalau', 'lindunan', 'huakbar', 'bawah', 'masarakat', 'tampa', 'lagih', 'pedagang', 'setiap', 'logika', 'kok', 'sekirar', 'mana', 'do', 'tiap', 'abdet', 'semogah', 'muka', 'bumi', 'sehingga', 'ini', 'berilah', 'pebyakit', 'mereka', 'akhirat', 'sebagaimana', 'setop', 'klepek', 'ampe', 'bilang', 'mao', 'nglawan', 'dengan', 'aminnn', 'oi', 'akuni', 'jarang', 'mandi', 'dak', 'bemasker', 't', 'aman', 'bae', 'keno', 'idak', 'hah', 'sok', 'ntahlah', 'ado', 'apo', 'hahah', 'mengirup', 'suda', 'justru', 'utamakan', 'mlh', 'drpda', 'bljr', 'online', 'alasn', 'mnta', 'bljar', 'klau', 'kyak', 'bagaimana', 'nasib', 'ktemu', 'dr', 'ktanya', 'zona', 'kt', 'stlah', 'dsana', 'sbnernya', 'sih', 'diberitain', 'tv', 'tmn', 'ttangga', 'kondisi', 'dimanfaatin', 'hoak', 'hoaknya', 'sektor', 'genjot', 'perekonomian', 'kembali', 'budaya', 'pelaku', 'pentas', 'selaku', 'seniman', 'py', 'masing', 'hdp', 'lumpuh', 'bs', 'brrjalan', 'jgn', 'pariwisata', 'sulit', 'priwisata', 'duitnya', 'huru', 'hara', 'dulu', 'maret', 'caritauvaksin', 'vaksinitubaik', 'vaksinuntuknegeri', 'memvaksin', 'sdh', 'mrk', 'ktnya', 'antar', 'imunitas', 'perlahan', 'jika', 'memeng', 'd', 'digital', 'chip', 'tanam', 'dasarnya', 'tunggal', 'dajjal', 'skenario', 'terobosan', 'yra', 'vaksinasi', 'terlaksana', 'trsbut', 'wanita', 'ditemani', 'ibu', 'sedihhhhhh', 'sungguh', 'ke', 'senin', 'kamis', 'vaksinator', 'banyakin', 'sedekah', 'virusnya', 'bersih', 'gak', 'lokdon', 'maskeran', 'warganya', 'contoh', 'buruh', 'udahlah', 'an', 'gembar', 'gemborkn', 'anggap', 'blow', 'up', 'publiknya', 'sekola', 'penyebaran', 'petani', 'es', 'cendol', 'mengeluh', 'tebar', 'dbd', 'msyarakat', 'memng', 'tpi', 'rmah', 'skit', 'jngn', 'mngada', 'woi', 'orng', 'jntung', 'dibilang', 'cpat', 'polisi', 'tetep', 'covit', 'belum', 'kebersigan', 'oara', 'pasien', 'ku', 'ahamiin', 'roballngalamin', 'paham', 'youtu', 'qhm', 'hader', 'nyimak']\n"
          ],
          "name": "stdout"
        }
      ]
    },
    {
      "cell_type": "code",
      "metadata": {
        "id": "KH2YYMsjka3k",
        "colab": {
          "base_uri": "https://localhost:8080/"
        },
        "outputId": "12e53763-8eeb-430c-fa05-c9353888f47c"
      },
      "source": [
        "len(not_included_words)"
      ],
      "execution_count": 42,
      "outputs": [
        {
          "output_type": "execute_result",
          "data": {
            "text/plain": [
              "604"
            ]
          },
          "metadata": {
            "tags": []
          },
          "execution_count": 42
        }
      ]
    },
    {
      "cell_type": "code",
      "metadata": {
        "id": "u-M3rP4Kkss5",
        "colab": {
          "base_uri": "https://localhost:8080/"
        },
        "outputId": "518ed755-25b6-4422-909d-0269777b0bf6"
      },
      "source": [
        "# Kata yang tidak ditemukan dan muncul lebih dari 3 kali \n",
        "not_included_list = {k: v for (k, v) in word_list.items() if ((k in not_included_words) & (v > 3))}\n",
        "\n",
        "# Mengurutkan not_included_list berdasarkan jumlah kemunculan terbanyak\n",
        "sort_items = sorted(not_included_list.items(), key = lambda x: x[1], reverse = True)\n",
        "\n",
        "# Mengambil 20 nilai not_included_list pertama\n",
        "sort_items = sort_items[0:20]\n",
        "\n",
        "# Menampilkan not_included_list yang telah diurutkan\n",
        "for i in sort_items:\n",
        "    print(i[0], i[1])"
      ],
      "execution_count": 43,
      "outputs": [
        {
          "output_type": "stream",
          "text": [
            "covid 31\n",
            "berakhir 23\n",
            "corona 20\n",
            "orang 19\n",
            "selalu 17\n",
            "pemerintah 16\n",
            "medis 16\n",
            "kalian 15\n",
            "masyarakat 13\n",
            "nya 13\n",
            "korona 13\n",
            "negara 12\n",
            "virus 12\n",
            "indonesia 12\n",
            "protokol 11\n",
            "kita 11\n",
            "di 10\n",
            "masker 9\n",
            "luar 9\n",
            "yg 9\n"
          ],
          "name": "stdout"
        }
      ]
    },
    {
      "cell_type": "markdown",
      "metadata": {
        "id": "l8PVeVgG0rc0"
      },
      "source": [
        "## **Menghitung Nilai Sentimen**"
      ]
    },
    {
      "cell_type": "code",
      "metadata": {
        "id": "pKCEw8Go0q6B"
      },
      "source": [
        "# Fungsi untuk menghitung nilai sentimen\n",
        "def calculate_sentiment(index, word_token, word, sentiment):\n",
        "    # Kata yang terdapat negation_words dibelakangnya memiliki nilai sentimen yang negatif\n",
        "    if (word_token[index-1] in negation_words):\n",
        "        sentiment += -dict['weight'][dict_list.index(word)]\n",
        "    # Menambahkan nilai sentimen\n",
        "    else:\n",
        "        sentiment += dict['weight'][dict_list.index(word)]\n",
        "    \n",
        "    return sentiment"
      ],
      "execution_count": 44,
      "outputs": []
    },
    {
      "cell_type": "code",
      "metadata": {
        "id": "U8hnmmCR0zkm",
        "colab": {
          "base_uri": "https://localhost:8080/"
        },
        "outputId": "3c5217f1-e533-42d4-a994-e6fa0e6d61a8"
      },
      "source": [
        "sentiment_list = []\n",
        "\n",
        "# Menghitung nilai sentimen setiap kalimat\n",
        "for i in range(0, len(preprocess)):\n",
        "    sentiment = 0 \n",
        "    word_token = preprocess[i]\n",
        "    \n",
        "    # Mengecek token pada setiap kalimat\n",
        "    for token in word_token:\n",
        "        index = word_token.index(token)\n",
        "        # Menghitung sentimen pada token yang terdapat pada data leksikon\n",
        "        if token in dict_list :\n",
        "            sentiment = calculate_sentiment(index, word_token, token, sentiment)\n",
        "        else:\n",
        "            kata_dasar = stemmer.stem(token)\n",
        "            # Mengecek kata dasar dari token jika tidak terdapat pada data leksikon\n",
        "            if kata_dasar in dict_list:\n",
        "                sentiment = calculate_sentiment(index, word_token, kata_dasar, sentiment)\n",
        "            # Mengecek kombinasi kata dengan kata sebelumnya\n",
        "            elif(len(word_token) > 1):\n",
        "                # Kombinasi dengan satu kata sebelumnya\n",
        "                if(index-1 > -1):\n",
        "                    combination_one = word_token[index-1] + ' ' + token\n",
        "                    if (combination_one in dict_list):\n",
        "                        sentiment= calculate_sentiment(index, word_token, combination_one, sentiment)\n",
        "                    # Kombinasi dengan dua kata sebelumnya\n",
        "                    elif(index-2 > -1):\n",
        "                        combination_two = word_token[index-2] + ' ' + combination_one\n",
        "                        if combination_two in dict_list:\n",
        "                            sentiment= calculate_sentiment(index, word_token, combination_two, sentiment)\n",
        "    \n",
        "    sentiment_list.append(sentiment)\n",
        "\n",
        "# Menampilkan seluruh nilai sentimen\n",
        "print(sentiment_list)"
      ],
      "execution_count": 45,
      "outputs": [
        {
          "output_type": "stream",
          "text": [
            "[11, 35, 1, -1, 11, 45, -6, 40, 14, 28, 17, 29, 1, 4, 11, 16, 5, 35, 9, 2, 45, 37, 14, 12, 18, 6, 8, -2, 7, 10, 45, 11, 10, 2, -5, 23, 19, 12, 10, -2, 18, 11, -10, 5, -11, 9, 45, 12, 14, 8, -1, 39, -29, 11, -10, 1, 3, 40, 27, 17, 37, -5, 16, 11, -3, 11, 29, 14, 23, 22, 25, 6, -3, 22, -5, -1, 12, 11, 1, -27, 37, -1, 25, 10, -3, 3, 11, 14, -21, 21, 11, -1, 37, 14, 32, 12, 7, 19, -6, 0]\n"
          ],
          "name": "stdout"
        }
      ]
    },
    {
      "cell_type": "code",
      "metadata": {
        "id": "_aX59xffRocm",
        "colab": {
          "base_uri": "https://localhost:8080/"
        },
        "outputId": "0a1488a0-39ff-46e2-e387-e54ec2df5d36"
      },
      "source": [
        "# Membuat matriks 2 dimensi, dimana -1 artinya jumlah baris akan dikalkulasikan secara otomatis untuk setiap 10 value\n",
        "print(np.array(sentiment_list).reshape(-1, 10))"
      ],
      "execution_count": 46,
      "outputs": [
        {
          "output_type": "stream",
          "text": [
            "[[ 11  35   1  -1  11  45  -6  40  14  28]\n",
            " [ 17  29   1   4  11  16   5  35   9   2]\n",
            " [ 45  37  14  12  18   6   8  -2   7  10]\n",
            " [ 45  11  10   2  -5  23  19  12  10  -2]\n",
            " [ 18  11 -10   5 -11   9  45  12  14   8]\n",
            " [ -1  39 -29  11 -10   1   3  40  27  17]\n",
            " [ 37  -5  16  11  -3  11  29  14  23  22]\n",
            " [ 25   6  -3  22  -5  -1  12  11   1 -27]\n",
            " [ 37  -1  25  10  -3   3  11  14 -21  21]\n",
            " [ 11  -1  37  14  32  12   7  19  -6   0]]\n"
          ],
          "name": "stdout"
        }
      ]
    },
    {
      "cell_type": "code",
      "metadata": {
        "id": "jQuh9f1ECM_X",
        "colab": {
          "base_uri": "https://localhost:8080/"
        },
        "outputId": "fec2fd76-77ec-4465-d6fb-1ddce4f1bed0"
      },
      "source": [
        "average_sentiment = np.mean(np.array(sentiment_list).reshape(-1, 10), axis=1)\n",
        "print(average_sentiment)"
      ],
      "execution_count": 47,
      "outputs": [
        {
          "output_type": "stream",
          "text": [
            "[17.8 12.9 15.5 12.5 10.1  9.8 15.5  4.1  9.6 12.5]\n"
          ],
          "name": "stdout"
        }
      ]
    },
    {
      "cell_type": "code",
      "metadata": {
        "id": "SOZ1oHYPQ5D6"
      },
      "source": [
        "df['sentimen_val'] = average_sentiment"
      ],
      "execution_count": 48,
      "outputs": []
    },
    {
      "cell_type": "code",
      "metadata": {
        "id": "a2GscZiERXEN",
        "colab": {
          "base_uri": "https://localhost:8080/",
          "height": 514
        },
        "outputId": "3e1f3e7f-62f7-4f59-f87d-178aa3708af4"
      },
      "source": [
        "df.head(10)"
      ],
      "execution_count": 49,
      "outputs": [
        {
          "output_type": "execute_result",
          "data": {
            "text/html": [
              "<div>\n",
              "<style scoped>\n",
              "    .dataframe tbody tr th:only-of-type {\n",
              "        vertical-align: middle;\n",
              "    }\n",
              "\n",
              "    .dataframe tbody tr th {\n",
              "        vertical-align: top;\n",
              "    }\n",
              "\n",
              "    .dataframe thead th {\n",
              "        text-align: right;\n",
              "    }\n",
              "</style>\n",
              "<table border=\"1\" class=\"dataframe\">\n",
              "  <thead>\n",
              "    <tr style=\"text-align: right;\">\n",
              "      <th></th>\n",
              "      <th>post_id</th>\n",
              "      <th>text</th>\n",
              "      <th>post_text</th>\n",
              "      <th>time</th>\n",
              "      <th>likes</th>\n",
              "      <th>comments</th>\n",
              "      <th>shares</th>\n",
              "      <th>comments_msg</th>\n",
              "      <th>sentimen_val</th>\n",
              "    </tr>\n",
              "  </thead>\n",
              "  <tbody>\n",
              "    <tr>\n",
              "      <th>0</th>\n",
              "      <td>4004976832865720</td>\n",
              "      <td>#Update Perkembangan COVID-19 di Indonesia per...</td>\n",
              "      <td>#Update Perkembangan COVID-19 di Indonesia per...</td>\n",
              "      <td>2020-11-28 12:08:45</td>\n",
              "      <td>63636</td>\n",
              "      <td>1285</td>\n",
              "      <td>0</td>\n",
              "      <td>Pemerintah sudah berusaha semaksimal mungkin m...</td>\n",
              "      <td>17.8</td>\n",
              "    </tr>\n",
              "    <tr>\n",
              "      <th>1</th>\n",
              "      <td>4004494309580639</td>\n",
              "      <td>Stafsus Daniel Tinjau Kesiapan Rumkit TNI AD S...</td>\n",
              "      <td>Stafsus Daniel Tinjau Kesiapan Rumkit TNI AD S...</td>\n",
              "      <td>2020-11-28 08:00:21</td>\n",
              "      <td>263654</td>\n",
              "      <td>646</td>\n",
              "      <td>332</td>\n",
              "      <td>Tetap semangat dan berpikir positif banyak ber...</td>\n",
              "      <td>12.9</td>\n",
              "    </tr>\n",
              "    <tr>\n",
              "      <th>2</th>\n",
              "      <td>4004417006255036</td>\n",
              "      <td>Peroleh Rekor Muri, Layanan PSC 119 di Sumsel ...</td>\n",
              "      <td>Peroleh Rekor Muri, Layanan PSC 119 di Sumsel ...</td>\n",
              "      <td>2020-11-28 07:15:20</td>\n",
              "      <td>106157</td>\n",
              "      <td>308</td>\n",
              "      <td>135</td>\n",
              "      <td>Tetap semangat dan berpikir positif banyak ber...</td>\n",
              "      <td>15.5</td>\n",
              "    </tr>\n",
              "    <tr>\n",
              "      <th>3</th>\n",
              "      <td>4004358039594266</td>\n",
              "      <td>Rakornas KKI: Meningkatkan profesionalisme dok...</td>\n",
              "      <td>Rakornas KKI: Meningkatkan profesionalisme dok...</td>\n",
              "      <td>2020-11-28 06:41:48</td>\n",
              "      <td>1042</td>\n",
              "      <td>19</td>\n",
              "      <td>0</td>\n",
              "      <td>Terima kasih banyak atas semua ini tetap  berf...</td>\n",
              "      <td>12.5</td>\n",
              "    </tr>\n",
              "    <tr>\n",
              "      <th>4</th>\n",
              "      <td>4003974322965971</td>\n",
              "      <td>Protokol Kesehatan Ketat Percepat Pemulihan Ke...</td>\n",
              "      <td>Protokol Kesehatan Ketat Percepat Pemulihan Ke...</td>\n",
              "      <td>2020-11-28 03:40:43</td>\n",
              "      <td>197659</td>\n",
              "      <td>1303</td>\n",
              "      <td>459</td>\n",
              "      <td>Kerja bagus yg patut dicontoh, sehat Bali seha...</td>\n",
              "      <td>10.1</td>\n",
              "    </tr>\n",
              "    <tr>\n",
              "      <th>5</th>\n",
              "      <td>4003663296330407</td>\n",
              "      <td>Selamat Pagi #Healthies\\n\\nAkhir-akhir ini beb...</td>\n",
              "      <td>Selamat Pagi #Healthies\\n\\nAkhir-akhir ini beb...</td>\n",
              "      <td>2020-11-28 01:07:50</td>\n",
              "      <td>2833</td>\n",
              "      <td>49</td>\n",
              "      <td>0</td>\n",
              "      <td>Tetap Waspada jaga kesehatan ikuti protokol sa...</td>\n",
              "      <td>9.8</td>\n",
              "    </tr>\n",
              "    <tr>\n",
              "      <th>6</th>\n",
              "      <td>4002335383129865</td>\n",
              "      <td>RSUD Buleleng Mampu Tes PCR Mandiri\\n\\nBali, 2...</td>\n",
              "      <td>RSUD Buleleng Mampu Tes PCR Mandiri\\n\\nBali, 2...</td>\n",
              "      <td>2020-11-27 14:36:17</td>\n",
              "      <td>222208</td>\n",
              "      <td>733</td>\n",
              "      <td>478</td>\n",
              "      <td>Bersama rakyat TNI kuat. Tiada daya dan kekuat...</td>\n",
              "      <td>15.5</td>\n",
              "    </tr>\n",
              "    <tr>\n",
              "      <th>7</th>\n",
              "      <td>4001694956527241</td>\n",
              "      <td>Perbaiki Sektor Pariwisata di Masa Pandemi COV...</td>\n",
              "      <td>Perbaiki Sektor Pariwisata di Masa Pandemi COV...</td>\n",
              "      <td>2020-11-27 09:40:51</td>\n",
              "      <td>170032</td>\n",
              "      <td>1874</td>\n",
              "      <td>588</td>\n",
              "      <td>Tetap Waspada jaga kesehatan ikuti protokol sa...</td>\n",
              "      <td>4.1</td>\n",
              "    </tr>\n",
              "    <tr>\n",
              "      <th>8</th>\n",
              "      <td>4001626216534115</td>\n",
              "      <td>#Update Perkembangan COVID-19 di Indonesia per...</td>\n",
              "      <td>#Update Perkembangan COVID-19 di Indonesia per...</td>\n",
              "      <td>2020-11-27 09:03:36</td>\n",
              "      <td>73346</td>\n",
              "      <td>1489</td>\n",
              "      <td>0</td>\n",
              "      <td>Terima kasih banyak atas semua ini tetap  berf...</td>\n",
              "      <td>9.6</td>\n",
              "    </tr>\n",
              "    <tr>\n",
              "      <th>9</th>\n",
              "      <td>4000645779965492</td>\n",
              "      <td>Hai #Healthies\\n\\nSaat ini di Indonesia ada se...</td>\n",
              "      <td>Hai #Healthies\\n\\nSaat ini di Indonesia ada se...</td>\n",
              "      <td>2020-11-27 00:30:11</td>\n",
              "      <td>63068</td>\n",
              "      <td>714</td>\n",
              "      <td>0</td>\n",
              "      <td>Tetap semangat dan berpikir positif banyak ber...</td>\n",
              "      <td>12.5</td>\n",
              "    </tr>\n",
              "  </tbody>\n",
              "</table>\n",
              "</div>"
            ],
            "text/plain": [
              "            post_id  ... sentimen_val\n",
              "0  4004976832865720  ...         17.8\n",
              "1  4004494309580639  ...         12.9\n",
              "2  4004417006255036  ...         15.5\n",
              "3  4004358039594266  ...         12.5\n",
              "4  4003974322965971  ...         10.1\n",
              "5  4003663296330407  ...          9.8\n",
              "6  4002335383129865  ...         15.5\n",
              "7  4001694956527241  ...          4.1\n",
              "8  4001626216534115  ...          9.6\n",
              "9  4000645779965492  ...         12.5\n",
              "\n",
              "[10 rows x 9 columns]"
            ]
          },
          "metadata": {
            "tags": []
          },
          "execution_count": 49
        }
      ]
    },
    {
      "cell_type": "markdown",
      "metadata": {
        "id": "ehajxbpbHmor"
      },
      "source": [
        "# **Matriks Keputusan**"
      ]
    },
    {
      "cell_type": "code",
      "metadata": {
        "id": "Q1QwiPV2HzGC",
        "colab": {
          "base_uri": "https://localhost:8080/"
        },
        "outputId": "1ed0cb66-af46-4821-ae5b-ea8bd152c197"
      },
      "source": [
        "durasi_berita_list = []\n",
        "for index, value in df['time'].items():\n",
        "  waktu_post_berita = datetime.strptime(value, '%Y-%m-%d %H:%M:%S')\n",
        "  waktu_sekarang = datetime.now()\n",
        "  durasi_berita = (waktu_sekarang - waktu_post_berita)\n",
        "  # durasi berita dalam hari\n",
        "  durasi_berita_list.append(durasi_berita.total_seconds() / (60 * 60 * 24))\n",
        "\n",
        "print(durasi_berita_list)"
      ],
      "execution_count": 50,
      "outputs": [
        {
          "output_type": "stream",
          "text": [
            "[11.096697960011573, 11.269197960717593, 11.30045953508102, 11.323746572349538, 11.449498887395833, 11.555667869108797, 11.994244258194446, 12.199406295439815, 12.225274351215278, 12.581813703506944]\n"
          ],
          "name": "stdout"
        }
      ]
    },
    {
      "cell_type": "code",
      "metadata": {
        "id": "-6u9UGg2aWQC"
      },
      "source": [
        ""
      ],
      "execution_count": 50,
      "outputs": []
    },
    {
      "cell_type": "code",
      "metadata": {
        "id": "MSJt_joPqmPl"
      },
      "source": [
        "df['durasi_berita'] = durasi_berita_list"
      ],
      "execution_count": 51,
      "outputs": []
    },
    {
      "cell_type": "code",
      "metadata": {
        "id": "8uQAuyLwEH7n",
        "colab": {
          "base_uri": "https://localhost:8080/",
          "height": 347
        },
        "outputId": "0cd07e41-1e48-474b-cf58-5589aeb3a52f"
      },
      "source": [
        "# likes, comment, share, nilai sentimen, durasi berita\n",
        "decision_matrix = df[['likes', 'comments', 'shares', 'sentimen_val', 'durasi_berita']].copy()\n",
        "decision_matrix.head(10)"
      ],
      "execution_count": 52,
      "outputs": [
        {
          "output_type": "execute_result",
          "data": {
            "text/html": [
              "<div>\n",
              "<style scoped>\n",
              "    .dataframe tbody tr th:only-of-type {\n",
              "        vertical-align: middle;\n",
              "    }\n",
              "\n",
              "    .dataframe tbody tr th {\n",
              "        vertical-align: top;\n",
              "    }\n",
              "\n",
              "    .dataframe thead th {\n",
              "        text-align: right;\n",
              "    }\n",
              "</style>\n",
              "<table border=\"1\" class=\"dataframe\">\n",
              "  <thead>\n",
              "    <tr style=\"text-align: right;\">\n",
              "      <th></th>\n",
              "      <th>likes</th>\n",
              "      <th>comments</th>\n",
              "      <th>shares</th>\n",
              "      <th>sentimen_val</th>\n",
              "      <th>durasi_berita</th>\n",
              "    </tr>\n",
              "  </thead>\n",
              "  <tbody>\n",
              "    <tr>\n",
              "      <th>0</th>\n",
              "      <td>63636</td>\n",
              "      <td>1285</td>\n",
              "      <td>0</td>\n",
              "      <td>17.8</td>\n",
              "      <td>11.096698</td>\n",
              "    </tr>\n",
              "    <tr>\n",
              "      <th>1</th>\n",
              "      <td>263654</td>\n",
              "      <td>646</td>\n",
              "      <td>332</td>\n",
              "      <td>12.9</td>\n",
              "      <td>11.269198</td>\n",
              "    </tr>\n",
              "    <tr>\n",
              "      <th>2</th>\n",
              "      <td>106157</td>\n",
              "      <td>308</td>\n",
              "      <td>135</td>\n",
              "      <td>15.5</td>\n",
              "      <td>11.300460</td>\n",
              "    </tr>\n",
              "    <tr>\n",
              "      <th>3</th>\n",
              "      <td>1042</td>\n",
              "      <td>19</td>\n",
              "      <td>0</td>\n",
              "      <td>12.5</td>\n",
              "      <td>11.323747</td>\n",
              "    </tr>\n",
              "    <tr>\n",
              "      <th>4</th>\n",
              "      <td>197659</td>\n",
              "      <td>1303</td>\n",
              "      <td>459</td>\n",
              "      <td>10.1</td>\n",
              "      <td>11.449499</td>\n",
              "    </tr>\n",
              "    <tr>\n",
              "      <th>5</th>\n",
              "      <td>2833</td>\n",
              "      <td>49</td>\n",
              "      <td>0</td>\n",
              "      <td>9.8</td>\n",
              "      <td>11.555668</td>\n",
              "    </tr>\n",
              "    <tr>\n",
              "      <th>6</th>\n",
              "      <td>222208</td>\n",
              "      <td>733</td>\n",
              "      <td>478</td>\n",
              "      <td>15.5</td>\n",
              "      <td>11.994244</td>\n",
              "    </tr>\n",
              "    <tr>\n",
              "      <th>7</th>\n",
              "      <td>170032</td>\n",
              "      <td>1874</td>\n",
              "      <td>588</td>\n",
              "      <td>4.1</td>\n",
              "      <td>12.199406</td>\n",
              "    </tr>\n",
              "    <tr>\n",
              "      <th>8</th>\n",
              "      <td>73346</td>\n",
              "      <td>1489</td>\n",
              "      <td>0</td>\n",
              "      <td>9.6</td>\n",
              "      <td>12.225274</td>\n",
              "    </tr>\n",
              "    <tr>\n",
              "      <th>9</th>\n",
              "      <td>63068</td>\n",
              "      <td>714</td>\n",
              "      <td>0</td>\n",
              "      <td>12.5</td>\n",
              "      <td>12.581814</td>\n",
              "    </tr>\n",
              "  </tbody>\n",
              "</table>\n",
              "</div>"
            ],
            "text/plain": [
              "    likes  comments  shares  sentimen_val  durasi_berita\n",
              "0   63636      1285       0          17.8      11.096698\n",
              "1  263654       646     332          12.9      11.269198\n",
              "2  106157       308     135          15.5      11.300460\n",
              "3    1042        19       0          12.5      11.323747\n",
              "4  197659      1303     459          10.1      11.449499\n",
              "5    2833        49       0           9.8      11.555668\n",
              "6  222208       733     478          15.5      11.994244\n",
              "7  170032      1874     588           4.1      12.199406\n",
              "8   73346      1489       0           9.6      12.225274\n",
              "9   63068       714       0          12.5      12.581814"
            ]
          },
          "metadata": {
            "tags": []
          },
          "execution_count": 52
        }
      ]
    },
    {
      "cell_type": "code",
      "metadata": {
        "id": "2LzIsKU9rktd",
        "colab": {
          "base_uri": "https://localhost:8080/",
          "height": 347
        },
        "outputId": "27ce3ab6-b906-4d50-a3dd-3edd4f174193"
      },
      "source": [
        "# returns a numpy array\n",
        "x = decision_matrix.values \n",
        "min_max_scaler = preprocessing.MinMaxScaler(feature_range=(1, 5))\n",
        "x_scaled = min_max_scaler.fit_transform(x)\n",
        "scaled_decision_matrix = pd.DataFrame(x_scaled, columns=['likes', 'comments', 'shares', 'sentimen_val', 'durasi_berita'])\n",
        "scaled_decision_matrix.head(10)"
      ],
      "execution_count": 53,
      "outputs": [
        {
          "output_type": "execute_result",
          "data": {
            "text/html": [
              "<div>\n",
              "<style scoped>\n",
              "    .dataframe tbody tr th:only-of-type {\n",
              "        vertical-align: middle;\n",
              "    }\n",
              "\n",
              "    .dataframe tbody tr th {\n",
              "        vertical-align: top;\n",
              "    }\n",
              "\n",
              "    .dataframe thead th {\n",
              "        text-align: right;\n",
              "    }\n",
              "</style>\n",
              "<table border=\"1\" class=\"dataframe\">\n",
              "  <thead>\n",
              "    <tr style=\"text-align: right;\">\n",
              "      <th></th>\n",
              "      <th>likes</th>\n",
              "      <th>comments</th>\n",
              "      <th>shares</th>\n",
              "      <th>sentimen_val</th>\n",
              "      <th>durasi_berita</th>\n",
              "    </tr>\n",
              "  </thead>\n",
              "  <tbody>\n",
              "    <tr>\n",
              "      <th>0</th>\n",
              "      <td>1.953407</td>\n",
              "      <td>3.729919</td>\n",
              "      <td>1.000000</td>\n",
              "      <td>5.000000</td>\n",
              "      <td>1.000000</td>\n",
              "    </tr>\n",
              "    <tr>\n",
              "      <th>1</th>\n",
              "      <td>5.000000</td>\n",
              "      <td>2.352022</td>\n",
              "      <td>3.258503</td>\n",
              "      <td>3.569343</td>\n",
              "      <td>1.464610</td>\n",
              "    </tr>\n",
              "    <tr>\n",
              "      <th>2</th>\n",
              "      <td>2.601069</td>\n",
              "      <td>1.623181</td>\n",
              "      <td>1.918367</td>\n",
              "      <td>4.328467</td>\n",
              "      <td>1.548810</td>\n",
              "    </tr>\n",
              "    <tr>\n",
              "      <th>3</th>\n",
              "      <td>1.000000</td>\n",
              "      <td>1.000000</td>\n",
              "      <td>1.000000</td>\n",
              "      <td>3.452555</td>\n",
              "      <td>1.611531</td>\n",
              "    </tr>\n",
              "    <tr>\n",
              "      <th>4</th>\n",
              "      <td>3.994791</td>\n",
              "      <td>3.768733</td>\n",
              "      <td>4.122449</td>\n",
              "      <td>2.751825</td>\n",
              "      <td>1.950231</td>\n",
              "    </tr>\n",
              "    <tr>\n",
              "      <th>5</th>\n",
              "      <td>1.027280</td>\n",
              "      <td>1.064690</td>\n",
              "      <td>1.000000</td>\n",
              "      <td>2.664234</td>\n",
              "      <td>2.236186</td>\n",
              "    </tr>\n",
              "    <tr>\n",
              "      <th>6</th>\n",
              "      <td>4.368711</td>\n",
              "      <td>2.539623</td>\n",
              "      <td>4.251701</td>\n",
              "      <td>4.328467</td>\n",
              "      <td>3.417445</td>\n",
              "    </tr>\n",
              "    <tr>\n",
              "      <th>7</th>\n",
              "      <td>3.573987</td>\n",
              "      <td>5.000000</td>\n",
              "      <td>5.000000</td>\n",
              "      <td>1.000000</td>\n",
              "      <td>3.970027</td>\n",
              "    </tr>\n",
              "    <tr>\n",
              "      <th>8</th>\n",
              "      <td>2.101305</td>\n",
              "      <td>4.169811</td>\n",
              "      <td>1.000000</td>\n",
              "      <td>2.605839</td>\n",
              "      <td>4.039699</td>\n",
              "    </tr>\n",
              "    <tr>\n",
              "      <th>9</th>\n",
              "      <td>1.944755</td>\n",
              "      <td>2.498652</td>\n",
              "      <td>1.000000</td>\n",
              "      <td>3.452555</td>\n",
              "      <td>5.000000</td>\n",
              "    </tr>\n",
              "  </tbody>\n",
              "</table>\n",
              "</div>"
            ],
            "text/plain": [
              "      likes  comments    shares  sentimen_val  durasi_berita\n",
              "0  1.953407  3.729919  1.000000      5.000000       1.000000\n",
              "1  5.000000  2.352022  3.258503      3.569343       1.464610\n",
              "2  2.601069  1.623181  1.918367      4.328467       1.548810\n",
              "3  1.000000  1.000000  1.000000      3.452555       1.611531\n",
              "4  3.994791  3.768733  4.122449      2.751825       1.950231\n",
              "5  1.027280  1.064690  1.000000      2.664234       2.236186\n",
              "6  4.368711  2.539623  4.251701      4.328467       3.417445\n",
              "7  3.573987  5.000000  5.000000      1.000000       3.970027\n",
              "8  2.101305  4.169811  1.000000      2.605839       4.039699\n",
              "9  1.944755  2.498652  1.000000      3.452555       5.000000"
            ]
          },
          "metadata": {
            "tags": []
          },
          "execution_count": 53
        }
      ]
    },
    {
      "cell_type": "code",
      "metadata": {
        "id": "hUddvX3nwHPD",
        "colab": {
          "base_uri": "https://localhost:8080/"
        },
        "outputId": "b7c47215-4940-4ca7-d52f-6a0f0a85e5c9"
      },
      "source": [
        "mtx = scaled_decision_matrix.to_numpy()\n",
        "mtx"
      ],
      "execution_count": 54,
      "outputs": [
        {
          "output_type": "execute_result",
          "data": {
            "text/plain": [
              "array([[1.95340655, 3.72991914, 1.        , 5.        , 1.        ],\n",
              "       [5.        , 2.35202156, 3.2585034 , 3.56934307, 1.46461025],\n",
              "       [2.60106926, 1.62318059, 1.91836735, 4.32846715, 1.54880995],\n",
              "       [1.        , 1.        , 1.        , 3.45255474, 1.61153109],\n",
              "       [3.99479079, 3.76873315, 4.12244898, 2.75182482, 1.95023147],\n",
              "       [1.02727979, 1.06469003, 1.        , 2.66423358, 2.23618623],\n",
              "       [4.36871125, 2.53962264, 4.25170068, 4.32846715, 3.41744471],\n",
              "       [3.57398748, 5.        , 5.        , 1.        , 3.97002665],\n",
              "       [2.10130535, 4.16981132, 1.        , 2.60583942, 4.03969949],\n",
              "       [1.944755  , 2.49865229, 1.        , 3.45255474, 5.        ]])"
            ]
          },
          "metadata": {
            "tags": []
          },
          "execution_count": 54
        }
      ]
    },
    {
      "cell_type": "markdown",
      "metadata": {
        "id": "pzxC_kW2hqos"
      },
      "source": [
        "# **MCDM AHP TOPSIS**"
      ]
    },
    {
      "cell_type": "code",
      "metadata": {
        "id": "Jsx9FA2ct_dk",
        "colab": {
          "base_uri": "https://localhost:8080/"
        },
        "outputId": "f5af9f11-ef9c-4ff7-c709-e0d7970afe53"
      },
      "source": [
        " pip install scikit-criteria"
      ],
      "execution_count": 55,
      "outputs": [
        {
          "output_type": "stream",
          "text": [
            "Collecting scikit-criteria\n",
            "\u001b[?25l  Downloading https://files.pythonhosted.org/packages/ba/fd/b05abcd8b829b8a47075c9ee045587088f424c79a01becca622c90a73247/scikit-criteria-0.2.10.tar.gz (52kB)\n",
            "\r\u001b[K     |██████▎                         | 10kB 18.9MB/s eta 0:00:01\r\u001b[K     |████████████▌                   | 20kB 22.5MB/s eta 0:00:01\r\u001b[K     |██████████████████▉             | 30kB 11.3MB/s eta 0:00:01\r\u001b[K     |█████████████████████████       | 40kB 9.1MB/s eta 0:00:01\r\u001b[K     |███████████████████████████████▍| 51kB 4.4MB/s eta 0:00:01\r\u001b[K     |████████████████████████████████| 61kB 3.1MB/s \n",
            "\u001b[?25hRequirement already satisfied: numpy in /usr/local/lib/python3.6/dist-packages (from scikit-criteria) (1.18.5)\n",
            "Requirement already satisfied: scipy in /usr/local/lib/python3.6/dist-packages (from scikit-criteria) (1.4.1)\n",
            "Requirement already satisfied: six in /usr/local/lib/python3.6/dist-packages (from scikit-criteria) (1.15.0)\n",
            "Collecting mock\n",
            "  Downloading https://files.pythonhosted.org/packages/cd/74/d72daf8dff5b6566db857cfd088907bb0355f5dd2914c4b3ef065c790735/mock-4.0.2-py3-none-any.whl\n",
            "Requirement already satisfied: tabulate in /usr/local/lib/python3.6/dist-packages (from scikit-criteria) (0.8.7)\n",
            "Requirement already satisfied: matplotlib in /usr/local/lib/python3.6/dist-packages (from scikit-criteria) (3.2.2)\n",
            "Collecting pulp\n",
            "\u001b[?25l  Downloading https://files.pythonhosted.org/packages/89/0c/6d80f5f81a92d1733cc5ca180491b8a3cd5839e335627a0046c81b7d3d3d/PuLP-2.3.1-py3-none-any.whl (40.6MB)\n",
            "\u001b[K     |████████████████████████████████| 40.6MB 96kB/s \n",
            "\u001b[?25hCollecting json-tricks\n",
            "  Downloading https://files.pythonhosted.org/packages/41/ab/f778a61e3195e656da5a6b9a5392d52b5ed4447fcfbb6413bf1077e60fd1/json_tricks-3.15.5-py2.py3-none-any.whl\n",
            "Requirement already satisfied: joblib in /usr/local/lib/python3.6/dist-packages (from scikit-criteria) (0.17.0)\n",
            "Requirement already satisfied: attrs in /usr/local/lib/python3.6/dist-packages (from scikit-criteria) (20.3.0)\n",
            "Requirement already satisfied: pytest in /usr/local/lib/python3.6/dist-packages (from scikit-criteria) (3.6.4)\n",
            "Requirement already satisfied: cycler>=0.10 in /usr/local/lib/python3.6/dist-packages (from matplotlib->scikit-criteria) (0.10.0)\n",
            "Requirement already satisfied: kiwisolver>=1.0.1 in /usr/local/lib/python3.6/dist-packages (from matplotlib->scikit-criteria) (1.3.1)\n",
            "Requirement already satisfied: pyparsing!=2.0.4,!=2.1.2,!=2.1.6,>=2.0.1 in /usr/local/lib/python3.6/dist-packages (from matplotlib->scikit-criteria) (2.4.7)\n",
            "Requirement already satisfied: python-dateutil>=2.1 in /usr/local/lib/python3.6/dist-packages (from matplotlib->scikit-criteria) (2.8.1)\n",
            "Collecting amply>=0.1.2\n",
            "  Downloading https://files.pythonhosted.org/packages/f3/c5/dfa09dd2595a2ab2ab4e6fa7bebef9565812722e1980d04b0edce5032066/amply-0.1.4-py3-none-any.whl\n",
            "Requirement already satisfied: pluggy<0.8,>=0.5 in /usr/local/lib/python3.6/dist-packages (from pytest->scikit-criteria) (0.7.1)\n",
            "Requirement already satisfied: py>=1.5.0 in /usr/local/lib/python3.6/dist-packages (from pytest->scikit-criteria) (1.9.0)\n",
            "Requirement already satisfied: more-itertools>=4.0.0 in /usr/local/lib/python3.6/dist-packages (from pytest->scikit-criteria) (8.6.0)\n",
            "Requirement already satisfied: atomicwrites>=1.0 in /usr/local/lib/python3.6/dist-packages (from pytest->scikit-criteria) (1.4.0)\n",
            "Requirement already satisfied: setuptools in /usr/local/lib/python3.6/dist-packages (from pytest->scikit-criteria) (50.3.2)\n",
            "Requirement already satisfied: docutils>=0.3 in /usr/local/lib/python3.6/dist-packages (from amply>=0.1.2->pulp->scikit-criteria) (0.16)\n",
            "Building wheels for collected packages: scikit-criteria\n",
            "  Building wheel for scikit-criteria (setup.py) ... \u001b[?25l\u001b[?25hdone\n",
            "  Created wheel for scikit-criteria: filename=scikit_criteria-0.2.10-cp36-none-any.whl size=118313 sha256=199e083eb9ed403c43938279b9a767c60c01016c2ae752e28764c3a2f5510b9b\n",
            "  Stored in directory: /root/.cache/pip/wheels/57/ed/90/3dfef98b07189ad37e6ff7fb94285672430929173dca968bc5\n",
            "Successfully built scikit-criteria\n",
            "Installing collected packages: mock, amply, pulp, json-tricks, scikit-criteria\n",
            "Successfully installed amply-0.1.4 json-tricks-3.15.5 mock-4.0.2 pulp-2.3.1 scikit-criteria-0.2.10\n"
          ],
          "name": "stdout"
        }
      ]
    },
    {
      "cell_type": "code",
      "metadata": {
        "id": "qIaszsMRv79c"
      },
      "source": [
        "from skcriteria import Data, MIN, MAX"
      ],
      "execution_count": 56,
      "outputs": []
    },
    {
      "cell_type": "markdown",
      "metadata": {
        "id": "_gacFvzyWmmv"
      },
      "source": [
        "## **AHP**"
      ]
    },
    {
      "cell_type": "code",
      "metadata": {
        "colab": {
          "base_uri": "https://localhost:8080/",
          "height": 138
        },
        "id": "h89T4p5pT8mo",
        "outputId": "f8e86ff6-a01f-44a3-cfa7-63e3c33636c7"
      },
      "source": [
        "# Initialize Data\n",
        "matrix = [[1, 1/5, 3, 1/7, 3],\n",
        "          [5, 1, 5, 1/3, 3],\n",
        "          [1/3, 1/5, 1, 1/7, 1/3],\n",
        "          [7, 3, 7, 1, 7],\n",
        "          [1/3, 1/3, 3, 1/7, 1]]\n",
        "row    = 5 #Jumlah baris\n",
        "column = 5 #Jumlah kolom\n",
        "criteria = [MAX, MAX, MAX, MAX, MIN]\n",
        "alternativeName=[\"C1\", \"C2\", \"C3\", \"C4\", \"C5\"]\n",
        "criteriaName=[\"C1\", \"C2\", \"C3\", \"C4\", \"C5\"] \t\t\t\t\n",
        "\n",
        "#Ubah value matrix menjadi float\n",
        "floatMatrix = []\n",
        "for i in matrix:\n",
        "  try:\n",
        "    ix=[]\n",
        "    for j in i:\n",
        "      ix.append(float(j))\n",
        "  except:\n",
        "    ix=float(i)\n",
        "    pass\n",
        "  floatMatrix.append(ix)\n",
        "\n",
        "data = Data (floatMatrix, criteria, anames=alternativeName, cnames=criteriaName)\n",
        "data"
      ],
      "execution_count": 57,
      "outputs": [
        {
          "output_type": "execute_result",
          "data": {
            "text/html": [
              "<table>\n",
              "<thead>\n",
              "<tr><th style=\"text-align: center;\"> ALT./CRIT. </th><th style=\"text-align: center;\"> C1 (max) </th><th style=\"text-align: center;\"> C2 (max) </th><th style=\"text-align: center;\"> C3 (max) </th><th style=\"text-align: center;\"> C4 (max) </th><th style=\"text-align: center;\"> C5 (min) </th></tr>\n",
              "</thead>\n",
              "<tbody>\n",
              "<tr><td style=\"text-align: center;\">     C1     </td><td style=\"text-align: center;\">    1     </td><td style=\"text-align: center;\">   0.2    </td><td style=\"text-align: center;\">    3     </td><td style=\"text-align: center;\"> 0.142857 </td><td style=\"text-align: center;\">    3     </td></tr>\n",
              "<tr><td style=\"text-align: center;\">     C2     </td><td style=\"text-align: center;\">    5     </td><td style=\"text-align: center;\">    1     </td><td style=\"text-align: center;\">    5     </td><td style=\"text-align: center;\"> 0.333333 </td><td style=\"text-align: center;\">    3     </td></tr>\n",
              "<tr><td style=\"text-align: center;\">     C3     </td><td style=\"text-align: center;\"> 0.333333 </td><td style=\"text-align: center;\">   0.2    </td><td style=\"text-align: center;\">    1     </td><td style=\"text-align: center;\"> 0.142857 </td><td style=\"text-align: center;\"> 0.333333 </td></tr>\n",
              "<tr><td style=\"text-align: center;\">     C4     </td><td style=\"text-align: center;\">    7     </td><td style=\"text-align: center;\">    3     </td><td style=\"text-align: center;\">    7     </td><td style=\"text-align: center;\">    1     </td><td style=\"text-align: center;\">    7     </td></tr>\n",
              "<tr><td style=\"text-align: center;\">     C5     </td><td style=\"text-align: center;\"> 0.333333 </td><td style=\"text-align: center;\"> 0.333333 </td><td style=\"text-align: center;\">    3     </td><td style=\"text-align: center;\"> 0.142857 </td><td style=\"text-align: center;\">    1     </td></tr>\n",
              "</tbody>\n",
              "</table>"
            ],
            "text/plain": [
              " ALT./CRIT.    C1 (max)    C2 (max)    C3 (max)    C4 (max)    C5 (min)\n",
              "------------  ----------  ----------  ----------  ----------  ----------\n",
              "     C1           1          0.2          3        0.142857       3\n",
              "     C2           5           1           5        0.333333       3\n",
              "     C3        0.333333      0.2          1        0.142857    0.333333\n",
              "     C4           7           3           7           1           7\n",
              "     C5        0.333333    0.333333       3        0.142857       1"
            ]
          },
          "metadata": {
            "tags": []
          },
          "execution_count": 57
        }
      ]
    },
    {
      "cell_type": "code",
      "metadata": {
        "id": "1qG_oRRWWrTZ",
        "colab": {
          "base_uri": "https://localhost:8080/",
          "height": 158
        },
        "outputId": "dfac0e79-6707-471a-8c44-de15080cf488"
      },
      "source": [
        "tempMtx = floatMatrix\n",
        "total=np.array([np.sum(tempMtx,axis=0)])\n",
        "tempMtx=np.concatenate((tempMtx,total),axis=0)\n",
        "\n",
        "alternativeName=[\"C1\", \"C2\", \"C3\", \"C4\", \"C5\", \"Total\"]\n",
        "data = Data (tempMtx, criteria, anames=alternativeName, cnames=criteriaName)\n",
        "data"
      ],
      "execution_count": 58,
      "outputs": [
        {
          "output_type": "execute_result",
          "data": {
            "text/html": [
              "<table>\n",
              "<thead>\n",
              "<tr><th style=\"text-align: center;\"> ALT./CRIT. </th><th style=\"text-align: center;\"> C1 (max) </th><th style=\"text-align: center;\"> C2 (max) </th><th style=\"text-align: center;\"> C3 (max) </th><th style=\"text-align: center;\"> C4 (max) </th><th style=\"text-align: center;\"> C5 (min) </th></tr>\n",
              "</thead>\n",
              "<tbody>\n",
              "<tr><td style=\"text-align: center;\">     C1     </td><td style=\"text-align: center;\">    1     </td><td style=\"text-align: center;\">   0.2    </td><td style=\"text-align: center;\">    3     </td><td style=\"text-align: center;\"> 0.142857 </td><td style=\"text-align: center;\">    3     </td></tr>\n",
              "<tr><td style=\"text-align: center;\">     C2     </td><td style=\"text-align: center;\">    5     </td><td style=\"text-align: center;\">    1     </td><td style=\"text-align: center;\">    5     </td><td style=\"text-align: center;\"> 0.333333 </td><td style=\"text-align: center;\">    3     </td></tr>\n",
              "<tr><td style=\"text-align: center;\">     C3     </td><td style=\"text-align: center;\"> 0.333333 </td><td style=\"text-align: center;\">   0.2    </td><td style=\"text-align: center;\">    1     </td><td style=\"text-align: center;\"> 0.142857 </td><td style=\"text-align: center;\"> 0.333333 </td></tr>\n",
              "<tr><td style=\"text-align: center;\">     C4     </td><td style=\"text-align: center;\">    7     </td><td style=\"text-align: center;\">    3     </td><td style=\"text-align: center;\">    7     </td><td style=\"text-align: center;\">    1     </td><td style=\"text-align: center;\">    7     </td></tr>\n",
              "<tr><td style=\"text-align: center;\">     C5     </td><td style=\"text-align: center;\"> 0.333333 </td><td style=\"text-align: center;\"> 0.333333 </td><td style=\"text-align: center;\">    3     </td><td style=\"text-align: center;\"> 0.142857 </td><td style=\"text-align: center;\">    1     </td></tr>\n",
              "<tr><td style=\"text-align: center;\">   Total    </td><td style=\"text-align: center;\"> 13.6667  </td><td style=\"text-align: center;\"> 4.73333  </td><td style=\"text-align: center;\">    19    </td><td style=\"text-align: center;\">  1.7619  </td><td style=\"text-align: center;\"> 14.3333  </td></tr>\n",
              "</tbody>\n",
              "</table>"
            ],
            "text/plain": [
              " ALT./CRIT.    C1 (max)    C2 (max)    C3 (max)    C4 (max)    C5 (min)\n",
              "------------  ----------  ----------  ----------  ----------  ----------\n",
              "     C1           1          0.2          3        0.142857       3\n",
              "     C2           5           1           5        0.333333       3\n",
              "     C3        0.333333      0.2          1        0.142857    0.333333\n",
              "     C4           7           3           7           1           7\n",
              "     C5        0.333333    0.333333       3        0.142857       1\n",
              "   Total       13.6667     4.73333        19        1.7619     14.3333"
            ]
          },
          "metadata": {
            "tags": []
          },
          "execution_count": 58
        }
      ]
    },
    {
      "cell_type": "markdown",
      "metadata": {
        "id": "JS6afTMHqOqk"
      },
      "source": [
        "### **Step 1:** Normalisasi Matrix Pairwise & Mencari Weight"
      ]
    },
    {
      "cell_type": "code",
      "metadata": {
        "id": "7lANc_fh2wwC",
        "colab": {
          "base_uri": "https://localhost:8080/",
          "height": 155
        },
        "outputId": "9a40393b-29b9-4599-9082-c694920dad43"
      },
      "source": [
        "#Normalisasi Matrix\n",
        "normMtx=[]\n",
        "for i in range(row):\n",
        "  try:\n",
        "    ix=[]\n",
        "    for j in range(column):\n",
        "      ix.append(floatMatrix[i][j]/total[0][j])\n",
        "  except:\n",
        "    ix=i\n",
        "    pass\n",
        "  normMtx.append(ix)\n",
        "\n",
        "tempMtx = normMtx\n",
        "w=np.array([np.average(tempMtx,axis=1)])\n",
        "tempMtx=np.concatenate((tempMtx,w.T),axis=1)\n",
        "\n",
        "criteria = [MAX, MAX, MAX, MAX, MIN, MAX]\n",
        "alternativeName=[\"C1\", \"C2\", \"C3\", \"C4\", \"C5\"]\n",
        "criteriaName=[\"C1\", \"C2\", \"C3\", \"C4\", \"C5\", \"weight\"] \n",
        "data = Data (tempMtx, criteria, anames=alternativeName, cnames=criteriaName)\n",
        "print(\"Normalize Matrix\")\n",
        "data"
      ],
      "execution_count": 59,
      "outputs": [
        {
          "output_type": "stream",
          "text": [
            "Normalize Matrix\n"
          ],
          "name": "stdout"
        },
        {
          "output_type": "execute_result",
          "data": {
            "text/html": [
              "<table>\n",
              "<thead>\n",
              "<tr><th style=\"text-align: center;\"> ALT./CRIT. </th><th style=\"text-align: center;\"> C1 (max) </th><th style=\"text-align: center;\"> C2 (max) </th><th style=\"text-align: center;\"> C3 (max) </th><th style=\"text-align: center;\"> C4 (max) </th><th style=\"text-align: center;\"> C5 (min) </th><th style=\"text-align: center;\"> weight (max) </th></tr>\n",
              "</thead>\n",
              "<tbody>\n",
              "<tr><td style=\"text-align: center;\">     C1     </td><td style=\"text-align: center;\">0.0731707 </td><td style=\"text-align: center;\">0.0422535 </td><td style=\"text-align: center;\"> 0.157895 </td><td style=\"text-align: center;\">0.0810811 </td><td style=\"text-align: center;\"> 0.209302 </td><td style=\"text-align: center;\">   0.11274    </td></tr>\n",
              "<tr><td style=\"text-align: center;\">     C2     </td><td style=\"text-align: center;\"> 0.365854 </td><td style=\"text-align: center;\"> 0.211268 </td><td style=\"text-align: center;\"> 0.263158 </td><td style=\"text-align: center;\"> 0.189189 </td><td style=\"text-align: center;\"> 0.209302 </td><td style=\"text-align: center;\">   0.247754   </td></tr>\n",
              "<tr><td style=\"text-align: center;\">     C3     </td><td style=\"text-align: center;\">0.0243902 </td><td style=\"text-align: center;\">0.0422535 </td><td style=\"text-align: center;\">0.0526316 </td><td style=\"text-align: center;\">0.0810811 </td><td style=\"text-align: center;\">0.0232558 </td><td style=\"text-align: center;\">  0.0447224   </td></tr>\n",
              "<tr><td style=\"text-align: center;\">     C4     </td><td style=\"text-align: center;\"> 0.512195 </td><td style=\"text-align: center;\"> 0.633803 </td><td style=\"text-align: center;\"> 0.368421 </td><td style=\"text-align: center;\"> 0.567568 </td><td style=\"text-align: center;\"> 0.488372 </td><td style=\"text-align: center;\">   0.514072   </td></tr>\n",
              "<tr><td style=\"text-align: center;\">     C5     </td><td style=\"text-align: center;\">0.0243902 </td><td style=\"text-align: center;\">0.0704225 </td><td style=\"text-align: center;\"> 0.157895 </td><td style=\"text-align: center;\">0.0810811 </td><td style=\"text-align: center;\">0.0697674 </td><td style=\"text-align: center;\">  0.0807112   </td></tr>\n",
              "</tbody>\n",
              "</table>"
            ],
            "text/plain": [
              " ALT./CRIT.    C1 (max)    C2 (max)    C3 (max)    C4 (max)    C5 (min)    weight (max)\n",
              "------------  ----------  ----------  ----------  ----------  ----------  --------------\n",
              "     C1       0.0731707   0.0422535    0.157895   0.0810811    0.209302      0.11274\n",
              "     C2        0.365854    0.211268    0.263158    0.189189    0.209302      0.247754\n",
              "     C3       0.0243902   0.0422535   0.0526316   0.0810811   0.0232558     0.0447224\n",
              "     C4        0.512195    0.633803    0.368421    0.567568    0.488372      0.514072\n",
              "     C5       0.0243902   0.0704225    0.157895   0.0810811   0.0697674     0.0807112"
            ]
          },
          "metadata": {
            "tags": []
          },
          "execution_count": 59
        }
      ]
    },
    {
      "cell_type": "markdown",
      "metadata": {
        "id": "kPacheFFTkKa"
      },
      "source": [
        "### **Step 2:** Mengecek CR dari Matriks Pairwise"
      ]
    },
    {
      "cell_type": "code",
      "metadata": {
        "colab": {
          "base_uri": "https://localhost:8080/"
        },
        "id": "9Q8WXd3ZYAGT",
        "outputId": "d7191e52-ba7d-4557-9c06-b1e8af6531b1"
      },
      "source": [
        "AX = np.matmul(floatMatrix, np.transpose(w))\n",
        "AX"
      ],
      "execution_count": 60,
      "outputs": [
        {
          "output_type": "execute_result",
          "data": {
            "text/plain": [
              "array([[0.61203109],\n",
              "       [1.44855964],\n",
              "       [0.23219599],\n",
              "       [2.92455308],\n",
              "       [0.40848224]])"
            ]
          },
          "metadata": {
            "tags": []
          },
          "execution_count": 60
        }
      ]
    },
    {
      "cell_type": "markdown",
      "metadata": {
        "id": "lCCuu_yWfica"
      },
      "source": [
        "### **Step 3:** Menghitung Consistency Vector\n",
        "\n"
      ]
    },
    {
      "cell_type": "code",
      "metadata": {
        "colab": {
          "base_uri": "https://localhost:8080/"
        },
        "id": "iTr3ulsjfwXT",
        "outputId": "10e7ca4a-fc22-48d1-c582-757fb5bc1190"
      },
      "source": [
        "c_vector = np.true_divide(AX, np.transpose(w))\n",
        "c_vector"
      ],
      "execution_count": 61,
      "outputs": [
        {
          "output_type": "execute_result",
          "data": {
            "text/plain": [
              "array([[5.42867208],\n",
              "       [5.84676271],\n",
              "       [5.19193382],\n",
              "       [5.68899806],\n",
              "       [5.06103492]])"
            ]
          },
          "metadata": {
            "tags": []
          },
          "execution_count": 61
        }
      ]
    },
    {
      "cell_type": "markdown",
      "metadata": {
        "id": "bUmPz3xIgcRR"
      },
      "source": [
        "### **Step 4:** Mencari Lambda, CI, CR\n"
      ]
    },
    {
      "cell_type": "code",
      "metadata": {
        "colab": {
          "base_uri": "https://localhost:8080/"
        },
        "id": "aMUyYjrCg0e9",
        "outputId": "c305a3bc-94c8-41d8-ef30-c8e0d92cf73f"
      },
      "source": [
        "lambdaMax = c_vector.mean()\n",
        "CI = (lambdaMax-column)/(column-1)\n",
        "RI = 1.12\n",
        "CR = CI/RI\n",
        "\n",
        "print(\"Lambda Max = \",lambdaMax)\n",
        "print(\"CI = \",CI)\n",
        "print(\"CR = \",CR, \" < 0.1 = konsisten\")"
      ],
      "execution_count": 62,
      "outputs": [
        {
          "output_type": "stream",
          "text": [
            "Lambda Max =  5.443480317747239\n",
            "CI =  0.11087007943680982\n",
            "CR =  0.09899114235429447  < 0.1 = konsisten\n"
          ],
          "name": "stdout"
        }
      ]
    },
    {
      "cell_type": "markdown",
      "metadata": {
        "id": "U5faY5zsc1fd"
      },
      "source": [
        "## **TOPSIS**"
      ]
    },
    {
      "cell_type": "code",
      "metadata": {
        "id": "1bMHgQqQv_qG",
        "colab": {
          "base_uri": "https://localhost:8080/",
          "height": 238
        },
        "outputId": "5c0a67a8-6671-4464-99f2-4661bd663839"
      },
      "source": [
        "# Initialize Data\n",
        "row    = 10 #Jumlah baris\n",
        "column = 5 #Jumlah kolom\n",
        "criteria = [MAX, MAX, MAX, MAX, MIN]\n",
        "alternativeName=[\"0\", \"1\", \"2\", \"3\", \"4\", \"5\", \"6\", \"7\", \"8\", \"9\"]\n",
        "criteriaName=[\"likes\", \"comments\", \"shares\", \"sentimen_val\", \"durasi_berita\"] \t\t\t\t\n",
        "\n",
        "#Ubah value matrix menjadi float\n",
        "floatMtx = []\n",
        "for i in mtx:\n",
        "  try:\n",
        "    ix=[]\n",
        "    for j in i:\n",
        "      ix.append(float(j))\n",
        "  except:\n",
        "    ix=float(i)\n",
        "    pass\n",
        "  floatMtx.append(ix)\n",
        "\n",
        "data = Data (floatMtx, criteria, anames=alternativeName, cnames=criteriaName)\n",
        "data"
      ],
      "execution_count": 63,
      "outputs": [
        {
          "output_type": "execute_result",
          "data": {
            "text/html": [
              "<table>\n",
              "<thead>\n",
              "<tr><th style=\"text-align: center;\"> ALT./CRIT. </th><th style=\"text-align: center;\"> likes (max) </th><th style=\"text-align: center;\"> comments (max) </th><th style=\"text-align: center;\"> shares (max) </th><th style=\"text-align: center;\"> sentimen_val (max) </th><th style=\"text-align: center;\"> durasi_berita (min) </th></tr>\n",
              "</thead>\n",
              "<tbody>\n",
              "<tr><td style=\"text-align: center;\">     0      </td><td style=\"text-align: center;\">   1.95341   </td><td style=\"text-align: center;\">    3.72992     </td><td style=\"text-align: center;\">      1       </td><td style=\"text-align: center;\">         5          </td><td style=\"text-align: center;\">          1          </td></tr>\n",
              "<tr><td style=\"text-align: center;\">     1      </td><td style=\"text-align: center;\">      5      </td><td style=\"text-align: center;\">    2.35202     </td><td style=\"text-align: center;\">    3.2585    </td><td style=\"text-align: center;\">      3.56934       </td><td style=\"text-align: center;\">       1.46461       </td></tr>\n",
              "<tr><td style=\"text-align: center;\">     2      </td><td style=\"text-align: center;\">   2.60107   </td><td style=\"text-align: center;\">    1.62318     </td><td style=\"text-align: center;\">   1.91837    </td><td style=\"text-align: center;\">      4.32847       </td><td style=\"text-align: center;\">       1.54881       </td></tr>\n",
              "<tr><td style=\"text-align: center;\">     3      </td><td style=\"text-align: center;\">      1      </td><td style=\"text-align: center;\">       1        </td><td style=\"text-align: center;\">      1       </td><td style=\"text-align: center;\">      3.45255       </td><td style=\"text-align: center;\">       1.61153       </td></tr>\n",
              "<tr><td style=\"text-align: center;\">     4      </td><td style=\"text-align: center;\">   3.99479   </td><td style=\"text-align: center;\">    3.76873     </td><td style=\"text-align: center;\">   4.12245    </td><td style=\"text-align: center;\">      2.75182       </td><td style=\"text-align: center;\">       1.95023       </td></tr>\n",
              "<tr><td style=\"text-align: center;\">     5      </td><td style=\"text-align: center;\">   1.02728   </td><td style=\"text-align: center;\">    1.06469     </td><td style=\"text-align: center;\">      1       </td><td style=\"text-align: center;\">      2.66423       </td><td style=\"text-align: center;\">       2.23619       </td></tr>\n",
              "<tr><td style=\"text-align: center;\">     6      </td><td style=\"text-align: center;\">   4.36871   </td><td style=\"text-align: center;\">    2.53962     </td><td style=\"text-align: center;\">    4.2517    </td><td style=\"text-align: center;\">      4.32847       </td><td style=\"text-align: center;\">       3.41744       </td></tr>\n",
              "<tr><td style=\"text-align: center;\">     7      </td><td style=\"text-align: center;\">   3.57399   </td><td style=\"text-align: center;\">       5        </td><td style=\"text-align: center;\">      5       </td><td style=\"text-align: center;\">         1          </td><td style=\"text-align: center;\">       3.97003       </td></tr>\n",
              "<tr><td style=\"text-align: center;\">     8      </td><td style=\"text-align: center;\">   2.10131   </td><td style=\"text-align: center;\">    4.16981     </td><td style=\"text-align: center;\">      1       </td><td style=\"text-align: center;\">      2.60584       </td><td style=\"text-align: center;\">       4.0397        </td></tr>\n",
              "<tr><td style=\"text-align: center;\">     9      </td><td style=\"text-align: center;\">   1.94475   </td><td style=\"text-align: center;\">    2.49865     </td><td style=\"text-align: center;\">      1       </td><td style=\"text-align: center;\">      3.45255       </td><td style=\"text-align: center;\">          5          </td></tr>\n",
              "</tbody>\n",
              "</table>"
            ],
            "text/plain": [
              " ALT./CRIT.    likes (max)    comments (max)    shares (max)    sentimen_val (max)    durasi_berita (min)\n",
              "------------  -------------  ----------------  --------------  --------------------  ---------------------\n",
              "     0           1.95341         3.72992             1                  5                      1\n",
              "     1              5            2.35202           3.2585            3.56934                1.46461\n",
              "     2           2.60107         1.62318          1.91837            4.32847                1.54881\n",
              "     3              1               1                1               3.45255                1.61153\n",
              "     4           3.99479         3.76873          4.12245            2.75182                1.95023\n",
              "     5           1.02728         1.06469             1               2.66423                2.23619\n",
              "     6           4.36871         2.53962           4.2517            4.32847                3.41744\n",
              "     7           3.57399            5                5                  1                   3.97003\n",
              "     8           2.10131         4.16981             1               2.60584                4.0397\n",
              "     9           1.94475         2.49865             1               3.45255                   5"
            ]
          },
          "metadata": {
            "tags": []
          },
          "execution_count": 63
        }
      ]
    },
    {
      "cell_type": "markdown",
      "metadata": {
        "id": "r2HTKKLwU6Dl"
      },
      "source": [
        "### **Step 1 :** Normalisasi Decision Matrix"
      ]
    },
    {
      "cell_type": "code",
      "metadata": {
        "id": "eQ7QAMqeVskE",
        "colab": {
          "base_uri": "https://localhost:8080/",
          "height": 364
        },
        "outputId": "5633ee0d-ac50-47c7-ab76-1683294ff040"
      },
      "source": [
        "criteria = [MAX, MAX, MAX, MAX, MIN]\n",
        "criteriaName=[\"likes\", \"comments\", \"shares\", \"sentimen_val\", \"durasi_berita\"] \n",
        "\n",
        "#Transpose matrix\n",
        "mtxTrans = np.transpose(floatMtx)\n",
        "\n",
        "#Menguadratkan nilai matrix\n",
        "powerMtx=[]\n",
        "for i in mtxTrans:\n",
        "  try:\n",
        "    ix=[]\n",
        "    for j in i:\n",
        "      ix.append(pow(j,2))\n",
        "  except:\n",
        "    ix=i\n",
        "    pass\n",
        "  powerMtx.append(ix)\n",
        "\n",
        "#Normalisasi Matrix\n",
        "rij=[]\n",
        "for i in range(row):\n",
        "  try:\n",
        "    ix=[]\n",
        "    for j in range(column):\n",
        "      ix.append(floatMtx[i][j]/pow(sum(powerMtx[j]),(1/2)))\n",
        "  except:\n",
        "    ix=i\n",
        "    pass\n",
        "  rij.append(ix)\n",
        "  \n",
        "print(\"Normalize Matrix\")\n",
        "pd.DataFrame(rij, columns=criteriaName)"
      ],
      "execution_count": 64,
      "outputs": [
        {
          "output_type": "stream",
          "text": [
            "Normalize Matrix\n"
          ],
          "name": "stdout"
        },
        {
          "output_type": "execute_result",
          "data": {
            "text/html": [
              "<div>\n",
              "<style scoped>\n",
              "    .dataframe tbody tr th:only-of-type {\n",
              "        vertical-align: middle;\n",
              "    }\n",
              "\n",
              "    .dataframe tbody tr th {\n",
              "        vertical-align: top;\n",
              "    }\n",
              "\n",
              "    .dataframe thead th {\n",
              "        text-align: right;\n",
              "    }\n",
              "</style>\n",
              "<table border=\"1\" class=\"dataframe\">\n",
              "  <thead>\n",
              "    <tr style=\"text-align: right;\">\n",
              "      <th></th>\n",
              "      <th>likes</th>\n",
              "      <th>comments</th>\n",
              "      <th>shares</th>\n",
              "      <th>sentimen_val</th>\n",
              "      <th>durasi_berita</th>\n",
              "    </tr>\n",
              "  </thead>\n",
              "  <tbody>\n",
              "    <tr>\n",
              "      <th>0</th>\n",
              "      <td>0.201853</td>\n",
              "      <td>0.385747</td>\n",
              "      <td>0.112247</td>\n",
              "      <td>0.453585</td>\n",
              "      <td>0.108019</td>\n",
              "    </tr>\n",
              "    <tr>\n",
              "      <th>1</th>\n",
              "      <td>0.516669</td>\n",
              "      <td>0.243245</td>\n",
              "      <td>0.365756</td>\n",
              "      <td>0.323800</td>\n",
              "      <td>0.158205</td>\n",
              "    </tr>\n",
              "    <tr>\n",
              "      <th>2</th>\n",
              "      <td>0.268778</td>\n",
              "      <td>0.167869</td>\n",
              "      <td>0.215330</td>\n",
              "      <td>0.392666</td>\n",
              "      <td>0.167301</td>\n",
              "    </tr>\n",
              "    <tr>\n",
              "      <th>3</th>\n",
              "      <td>0.103334</td>\n",
              "      <td>0.103420</td>\n",
              "      <td>0.112247</td>\n",
              "      <td>0.313206</td>\n",
              "      <td>0.174076</td>\n",
              "    </tr>\n",
              "    <tr>\n",
              "      <th>4</th>\n",
              "      <td>0.412797</td>\n",
              "      <td>0.389761</td>\n",
              "      <td>0.462731</td>\n",
              "      <td>0.249637</td>\n",
              "      <td>0.210662</td>\n",
              "    </tr>\n",
              "    <tr>\n",
              "      <th>5</th>\n",
              "      <td>0.106153</td>\n",
              "      <td>0.110110</td>\n",
              "      <td>0.112247</td>\n",
              "      <td>0.241691</td>\n",
              "      <td>0.241550</td>\n",
              "    </tr>\n",
              "    <tr>\n",
              "      <th>6</th>\n",
              "      <td>0.451436</td>\n",
              "      <td>0.262647</td>\n",
              "      <td>0.477239</td>\n",
              "      <td>0.392666</td>\n",
              "      <td>0.369148</td>\n",
              "    </tr>\n",
              "    <tr>\n",
              "      <th>7</th>\n",
              "      <td>0.369314</td>\n",
              "      <td>0.517098</td>\n",
              "      <td>0.561233</td>\n",
              "      <td>0.090717</td>\n",
              "      <td>0.428837</td>\n",
              "    </tr>\n",
              "    <tr>\n",
              "      <th>8</th>\n",
              "      <td>0.217136</td>\n",
              "      <td>0.431240</td>\n",
              "      <td>0.112247</td>\n",
              "      <td>0.236394</td>\n",
              "      <td>0.436363</td>\n",
              "    </tr>\n",
              "    <tr>\n",
              "      <th>9</th>\n",
              "      <td>0.200959</td>\n",
              "      <td>0.258410</td>\n",
              "      <td>0.112247</td>\n",
              "      <td>0.313206</td>\n",
              "      <td>0.540094</td>\n",
              "    </tr>\n",
              "  </tbody>\n",
              "</table>\n",
              "</div>"
            ],
            "text/plain": [
              "      likes  comments    shares  sentimen_val  durasi_berita\n",
              "0  0.201853  0.385747  0.112247      0.453585       0.108019\n",
              "1  0.516669  0.243245  0.365756      0.323800       0.158205\n",
              "2  0.268778  0.167869  0.215330      0.392666       0.167301\n",
              "3  0.103334  0.103420  0.112247      0.313206       0.174076\n",
              "4  0.412797  0.389761  0.462731      0.249637       0.210662\n",
              "5  0.106153  0.110110  0.112247      0.241691       0.241550\n",
              "6  0.451436  0.262647  0.477239      0.392666       0.369148\n",
              "7  0.369314  0.517098  0.561233      0.090717       0.428837\n",
              "8  0.217136  0.431240  0.112247      0.236394       0.436363\n",
              "9  0.200959  0.258410  0.112247      0.313206       0.540094"
            ]
          },
          "metadata": {
            "tags": []
          },
          "execution_count": 64
        }
      ]
    },
    {
      "cell_type": "markdown",
      "metadata": {
        "id": "kxftc6J5cCDc"
      },
      "source": [
        "### **Step 2 :** Menghitung Bobot Decision Matrix"
      ]
    },
    {
      "cell_type": "code",
      "metadata": {
        "id": "N5iiJ2oEYsp9",
        "colab": {
          "base_uri": "https://localhost:8080/",
          "height": 347
        },
        "outputId": "c9b9b118-c205-4b6d-e58a-e36b2d131729"
      },
      "source": [
        "weight=[]\n",
        "for i in range(len(w[0])):\n",
        "  try:\n",
        "    ix=[]\n",
        "    for j in range(len(w[0])):\n",
        "      if(i==j):\n",
        "        ix.append(w[0][j])\n",
        "      else:\n",
        "        ix.append(0)\n",
        "  except:\n",
        "    ix=i\n",
        "    pass\n",
        "  weight.append(ix)\n",
        "\n",
        "#Vij = Wj*rij\n",
        "vij = []\n",
        "vij = np.matmul(rij,weight)\n",
        "pd.DataFrame(vij, columns=criteriaName)"
      ],
      "execution_count": 65,
      "outputs": [
        {
          "output_type": "execute_result",
          "data": {
            "text/html": [
              "<div>\n",
              "<style scoped>\n",
              "    .dataframe tbody tr th:only-of-type {\n",
              "        vertical-align: middle;\n",
              "    }\n",
              "\n",
              "    .dataframe tbody tr th {\n",
              "        vertical-align: top;\n",
              "    }\n",
              "\n",
              "    .dataframe thead th {\n",
              "        text-align: right;\n",
              "    }\n",
              "</style>\n",
              "<table border=\"1\" class=\"dataframe\">\n",
              "  <thead>\n",
              "    <tr style=\"text-align: right;\">\n",
              "      <th></th>\n",
              "      <th>likes</th>\n",
              "      <th>comments</th>\n",
              "      <th>shares</th>\n",
              "      <th>sentimen_val</th>\n",
              "      <th>durasi_berita</th>\n",
              "    </tr>\n",
              "  </thead>\n",
              "  <tbody>\n",
              "    <tr>\n",
              "      <th>0</th>\n",
              "      <td>0.022757</td>\n",
              "      <td>0.095570</td>\n",
              "      <td>0.005020</td>\n",
              "      <td>0.233175</td>\n",
              "      <td>0.008718</td>\n",
              "    </tr>\n",
              "    <tr>\n",
              "      <th>1</th>\n",
              "      <td>0.058250</td>\n",
              "      <td>0.060265</td>\n",
              "      <td>0.016357</td>\n",
              "      <td>0.166457</td>\n",
              "      <td>0.012769</td>\n",
              "    </tr>\n",
              "    <tr>\n",
              "      <th>2</th>\n",
              "      <td>0.030302</td>\n",
              "      <td>0.041590</td>\n",
              "      <td>0.009630</td>\n",
              "      <td>0.201858</td>\n",
              "      <td>0.013503</td>\n",
              "    </tr>\n",
              "    <tr>\n",
              "      <th>3</th>\n",
              "      <td>0.011650</td>\n",
              "      <td>0.025623</td>\n",
              "      <td>0.005020</td>\n",
              "      <td>0.161010</td>\n",
              "      <td>0.014050</td>\n",
              "    </tr>\n",
              "    <tr>\n",
              "      <th>4</th>\n",
              "      <td>0.046539</td>\n",
              "      <td>0.096565</td>\n",
              "      <td>0.020694</td>\n",
              "      <td>0.128332</td>\n",
              "      <td>0.017003</td>\n",
              "    </tr>\n",
              "    <tr>\n",
              "      <th>5</th>\n",
              "      <td>0.011968</td>\n",
              "      <td>0.027280</td>\n",
              "      <td>0.005020</td>\n",
              "      <td>0.124247</td>\n",
              "      <td>0.019496</td>\n",
              "    </tr>\n",
              "    <tr>\n",
              "      <th>6</th>\n",
              "      <td>0.050895</td>\n",
              "      <td>0.065072</td>\n",
              "      <td>0.021343</td>\n",
              "      <td>0.201858</td>\n",
              "      <td>0.029794</td>\n",
              "    </tr>\n",
              "    <tr>\n",
              "      <th>7</th>\n",
              "      <td>0.041637</td>\n",
              "      <td>0.128113</td>\n",
              "      <td>0.025100</td>\n",
              "      <td>0.046635</td>\n",
              "      <td>0.034612</td>\n",
              "    </tr>\n",
              "    <tr>\n",
              "      <th>8</th>\n",
              "      <td>0.024480</td>\n",
              "      <td>0.106842</td>\n",
              "      <td>0.005020</td>\n",
              "      <td>0.121524</td>\n",
              "      <td>0.035219</td>\n",
              "    </tr>\n",
              "    <tr>\n",
              "      <th>9</th>\n",
              "      <td>0.022656</td>\n",
              "      <td>0.064022</td>\n",
              "      <td>0.005020</td>\n",
              "      <td>0.161010</td>\n",
              "      <td>0.043592</td>\n",
              "    </tr>\n",
              "  </tbody>\n",
              "</table>\n",
              "</div>"
            ],
            "text/plain": [
              "      likes  comments    shares  sentimen_val  durasi_berita\n",
              "0  0.022757  0.095570  0.005020      0.233175       0.008718\n",
              "1  0.058250  0.060265  0.016357      0.166457       0.012769\n",
              "2  0.030302  0.041590  0.009630      0.201858       0.013503\n",
              "3  0.011650  0.025623  0.005020      0.161010       0.014050\n",
              "4  0.046539  0.096565  0.020694      0.128332       0.017003\n",
              "5  0.011968  0.027280  0.005020      0.124247       0.019496\n",
              "6  0.050895  0.065072  0.021343      0.201858       0.029794\n",
              "7  0.041637  0.128113  0.025100      0.046635       0.034612\n",
              "8  0.024480  0.106842  0.005020      0.121524       0.035219\n",
              "9  0.022656  0.064022  0.005020      0.161010       0.043592"
            ]
          },
          "metadata": {
            "tags": []
          },
          "execution_count": 65
        }
      ]
    },
    {
      "cell_type": "markdown",
      "metadata": {
        "id": "F2GWldkijfXV"
      },
      "source": [
        "### **Step 3 :** Menghitung solusi ideal positif dan negatif"
      ]
    },
    {
      "cell_type": "code",
      "metadata": {
        "id": "4BCu3AFjdNPR",
        "colab": {
          "base_uri": "https://localhost:8080/"
        },
        "outputId": "8d49eba7-0221-48a2-ec0e-9c7d7a6226bd"
      },
      "source": [
        "A_Positif=[]\n",
        "A_Negatif=[]\n",
        "for i in range(column):\n",
        "  if criteria[i]==1:\n",
        "    A_Positif.append(max(vij[:,i]))\n",
        "    A_Negatif.append(min(vij[:,i]))\n",
        "  else:\n",
        "    A_Positif.append(min(vij[:,i]))\n",
        "    A_Negatif.append(max(vij[:,i]))\n",
        "\n",
        "print(\"Positive Ideal (A*)\")\n",
        "print(A_Positif)\n",
        "print(\"\\n\")\n",
        "print(\"Negative Ideal (A')\")\n",
        "print(A_Negatif)"
      ],
      "execution_count": 66,
      "outputs": [
        {
          "output_type": "stream",
          "text": [
            "Positive Ideal (A*)\n",
            "[0.058249511647696844, 0.1281132133494298, 0.025099709086756638, 0.23317537705923663, 0.00871832629874616]\n",
            "\n",
            "\n",
            "Negative Ideal (A')\n",
            "[0.01164990232953937, 0.025622642669885957, 0.005019941817351328, 0.04663507541184733, 0.04359163149373079]\n"
          ],
          "name": "stdout"
        }
      ]
    },
    {
      "cell_type": "markdown",
      "metadata": {
        "id": "utU3GhTJqmjO"
      },
      "source": [
        "### **Step 4 :** Menghitung Nilai Separasi"
      ]
    },
    {
      "cell_type": "code",
      "metadata": {
        "id": "wVduSB2tqiWi",
        "colab": {
          "base_uri": "https://localhost:8080/"
        },
        "outputId": "71f38458-f9cf-40e0-d85d-b3d1764ed642"
      },
      "source": [
        "pembagi_Positif=(vij - A_Positif)**2\n",
        "pembagi_Negatif=(vij - A_Negatif)**2\n",
        "\n",
        "S_Positif=[]\n",
        "S_Negatif=[]\n",
        "for j in range(row):\n",
        "  S_Positif.append(sum(pembagi_Positif[j,:])**0.5)\n",
        "  S_Negatif.append(sum(pembagi_Negatif[j,:])**0.5)\n",
        "\n",
        "print(\"Positive Ideal (S*)\")\n",
        "print(S_Positif)\n",
        "print(\"\\n\")\n",
        "print(\"Negative Ideal (S')\")\n",
        "print(S_Negatif)"
      ],
      "execution_count": 67,
      "outputs": [
        {
          "output_type": "stream",
          "text": [
            "Positive Ideal (S*)\n",
            "[0.05217232425940173, 0.0956431401198817, 0.09752047983331032, 0.13533396756577779, 0.11051107738956044, 0.15714358972618467, 0.07394164804945579, 0.18906018752962703, 0.12314424291420013, 0.1104614041158229]\n",
            "\n",
            "\n",
            "Negative Ideal (S')\n",
            "[0.20255736413106631, 0.13714003287285928, 0.1600741262281512, 0.11812863544242198, 0.11780077247409285, 0.08128362044295132, 0.1662754196895942, 0.10902912672292377, 0.11153251036576536, 0.12114996075937103]\n"
          ],
          "name": "stdout"
        }
      ]
    },
    {
      "cell_type": "markdown",
      "metadata": {
        "id": "6fMKR3CZs5oP"
      },
      "source": [
        "### **Step 5 :** Menghitung Solusi Relatif Terdekat dengan Solusi Ideal"
      ]
    },
    {
      "cell_type": "code",
      "metadata": {
        "id": "MHeRXLCHtJ0q",
        "colab": {
          "base_uri": "https://localhost:8080/",
          "height": 347
        },
        "outputId": "6a05c298-44e7-4bd4-dc37-0c03234918d3"
      },
      "source": [
        "np.seterr(all='ignore')\n",
        "S_Positif=np.array(S_Positif)\n",
        "S_Negatif=np.array(S_Negatif)\n",
        "c=S_Negatif/(S_Positif+S_Negatif)\n",
        "# print(\"{}{}\".format(\"C* = \", c))\n",
        "\n",
        "x=0\n",
        "m=0.0\n",
        "for i in range(row):\n",
        "  if c[i]>m or m==None:\n",
        "    m=c[i]\n",
        "    x=i\n",
        "# print ('\\n',df['text'][x],'is the best alternative = ',c[x], '\\n')\n",
        "df_c = pd.DataFrame(df['text'], columns=[\"text\"])\n",
        "df_c['c*'] = pd.DataFrame(c, columns=[\"c*\"])\n",
        "df_c['rank'] = pd.DataFrame(c, columns=[\"rank\"]).rank(ascending=False)\n",
        "df_c"
      ],
      "execution_count": 68,
      "outputs": [
        {
          "output_type": "execute_result",
          "data": {
            "text/html": [
              "<div>\n",
              "<style scoped>\n",
              "    .dataframe tbody tr th:only-of-type {\n",
              "        vertical-align: middle;\n",
              "    }\n",
              "\n",
              "    .dataframe tbody tr th {\n",
              "        vertical-align: top;\n",
              "    }\n",
              "\n",
              "    .dataframe thead th {\n",
              "        text-align: right;\n",
              "    }\n",
              "</style>\n",
              "<table border=\"1\" class=\"dataframe\">\n",
              "  <thead>\n",
              "    <tr style=\"text-align: right;\">\n",
              "      <th></th>\n",
              "      <th>text</th>\n",
              "      <th>c*</th>\n",
              "      <th>rank</th>\n",
              "    </tr>\n",
              "  </thead>\n",
              "  <tbody>\n",
              "    <tr>\n",
              "      <th>0</th>\n",
              "      <td>#Update Perkembangan COVID-19 di Indonesia per...</td>\n",
              "      <td>0.795186</td>\n",
              "      <td>1.0</td>\n",
              "    </tr>\n",
              "    <tr>\n",
              "      <th>1</th>\n",
              "      <td>Stafsus Daniel Tinjau Kesiapan Rumkit TNI AD S...</td>\n",
              "      <td>0.589132</td>\n",
              "      <td>4.0</td>\n",
              "    </tr>\n",
              "    <tr>\n",
              "      <th>2</th>\n",
              "      <td>Peroleh Rekor Muri, Layanan PSC 119 di Sumsel ...</td>\n",
              "      <td>0.621419</td>\n",
              "      <td>3.0</td>\n",
              "    </tr>\n",
              "    <tr>\n",
              "      <th>3</th>\n",
              "      <td>Rakornas KKI: Meningkatkan profesionalisme dok...</td>\n",
              "      <td>0.466059</td>\n",
              "      <td>8.0</td>\n",
              "    </tr>\n",
              "    <tr>\n",
              "      <th>4</th>\n",
              "      <td>Protokol Kesehatan Ketat Percepat Pemulihan Ke...</td>\n",
              "      <td>0.515964</td>\n",
              "      <td>6.0</td>\n",
              "    </tr>\n",
              "    <tr>\n",
              "      <th>5</th>\n",
              "      <td>Selamat Pagi #Healthies\\n\\nAkhir-akhir ini beb...</td>\n",
              "      <td>0.340916</td>\n",
              "      <td>10.0</td>\n",
              "    </tr>\n",
              "    <tr>\n",
              "      <th>6</th>\n",
              "      <td>RSUD Buleleng Mampu Tes PCR Mandiri\\n\\nBali, 2...</td>\n",
              "      <td>0.692188</td>\n",
              "      <td>2.0</td>\n",
              "    </tr>\n",
              "    <tr>\n",
              "      <th>7</th>\n",
              "      <td>Perbaiki Sektor Pariwisata di Masa Pandemi COV...</td>\n",
              "      <td>0.365760</td>\n",
              "      <td>9.0</td>\n",
              "    </tr>\n",
              "    <tr>\n",
              "      <th>8</th>\n",
              "      <td>#Update Perkembangan COVID-19 di Indonesia per...</td>\n",
              "      <td>0.475260</td>\n",
              "      <td>7.0</td>\n",
              "    </tr>\n",
              "    <tr>\n",
              "      <th>9</th>\n",
              "      <td>Hai #Healthies\\n\\nSaat ini di Indonesia ada se...</td>\n",
              "      <td>0.523074</td>\n",
              "      <td>5.0</td>\n",
              "    </tr>\n",
              "  </tbody>\n",
              "</table>\n",
              "</div>"
            ],
            "text/plain": [
              "                                                text        c*  rank\n",
              "0  #Update Perkembangan COVID-19 di Indonesia per...  0.795186   1.0\n",
              "1  Stafsus Daniel Tinjau Kesiapan Rumkit TNI AD S...  0.589132   4.0\n",
              "2  Peroleh Rekor Muri, Layanan PSC 119 di Sumsel ...  0.621419   3.0\n",
              "3  Rakornas KKI: Meningkatkan profesionalisme dok...  0.466059   8.0\n",
              "4  Protokol Kesehatan Ketat Percepat Pemulihan Ke...  0.515964   6.0\n",
              "5  Selamat Pagi #Healthies\\n\\nAkhir-akhir ini beb...  0.340916  10.0\n",
              "6  RSUD Buleleng Mampu Tes PCR Mandiri\\n\\nBali, 2...  0.692188   2.0\n",
              "7  Perbaiki Sektor Pariwisata di Masa Pandemi COV...  0.365760   9.0\n",
              "8  #Update Perkembangan COVID-19 di Indonesia per...  0.475260   7.0\n",
              "9  Hai #Healthies\\n\\nSaat ini di Indonesia ada se...  0.523074   5.0"
            ]
          },
          "metadata": {
            "tags": []
          },
          "execution_count": 68
        }
      ]
    },
    {
      "cell_type": "markdown",
      "metadata": {
        "id": "c8GRyg2h-rtW"
      },
      "source": [
        "## **Perhitungan Akurasi**"
      ]
    },
    {
      "cell_type": "code",
      "metadata": {
        "id": "SQGfUBtz-ogB",
        "colab": {
          "base_uri": "https://localhost:8080/"
        },
        "outputId": "9b0b0bd1-740a-4dda-92ed-4b0dd7ce61e4"
      },
      "source": [
        "rank_list = df_c['rank'].tolist()\n",
        "y_pred = [round(rank) for rank in rank_list]\n",
        "y_true = [1, 4, 3, 6, 8, 10, 2, 9, 7, 5]\n",
        "\n",
        "print('hasil prediksi :', y_pred)\n",
        "print('pakar          :', y_true)"
      ],
      "execution_count": 81,
      "outputs": [
        {
          "output_type": "stream",
          "text": [
            "hasil prediksi : [1, 4, 3, 8, 6, 10, 2, 9, 7, 5]\n",
            "pakar          : [1, 4, 3, 6, 8, 10, 2, 9, 7, 5]\n"
          ],
          "name": "stdout"
        }
      ]
    },
    {
      "cell_type": "code",
      "metadata": {
        "id": "LYJySXQLAKXG",
        "colab": {
          "base_uri": "https://localhost:8080/"
        },
        "outputId": "d406ef1d-75af-4df9-f035-f112babbc38b"
      },
      "source": [
        "accuracy_score(y_true, y_pred)"
      ],
      "execution_count": 82,
      "outputs": [
        {
          "output_type": "execute_result",
          "data": {
            "text/plain": [
              "0.8"
            ]
          },
          "metadata": {
            "tags": []
          },
          "execution_count": 82
        }
      ]
    },
    {
      "cell_type": "code",
      "metadata": {
        "id": "aMBr1eu-nEDm"
      },
      "source": [
        ""
      ],
      "execution_count": 70,
      "outputs": []
    }
  ]
}